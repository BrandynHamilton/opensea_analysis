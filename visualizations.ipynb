{
 "cells": [
  {
   "cell_type": "code",
   "execution_count": 244,
   "metadata": {},
   "outputs": [],
   "source": [
    "import pandas as pd\n",
    "import numpy as np\n",
    "import math\n",
    "\n",
    "from plotly.subplots import make_subplots\n",
    "import plotly.graph_objects as go\n",
    "import plotly.express as px\n",
    "import plotly.io as pio\n",
    "import plotly.offline as pyo\n",
    "\n",
    "\n"
   ]
  },
  {
   "cell_type": "markdown",
   "metadata": {},
   "source": [
    "# Data Retrieval & Cleaning"
   ]
  },
  {
   "cell_type": "code",
   "execution_count": 245,
   "metadata": {},
   "outputs": [],
   "source": [
    "quarterly_data_path = 'data/quarterly_data.csv'\n",
    "quarterly_data = pd.read_csv(quarterly_data_path)\n",
    "quarterly_data.dropna(inplace=True)\n"
   ]
  },
  {
   "cell_type": "code",
   "execution_count": 246,
   "metadata": {},
   "outputs": [],
   "source": [
    "projects_by_vol_path = 'data/projects_by_vol.csv'\n",
    "projects_by_vol = pd.read_csv(projects_by_vol_path)\n",
    "projects_by_vol.dropna(inplace=True)\n"
   ]
  },
  {
   "cell_type": "code",
   "execution_count": 247,
   "metadata": {},
   "outputs": [],
   "source": [
    "quarterly_data['QUARTER'] = quarterly_data['QUARTER'].apply(lambda x: x.strip())\n",
    "\n",
    "# Convert 'QUARTER' column to datetime, with error handling\n",
    "quarterly_data['QUARTER'] = pd.to_datetime(quarterly_data['QUARTER'], errors='coerce')"
   ]
  },
  {
   "cell_type": "code",
   "execution_count": 248,
   "metadata": {},
   "outputs": [],
   "source": [
    "quarterly_data.set_index('QUARTER', inplace=True)\n"
   ]
  },
  {
   "cell_type": "code",
   "execution_count": 249,
   "metadata": {},
   "outputs": [
    {
     "name": "stdout",
     "output_type": "stream",
     "text": [
      "             NETWORK  PERCENTAGE_OF_TOTAL_VOLUME  PERCENTAGE_OF_TOTAL_FEES\n",
      "QUARTER                                                                   \n",
      "2024-04-01  Optimism                    0.444831                  0.086662\n",
      "2024-04-01      Base                   36.747597                 29.582075\n",
      "2024-04-01  Arbitrum                    1.860435                  2.581483\n",
      "2024-04-01  Ethereum                   60.947137                 67.749780\n",
      "2024-01-01  Arbitrum                    2.128596                  2.801301\n",
      "2024-01-01  Ethereum                   91.037882                 89.451095\n",
      "2024-01-01  Optimism                    0.192733                  0.233034\n",
      "2024-01-01      Base                    6.640788                  7.514569\n",
      "2023-10-01      Base                    0.281792                  0.484509\n",
      "2023-10-01  Arbitrum                    1.607893                  2.817077\n",
      "2023-10-01  Optimism                    0.068783                  0.138305\n",
      "2023-10-01  Ethereum                   98.041533                 96.560109\n",
      "2023-07-01      Base                    0.577747                  1.425122\n",
      "2023-07-01  Ethereum                   98.600314                 97.412929\n",
      "2023-07-01  Arbitrum                    0.681468                  1.018561\n",
      "2023-07-01  Optimism                    0.140471                  0.143389\n"
     ]
    }
   ],
   "source": [
    "quarterly_totals = quarterly_data.groupby('QUARTER')['VOLUME_USD'].sum()\n",
    "quarterly_data['PERCENTAGE_OF_TOTAL_VOLUME'] = quarterly_data.apply(\n",
    "    lambda row: (row['VOLUME_USD'] / quarterly_totals[row.name]) * 100,\n",
    "    axis=1\n",
    ")\n",
    "\n",
    "quarterly_totals = quarterly_data.groupby('QUARTER')['TOTAL_FEES_USD'].sum()\n",
    "quarterly_data['PERCENTAGE_OF_TOTAL_FEES'] = quarterly_data.apply(\n",
    "    lambda row: (row['TOTAL_FEES_USD'] / quarterly_totals[row.name]) * 100,\n",
    "    axis=1\n",
    ")\n",
    "\n",
    "# Print the DataFrame with the new column for verification\n",
    "print(quarterly_data[['NETWORK', 'PERCENTAGE_OF_TOTAL_VOLUME','PERCENTAGE_OF_TOTAL_FEES']])"
   ]
  },
  {
   "cell_type": "code",
   "execution_count": 250,
   "metadata": {},
   "outputs": [
    {
     "name": "stdout",
     "output_type": "stream",
     "text": [
      "     QUARTER LAYER    VOLUME_USD  TOTAL_FEES_USD  UNIQUE_TOTAL_USERS  \\\n",
      "0 2023-07-01    L1  2.108915e+08    9.204380e+06            245918.0   \n",
      "1 2023-07-01    L2  2.993722e+06    2.444479e+05            111767.0   \n",
      "2 2023-10-01    L1  3.372263e+08    1.018415e+07            219847.0   \n",
      "3 2023-10-01    L2  6.736397e+06    3.628039e+05             91174.0   \n",
      "4 2024-01-01    L1  3.134141e+08    1.056557e+07            207228.0   \n",
      "5 2024-01-01    L2  3.085369e+07    1.245990e+06            116469.0   \n",
      "6 2024-04-01    L1  1.464951e+08    4.000557e+06            119206.0   \n",
      "7 2024-04-01    L2  9.386908e+07    1.904343e+06            254842.0   \n",
      "\n",
      "   PERCENTAGE_OF_TOTAL_FEES  \n",
      "0                 97.412929  \n",
      "1                  2.587071  \n",
      "2                 96.560109  \n",
      "3                  3.439891  \n",
      "4                 89.451095  \n",
      "5                 10.548905  \n",
      "6                 67.749780  \n",
      "7                 32.250220  \n"
     ]
    }
   ],
   "source": [
    "quarterly_totals_layers = quarterly_data.groupby(['QUARTER', 'LAYER'])[['VOLUME_USD', 'TOTAL_FEES_USD', 'UNIQUE_TOTAL_USERS']].sum()\n",
    "quarterly_totals_layers = quarterly_totals_layers.reset_index()\n",
    "\n",
    "quarterly_totals_2 = quarterly_totals_layers.groupby('QUARTER')['TOTAL_FEES_USD'].sum()\n",
    "\n",
    "# Calculate percentage of total fees\n",
    "quarterly_totals_layers['PERCENTAGE_OF_TOTAL_FEES'] = quarterly_totals_layers.apply(\n",
    "    lambda row: (row['TOTAL_FEES_USD'] / quarterly_totals_2[row['QUARTER']]) * 100,\n",
    "    axis=1\n",
    ")\n",
    "\n",
    "print(quarterly_totals_layers)"
   ]
  },
  {
   "cell_type": "code",
   "execution_count": 251,
   "metadata": {},
   "outputs": [],
   "source": [
    "quarterly_data = quarterly_data.reset_index()"
   ]
  },
  {
   "cell_type": "code",
   "execution_count": 252,
   "metadata": {},
   "outputs": [],
   "source": [
    "quarterly_data['QUARTER_PERIOD'] = quarterly_data['QUARTER'].dt.to_period('Q')\n",
    "quarterly_data['QUARTER_STR'] = quarterly_data['QUARTER_PERIOD'].apply(lambda p: f\"{p.year} Q{p.quarter}\")\n"
   ]
  },
  {
   "cell_type": "code",
   "execution_count": 253,
   "metadata": {},
   "outputs": [
    {
     "data": {
      "text/html": [
       "<div>\n",
       "<style scoped>\n",
       "    .dataframe tbody tr th:only-of-type {\n",
       "        vertical-align: middle;\n",
       "    }\n",
       "\n",
       "    .dataframe tbody tr th {\n",
       "        vertical-align: top;\n",
       "    }\n",
       "\n",
       "    .dataframe thead th {\n",
       "        text-align: right;\n",
       "    }\n",
       "</style>\n",
       "<table border=\"1\" class=\"dataframe\">\n",
       "  <thead>\n",
       "    <tr style=\"text-align: right;\">\n",
       "      <th></th>\n",
       "      <th>QUARTER</th>\n",
       "      <th>LAYER</th>\n",
       "      <th>VOLUME_USD</th>\n",
       "      <th>TOTAL_FEES_USD</th>\n",
       "      <th>UNIQUE_TOTAL_USERS</th>\n",
       "      <th>PERCENTAGE_OF_TOTAL_FEES</th>\n",
       "      <th>CUMULATIVE_FEES</th>\n",
       "    </tr>\n",
       "  </thead>\n",
       "  <tbody>\n",
       "    <tr>\n",
       "      <th>0</th>\n",
       "      <td>2023-07-01</td>\n",
       "      <td>L1</td>\n",
       "      <td>2.108915e+08</td>\n",
       "      <td>9.204380e+06</td>\n",
       "      <td>245918.0</td>\n",
       "      <td>97.412929</td>\n",
       "      <td>9.204380e+06</td>\n",
       "    </tr>\n",
       "    <tr>\n",
       "      <th>1</th>\n",
       "      <td>2023-07-01</td>\n",
       "      <td>L2</td>\n",
       "      <td>2.993722e+06</td>\n",
       "      <td>2.444479e+05</td>\n",
       "      <td>111767.0</td>\n",
       "      <td>2.587071</td>\n",
       "      <td>2.444479e+05</td>\n",
       "    </tr>\n",
       "    <tr>\n",
       "      <th>2</th>\n",
       "      <td>2023-10-01</td>\n",
       "      <td>L1</td>\n",
       "      <td>3.372263e+08</td>\n",
       "      <td>1.018415e+07</td>\n",
       "      <td>219847.0</td>\n",
       "      <td>96.560109</td>\n",
       "      <td>1.018415e+07</td>\n",
       "    </tr>\n",
       "    <tr>\n",
       "      <th>3</th>\n",
       "      <td>2023-10-01</td>\n",
       "      <td>L2</td>\n",
       "      <td>6.736397e+06</td>\n",
       "      <td>3.628039e+05</td>\n",
       "      <td>91174.0</td>\n",
       "      <td>3.439891</td>\n",
       "      <td>3.628039e+05</td>\n",
       "    </tr>\n",
       "    <tr>\n",
       "      <th>4</th>\n",
       "      <td>2024-01-01</td>\n",
       "      <td>L1</td>\n",
       "      <td>3.134141e+08</td>\n",
       "      <td>1.056557e+07</td>\n",
       "      <td>207228.0</td>\n",
       "      <td>89.451095</td>\n",
       "      <td>1.056557e+07</td>\n",
       "    </tr>\n",
       "    <tr>\n",
       "      <th>5</th>\n",
       "      <td>2024-01-01</td>\n",
       "      <td>L2</td>\n",
       "      <td>3.085369e+07</td>\n",
       "      <td>1.245990e+06</td>\n",
       "      <td>116469.0</td>\n",
       "      <td>10.548905</td>\n",
       "      <td>1.245990e+06</td>\n",
       "    </tr>\n",
       "    <tr>\n",
       "      <th>6</th>\n",
       "      <td>2024-04-01</td>\n",
       "      <td>L1</td>\n",
       "      <td>1.464951e+08</td>\n",
       "      <td>4.000557e+06</td>\n",
       "      <td>119206.0</td>\n",
       "      <td>67.749780</td>\n",
       "      <td>4.000557e+06</td>\n",
       "    </tr>\n",
       "    <tr>\n",
       "      <th>7</th>\n",
       "      <td>2024-04-01</td>\n",
       "      <td>L2</td>\n",
       "      <td>9.386908e+07</td>\n",
       "      <td>1.904343e+06</td>\n",
       "      <td>254842.0</td>\n",
       "      <td>32.250220</td>\n",
       "      <td>1.904343e+06</td>\n",
       "    </tr>\n",
       "  </tbody>\n",
       "</table>\n",
       "</div>"
      ],
      "text/plain": [
       "     QUARTER LAYER    VOLUME_USD  TOTAL_FEES_USD  UNIQUE_TOTAL_USERS  \\\n",
       "0 2023-07-01    L1  2.108915e+08    9.204380e+06            245918.0   \n",
       "1 2023-07-01    L2  2.993722e+06    2.444479e+05            111767.0   \n",
       "2 2023-10-01    L1  3.372263e+08    1.018415e+07            219847.0   \n",
       "3 2023-10-01    L2  6.736397e+06    3.628039e+05             91174.0   \n",
       "4 2024-01-01    L1  3.134141e+08    1.056557e+07            207228.0   \n",
       "5 2024-01-01    L2  3.085369e+07    1.245990e+06            116469.0   \n",
       "6 2024-04-01    L1  1.464951e+08    4.000557e+06            119206.0   \n",
       "7 2024-04-01    L2  9.386908e+07    1.904343e+06            254842.0   \n",
       "\n",
       "   PERCENTAGE_OF_TOTAL_FEES  CUMULATIVE_FEES  \n",
       "0                 97.412929     9.204380e+06  \n",
       "1                  2.587071     2.444479e+05  \n",
       "2                 96.560109     1.018415e+07  \n",
       "3                  3.439891     3.628039e+05  \n",
       "4                 89.451095     1.056557e+07  \n",
       "5                 10.548905     1.245990e+06  \n",
       "6                 67.749780     4.000557e+06  \n",
       "7                 32.250220     1.904343e+06  "
      ]
     },
     "execution_count": 253,
     "metadata": {},
     "output_type": "execute_result"
    }
   ],
   "source": [
    "quarterly_totals_layers['CUMULATIVE_FEES'] = quarterly_totals_layers.groupby(['LAYER', 'QUARTER'])['TOTAL_FEES_USD'].cumsum()\n",
    "quarterly_totals_layers"
   ]
  },
  {
   "cell_type": "markdown",
   "metadata": {},
   "source": [
    "# Visualizations"
   ]
  },
  {
   "cell_type": "code",
   "execution_count": 254,
   "metadata": {},
   "outputs": [],
   "source": [
    "color_map = {\n",
    "    'Base': 'blue',\n",
    "    'Arbitrum': 'red',\n",
    "    'Ethereum': '#6cfdd2',\n",
    "    'Optimism': 'purple',\n",
    "    'L1': 'orange',\n",
    "    'L2': 'green'\n",
    "}\n",
    "\n",
    "legend_order = ['Arbitrum', 'Base','Ethereum', 'Optimism']\n"
   ]
  },
  {
   "cell_type": "code",
   "execution_count": 255,
   "metadata": {},
   "outputs": [
    {
     "data": {
      "text/html": [
       "<div>\n",
       "<style scoped>\n",
       "    .dataframe tbody tr th:only-of-type {\n",
       "        vertical-align: middle;\n",
       "    }\n",
       "\n",
       "    .dataframe tbody tr th {\n",
       "        vertical-align: top;\n",
       "    }\n",
       "\n",
       "    .dataframe thead th {\n",
       "        text-align: right;\n",
       "    }\n",
       "</style>\n",
       "<table border=\"1\" class=\"dataframe\">\n",
       "  <thead>\n",
       "    <tr style=\"text-align: right;\">\n",
       "      <th></th>\n",
       "      <th>QUARTER</th>\n",
       "      <th>VOLUME_USD</th>\n",
       "      <th>TOTAL_FEES_USD</th>\n",
       "      <th>UNIQUE_TOTAL_USERS</th>\n",
       "      <th>NETWORK</th>\n",
       "      <th>LAYER</th>\n",
       "      <th>PERCENTAGE_OF_TOTAL_VOLUME</th>\n",
       "      <th>PERCENTAGE_OF_TOTAL_FEES</th>\n",
       "      <th>QUARTER_PERIOD</th>\n",
       "      <th>QUARTER_STR</th>\n",
       "    </tr>\n",
       "  </thead>\n",
       "  <tbody>\n",
       "    <tr>\n",
       "      <th>0</th>\n",
       "      <td>2024-04-01</td>\n",
       "      <td>1.069214e+06</td>\n",
       "      <td>5.117316e+03</td>\n",
       "      <td>8621.0</td>\n",
       "      <td>Optimism</td>\n",
       "      <td>L2</td>\n",
       "      <td>0.444831</td>\n",
       "      <td>0.086662</td>\n",
       "      <td>2024Q2</td>\n",
       "      <td>2024 Q2</td>\n",
       "    </tr>\n",
       "    <tr>\n",
       "      <th>1</th>\n",
       "      <td>2024-04-01</td>\n",
       "      <td>8.832805e+07</td>\n",
       "      <td>1.746792e+06</td>\n",
       "      <td>224213.0</td>\n",
       "      <td>Base</td>\n",
       "      <td>L2</td>\n",
       "      <td>36.747597</td>\n",
       "      <td>29.582075</td>\n",
       "      <td>2024Q2</td>\n",
       "      <td>2024 Q2</td>\n",
       "    </tr>\n",
       "    <tr>\n",
       "      <th>2</th>\n",
       "      <td>2024-04-01</td>\n",
       "      <td>4.471819e+06</td>\n",
       "      <td>1.524340e+05</td>\n",
       "      <td>22008.0</td>\n",
       "      <td>Arbitrum</td>\n",
       "      <td>L2</td>\n",
       "      <td>1.860435</td>\n",
       "      <td>2.581483</td>\n",
       "      <td>2024Q2</td>\n",
       "      <td>2024 Q2</td>\n",
       "    </tr>\n",
       "    <tr>\n",
       "      <th>3</th>\n",
       "      <td>2024-04-01</td>\n",
       "      <td>1.464951e+08</td>\n",
       "      <td>4.000557e+06</td>\n",
       "      <td>119206.0</td>\n",
       "      <td>Ethereum</td>\n",
       "      <td>L1</td>\n",
       "      <td>60.947137</td>\n",
       "      <td>67.749780</td>\n",
       "      <td>2024Q2</td>\n",
       "      <td>2024 Q2</td>\n",
       "    </tr>\n",
       "    <tr>\n",
       "      <th>4</th>\n",
       "      <td>2024-01-01</td>\n",
       "      <td>7.328073e+06</td>\n",
       "      <td>3.308773e+05</td>\n",
       "      <td>27181.0</td>\n",
       "      <td>Arbitrum</td>\n",
       "      <td>L2</td>\n",
       "      <td>2.128596</td>\n",
       "      <td>2.801301</td>\n",
       "      <td>2024Q1</td>\n",
       "      <td>2024 Q1</td>\n",
       "    </tr>\n",
       "    <tr>\n",
       "      <th>5</th>\n",
       "      <td>2024-01-01</td>\n",
       "      <td>3.134141e+08</td>\n",
       "      <td>1.056557e+07</td>\n",
       "      <td>207228.0</td>\n",
       "      <td>Ethereum</td>\n",
       "      <td>L1</td>\n",
       "      <td>91.037882</td>\n",
       "      <td>89.451095</td>\n",
       "      <td>2024Q1</td>\n",
       "      <td>2024 Q1</td>\n",
       "    </tr>\n",
       "    <tr>\n",
       "      <th>6</th>\n",
       "      <td>2024-01-01</td>\n",
       "      <td>6.635193e+05</td>\n",
       "      <td>2.752500e+04</td>\n",
       "      <td>15267.0</td>\n",
       "      <td>Optimism</td>\n",
       "      <td>L2</td>\n",
       "      <td>0.192733</td>\n",
       "      <td>0.233034</td>\n",
       "      <td>2024Q1</td>\n",
       "      <td>2024 Q1</td>\n",
       "    </tr>\n",
       "    <tr>\n",
       "      <th>7</th>\n",
       "      <td>2024-01-01</td>\n",
       "      <td>2.286210e+07</td>\n",
       "      <td>8.875876e+05</td>\n",
       "      <td>74021.0</td>\n",
       "      <td>Base</td>\n",
       "      <td>L2</td>\n",
       "      <td>6.640788</td>\n",
       "      <td>7.514569</td>\n",
       "      <td>2024Q1</td>\n",
       "      <td>2024 Q1</td>\n",
       "    </tr>\n",
       "    <tr>\n",
       "      <th>8</th>\n",
       "      <td>2023-10-01</td>\n",
       "      <td>9.692585e+05</td>\n",
       "      <td>5.110091e+04</td>\n",
       "      <td>23088.0</td>\n",
       "      <td>Base</td>\n",
       "      <td>L2</td>\n",
       "      <td>0.281792</td>\n",
       "      <td>0.484509</td>\n",
       "      <td>2023Q4</td>\n",
       "      <td>2023 Q4</td>\n",
       "    </tr>\n",
       "    <tr>\n",
       "      <th>9</th>\n",
       "      <td>2023-10-01</td>\n",
       "      <td>5.530552e+06</td>\n",
       "      <td>2.971159e+05</td>\n",
       "      <td>53935.0</td>\n",
       "      <td>Arbitrum</td>\n",
       "      <td>L2</td>\n",
       "      <td>1.607893</td>\n",
       "      <td>2.817077</td>\n",
       "      <td>2023Q4</td>\n",
       "      <td>2023 Q4</td>\n",
       "    </tr>\n",
       "    <tr>\n",
       "      <th>10</th>\n",
       "      <td>2023-10-01</td>\n",
       "      <td>2.365863e+05</td>\n",
       "      <td>1.458702e+04</td>\n",
       "      <td>14151.0</td>\n",
       "      <td>Optimism</td>\n",
       "      <td>L2</td>\n",
       "      <td>0.068783</td>\n",
       "      <td>0.138305</td>\n",
       "      <td>2023Q4</td>\n",
       "      <td>2023 Q4</td>\n",
       "    </tr>\n",
       "    <tr>\n",
       "      <th>11</th>\n",
       "      <td>2023-10-01</td>\n",
       "      <td>3.372263e+08</td>\n",
       "      <td>1.018415e+07</td>\n",
       "      <td>219847.0</td>\n",
       "      <td>Ethereum</td>\n",
       "      <td>L1</td>\n",
       "      <td>98.041533</td>\n",
       "      <td>96.560109</td>\n",
       "      <td>2023Q4</td>\n",
       "      <td>2023 Q4</td>\n",
       "    </tr>\n",
       "    <tr>\n",
       "      <th>12</th>\n",
       "      <td>2023-07-01</td>\n",
       "      <td>1.235715e+06</td>\n",
       "      <td>1.346573e+05</td>\n",
       "      <td>42927.0</td>\n",
       "      <td>Base</td>\n",
       "      <td>L2</td>\n",
       "      <td>0.577747</td>\n",
       "      <td>1.425122</td>\n",
       "      <td>2023Q3</td>\n",
       "      <td>2023 Q3</td>\n",
       "    </tr>\n",
       "    <tr>\n",
       "      <th>13</th>\n",
       "      <td>2023-07-01</td>\n",
       "      <td>2.108915e+08</td>\n",
       "      <td>9.204380e+06</td>\n",
       "      <td>245918.0</td>\n",
       "      <td>Ethereum</td>\n",
       "      <td>L1</td>\n",
       "      <td>98.600314</td>\n",
       "      <td>97.412929</td>\n",
       "      <td>2023Q3</td>\n",
       "      <td>2023 Q3</td>\n",
       "    </tr>\n",
       "    <tr>\n",
       "      <th>14</th>\n",
       "      <td>2023-07-01</td>\n",
       "      <td>1.457560e+06</td>\n",
       "      <td>9.624207e+04</td>\n",
       "      <td>22758.0</td>\n",
       "      <td>Arbitrum</td>\n",
       "      <td>L2</td>\n",
       "      <td>0.681468</td>\n",
       "      <td>1.018561</td>\n",
       "      <td>2023Q3</td>\n",
       "      <td>2023 Q3</td>\n",
       "    </tr>\n",
       "    <tr>\n",
       "      <th>15</th>\n",
       "      <td>2023-07-01</td>\n",
       "      <td>3.004463e+05</td>\n",
       "      <td>1.354855e+04</td>\n",
       "      <td>46082.0</td>\n",
       "      <td>Optimism</td>\n",
       "      <td>L2</td>\n",
       "      <td>0.140471</td>\n",
       "      <td>0.143389</td>\n",
       "      <td>2023Q3</td>\n",
       "      <td>2023 Q3</td>\n",
       "    </tr>\n",
       "  </tbody>\n",
       "</table>\n",
       "</div>"
      ],
      "text/plain": [
       "      QUARTER    VOLUME_USD  TOTAL_FEES_USD  UNIQUE_TOTAL_USERS   NETWORK  \\\n",
       "0  2024-04-01  1.069214e+06    5.117316e+03              8621.0  Optimism   \n",
       "1  2024-04-01  8.832805e+07    1.746792e+06            224213.0      Base   \n",
       "2  2024-04-01  4.471819e+06    1.524340e+05             22008.0  Arbitrum   \n",
       "3  2024-04-01  1.464951e+08    4.000557e+06            119206.0  Ethereum   \n",
       "4  2024-01-01  7.328073e+06    3.308773e+05             27181.0  Arbitrum   \n",
       "5  2024-01-01  3.134141e+08    1.056557e+07            207228.0  Ethereum   \n",
       "6  2024-01-01  6.635193e+05    2.752500e+04             15267.0  Optimism   \n",
       "7  2024-01-01  2.286210e+07    8.875876e+05             74021.0      Base   \n",
       "8  2023-10-01  9.692585e+05    5.110091e+04             23088.0      Base   \n",
       "9  2023-10-01  5.530552e+06    2.971159e+05             53935.0  Arbitrum   \n",
       "10 2023-10-01  2.365863e+05    1.458702e+04             14151.0  Optimism   \n",
       "11 2023-10-01  3.372263e+08    1.018415e+07            219847.0  Ethereum   \n",
       "12 2023-07-01  1.235715e+06    1.346573e+05             42927.0      Base   \n",
       "13 2023-07-01  2.108915e+08    9.204380e+06            245918.0  Ethereum   \n",
       "14 2023-07-01  1.457560e+06    9.624207e+04             22758.0  Arbitrum   \n",
       "15 2023-07-01  3.004463e+05    1.354855e+04             46082.0  Optimism   \n",
       "\n",
       "   LAYER  PERCENTAGE_OF_TOTAL_VOLUME  PERCENTAGE_OF_TOTAL_FEES QUARTER_PERIOD  \\\n",
       "0     L2                    0.444831                  0.086662         2024Q2   \n",
       "1     L2                   36.747597                 29.582075         2024Q2   \n",
       "2     L2                    1.860435                  2.581483         2024Q2   \n",
       "3     L1                   60.947137                 67.749780         2024Q2   \n",
       "4     L2                    2.128596                  2.801301         2024Q1   \n",
       "5     L1                   91.037882                 89.451095         2024Q1   \n",
       "6     L2                    0.192733                  0.233034         2024Q1   \n",
       "7     L2                    6.640788                  7.514569         2024Q1   \n",
       "8     L2                    0.281792                  0.484509         2023Q4   \n",
       "9     L2                    1.607893                  2.817077         2023Q4   \n",
       "10    L2                    0.068783                  0.138305         2023Q4   \n",
       "11    L1                   98.041533                 96.560109         2023Q4   \n",
       "12    L2                    0.577747                  1.425122         2023Q3   \n",
       "13    L1                   98.600314                 97.412929         2023Q3   \n",
       "14    L2                    0.681468                  1.018561         2023Q3   \n",
       "15    L2                    0.140471                  0.143389         2023Q3   \n",
       "\n",
       "   QUARTER_STR  \n",
       "0      2024 Q2  \n",
       "1      2024 Q2  \n",
       "2      2024 Q2  \n",
       "3      2024 Q2  \n",
       "4      2024 Q1  \n",
       "5      2024 Q1  \n",
       "6      2024 Q1  \n",
       "7      2024 Q1  \n",
       "8      2023 Q4  \n",
       "9      2023 Q4  \n",
       "10     2023 Q4  \n",
       "11     2023 Q4  \n",
       "12     2023 Q3  \n",
       "13     2023 Q3  \n",
       "14     2023 Q3  \n",
       "15     2023 Q3  "
      ]
     },
     "execution_count": 255,
     "metadata": {},
     "output_type": "execute_result"
    }
   ],
   "source": [
    "quarterly_data"
   ]
  },
  {
   "cell_type": "code",
   "execution_count": 256,
   "metadata": {},
   "outputs": [
    {
     "data": {
      "text/html": [
       "<div>\n",
       "<style scoped>\n",
       "    .dataframe tbody tr th:only-of-type {\n",
       "        vertical-align: middle;\n",
       "    }\n",
       "\n",
       "    .dataframe tbody tr th {\n",
       "        vertical-align: top;\n",
       "    }\n",
       "\n",
       "    .dataframe thead th {\n",
       "        text-align: right;\n",
       "    }\n",
       "</style>\n",
       "<table border=\"1\" class=\"dataframe\">\n",
       "  <thead>\n",
       "    <tr style=\"text-align: right;\">\n",
       "      <th></th>\n",
       "      <th>QUARTER</th>\n",
       "      <th>VOLUME_USD</th>\n",
       "      <th>TOTAL_FEES_USD</th>\n",
       "      <th>UNIQUE_TOTAL_USERS</th>\n",
       "      <th>NETWORK</th>\n",
       "      <th>LAYER</th>\n",
       "      <th>PERCENTAGE_OF_TOTAL_VOLUME</th>\n",
       "      <th>PERCENTAGE_OF_TOTAL_FEES</th>\n",
       "      <th>QUARTER_PERIOD</th>\n",
       "      <th>QUARTER_STR</th>\n",
       "    </tr>\n",
       "  </thead>\n",
       "  <tbody>\n",
       "    <tr>\n",
       "      <th>0</th>\n",
       "      <td>2024-04-01</td>\n",
       "      <td>1.069214e+06</td>\n",
       "      <td>5.117316e+03</td>\n",
       "      <td>8621.0</td>\n",
       "      <td>Optimism</td>\n",
       "      <td>L2</td>\n",
       "      <td>0.444831</td>\n",
       "      <td>0.086662</td>\n",
       "      <td>2024Q2</td>\n",
       "      <td>2024 Q2</td>\n",
       "    </tr>\n",
       "    <tr>\n",
       "      <th>1</th>\n",
       "      <td>2024-04-01</td>\n",
       "      <td>8.832805e+07</td>\n",
       "      <td>1.746792e+06</td>\n",
       "      <td>224213.0</td>\n",
       "      <td>Base</td>\n",
       "      <td>L2</td>\n",
       "      <td>36.747597</td>\n",
       "      <td>29.582075</td>\n",
       "      <td>2024Q2</td>\n",
       "      <td>2024 Q2</td>\n",
       "    </tr>\n",
       "    <tr>\n",
       "      <th>2</th>\n",
       "      <td>2024-04-01</td>\n",
       "      <td>4.471819e+06</td>\n",
       "      <td>1.524340e+05</td>\n",
       "      <td>22008.0</td>\n",
       "      <td>Arbitrum</td>\n",
       "      <td>L2</td>\n",
       "      <td>1.860435</td>\n",
       "      <td>2.581483</td>\n",
       "      <td>2024Q2</td>\n",
       "      <td>2024 Q2</td>\n",
       "    </tr>\n",
       "    <tr>\n",
       "      <th>3</th>\n",
       "      <td>2024-04-01</td>\n",
       "      <td>1.464951e+08</td>\n",
       "      <td>4.000557e+06</td>\n",
       "      <td>119206.0</td>\n",
       "      <td>Ethereum</td>\n",
       "      <td>L1</td>\n",
       "      <td>60.947137</td>\n",
       "      <td>67.749780</td>\n",
       "      <td>2024Q2</td>\n",
       "      <td>2024 Q2</td>\n",
       "    </tr>\n",
       "    <tr>\n",
       "      <th>4</th>\n",
       "      <td>2024-01-01</td>\n",
       "      <td>7.328073e+06</td>\n",
       "      <td>3.308773e+05</td>\n",
       "      <td>27181.0</td>\n",
       "      <td>Arbitrum</td>\n",
       "      <td>L2</td>\n",
       "      <td>2.128596</td>\n",
       "      <td>2.801301</td>\n",
       "      <td>2024Q1</td>\n",
       "      <td>2024 Q1</td>\n",
       "    </tr>\n",
       "    <tr>\n",
       "      <th>5</th>\n",
       "      <td>2024-01-01</td>\n",
       "      <td>3.134141e+08</td>\n",
       "      <td>1.056557e+07</td>\n",
       "      <td>207228.0</td>\n",
       "      <td>Ethereum</td>\n",
       "      <td>L1</td>\n",
       "      <td>91.037882</td>\n",
       "      <td>89.451095</td>\n",
       "      <td>2024Q1</td>\n",
       "      <td>2024 Q1</td>\n",
       "    </tr>\n",
       "    <tr>\n",
       "      <th>6</th>\n",
       "      <td>2024-01-01</td>\n",
       "      <td>6.635193e+05</td>\n",
       "      <td>2.752500e+04</td>\n",
       "      <td>15267.0</td>\n",
       "      <td>Optimism</td>\n",
       "      <td>L2</td>\n",
       "      <td>0.192733</td>\n",
       "      <td>0.233034</td>\n",
       "      <td>2024Q1</td>\n",
       "      <td>2024 Q1</td>\n",
       "    </tr>\n",
       "    <tr>\n",
       "      <th>7</th>\n",
       "      <td>2024-01-01</td>\n",
       "      <td>2.286210e+07</td>\n",
       "      <td>8.875876e+05</td>\n",
       "      <td>74021.0</td>\n",
       "      <td>Base</td>\n",
       "      <td>L2</td>\n",
       "      <td>6.640788</td>\n",
       "      <td>7.514569</td>\n",
       "      <td>2024Q1</td>\n",
       "      <td>2024 Q1</td>\n",
       "    </tr>\n",
       "    <tr>\n",
       "      <th>8</th>\n",
       "      <td>2023-10-01</td>\n",
       "      <td>9.692585e+05</td>\n",
       "      <td>5.110091e+04</td>\n",
       "      <td>23088.0</td>\n",
       "      <td>Base</td>\n",
       "      <td>L2</td>\n",
       "      <td>0.281792</td>\n",
       "      <td>0.484509</td>\n",
       "      <td>2023Q4</td>\n",
       "      <td>2023 Q4</td>\n",
       "    </tr>\n",
       "    <tr>\n",
       "      <th>9</th>\n",
       "      <td>2023-10-01</td>\n",
       "      <td>5.530552e+06</td>\n",
       "      <td>2.971159e+05</td>\n",
       "      <td>53935.0</td>\n",
       "      <td>Arbitrum</td>\n",
       "      <td>L2</td>\n",
       "      <td>1.607893</td>\n",
       "      <td>2.817077</td>\n",
       "      <td>2023Q4</td>\n",
       "      <td>2023 Q4</td>\n",
       "    </tr>\n",
       "    <tr>\n",
       "      <th>10</th>\n",
       "      <td>2023-10-01</td>\n",
       "      <td>2.365863e+05</td>\n",
       "      <td>1.458702e+04</td>\n",
       "      <td>14151.0</td>\n",
       "      <td>Optimism</td>\n",
       "      <td>L2</td>\n",
       "      <td>0.068783</td>\n",
       "      <td>0.138305</td>\n",
       "      <td>2023Q4</td>\n",
       "      <td>2023 Q4</td>\n",
       "    </tr>\n",
       "    <tr>\n",
       "      <th>11</th>\n",
       "      <td>2023-10-01</td>\n",
       "      <td>3.372263e+08</td>\n",
       "      <td>1.018415e+07</td>\n",
       "      <td>219847.0</td>\n",
       "      <td>Ethereum</td>\n",
       "      <td>L1</td>\n",
       "      <td>98.041533</td>\n",
       "      <td>96.560109</td>\n",
       "      <td>2023Q4</td>\n",
       "      <td>2023 Q4</td>\n",
       "    </tr>\n",
       "    <tr>\n",
       "      <th>12</th>\n",
       "      <td>2023-07-01</td>\n",
       "      <td>1.235715e+06</td>\n",
       "      <td>1.346573e+05</td>\n",
       "      <td>42927.0</td>\n",
       "      <td>Base</td>\n",
       "      <td>L2</td>\n",
       "      <td>0.577747</td>\n",
       "      <td>1.425122</td>\n",
       "      <td>2023Q3</td>\n",
       "      <td>2023 Q3</td>\n",
       "    </tr>\n",
       "    <tr>\n",
       "      <th>13</th>\n",
       "      <td>2023-07-01</td>\n",
       "      <td>2.108915e+08</td>\n",
       "      <td>9.204380e+06</td>\n",
       "      <td>245918.0</td>\n",
       "      <td>Ethereum</td>\n",
       "      <td>L1</td>\n",
       "      <td>98.600314</td>\n",
       "      <td>97.412929</td>\n",
       "      <td>2023Q3</td>\n",
       "      <td>2023 Q3</td>\n",
       "    </tr>\n",
       "    <tr>\n",
       "      <th>14</th>\n",
       "      <td>2023-07-01</td>\n",
       "      <td>1.457560e+06</td>\n",
       "      <td>9.624207e+04</td>\n",
       "      <td>22758.0</td>\n",
       "      <td>Arbitrum</td>\n",
       "      <td>L2</td>\n",
       "      <td>0.681468</td>\n",
       "      <td>1.018561</td>\n",
       "      <td>2023Q3</td>\n",
       "      <td>2023 Q3</td>\n",
       "    </tr>\n",
       "    <tr>\n",
       "      <th>15</th>\n",
       "      <td>2023-07-01</td>\n",
       "      <td>3.004463e+05</td>\n",
       "      <td>1.354855e+04</td>\n",
       "      <td>46082.0</td>\n",
       "      <td>Optimism</td>\n",
       "      <td>L2</td>\n",
       "      <td>0.140471</td>\n",
       "      <td>0.143389</td>\n",
       "      <td>2023Q3</td>\n",
       "      <td>2023 Q3</td>\n",
       "    </tr>\n",
       "  </tbody>\n",
       "</table>\n",
       "</div>"
      ],
      "text/plain": [
       "      QUARTER    VOLUME_USD  TOTAL_FEES_USD  UNIQUE_TOTAL_USERS   NETWORK  \\\n",
       "0  2024-04-01  1.069214e+06    5.117316e+03              8621.0  Optimism   \n",
       "1  2024-04-01  8.832805e+07    1.746792e+06            224213.0      Base   \n",
       "2  2024-04-01  4.471819e+06    1.524340e+05             22008.0  Arbitrum   \n",
       "3  2024-04-01  1.464951e+08    4.000557e+06            119206.0  Ethereum   \n",
       "4  2024-01-01  7.328073e+06    3.308773e+05             27181.0  Arbitrum   \n",
       "5  2024-01-01  3.134141e+08    1.056557e+07            207228.0  Ethereum   \n",
       "6  2024-01-01  6.635193e+05    2.752500e+04             15267.0  Optimism   \n",
       "7  2024-01-01  2.286210e+07    8.875876e+05             74021.0      Base   \n",
       "8  2023-10-01  9.692585e+05    5.110091e+04             23088.0      Base   \n",
       "9  2023-10-01  5.530552e+06    2.971159e+05             53935.0  Arbitrum   \n",
       "10 2023-10-01  2.365863e+05    1.458702e+04             14151.0  Optimism   \n",
       "11 2023-10-01  3.372263e+08    1.018415e+07            219847.0  Ethereum   \n",
       "12 2023-07-01  1.235715e+06    1.346573e+05             42927.0      Base   \n",
       "13 2023-07-01  2.108915e+08    9.204380e+06            245918.0  Ethereum   \n",
       "14 2023-07-01  1.457560e+06    9.624207e+04             22758.0  Arbitrum   \n",
       "15 2023-07-01  3.004463e+05    1.354855e+04             46082.0  Optimism   \n",
       "\n",
       "   LAYER  PERCENTAGE_OF_TOTAL_VOLUME  PERCENTAGE_OF_TOTAL_FEES QUARTER_PERIOD  \\\n",
       "0     L2                    0.444831                  0.086662         2024Q2   \n",
       "1     L2                   36.747597                 29.582075         2024Q2   \n",
       "2     L2                    1.860435                  2.581483         2024Q2   \n",
       "3     L1                   60.947137                 67.749780         2024Q2   \n",
       "4     L2                    2.128596                  2.801301         2024Q1   \n",
       "5     L1                   91.037882                 89.451095         2024Q1   \n",
       "6     L2                    0.192733                  0.233034         2024Q1   \n",
       "7     L2                    6.640788                  7.514569         2024Q1   \n",
       "8     L2                    0.281792                  0.484509         2023Q4   \n",
       "9     L2                    1.607893                  2.817077         2023Q4   \n",
       "10    L2                    0.068783                  0.138305         2023Q4   \n",
       "11    L1                   98.041533                 96.560109         2023Q4   \n",
       "12    L2                    0.577747                  1.425122         2023Q3   \n",
       "13    L1                   98.600314                 97.412929         2023Q3   \n",
       "14    L2                    0.681468                  1.018561         2023Q3   \n",
       "15    L2                    0.140471                  0.143389         2023Q3   \n",
       "\n",
       "   QUARTER_STR  \n",
       "0      2024 Q2  \n",
       "1      2024 Q2  \n",
       "2      2024 Q2  \n",
       "3      2024 Q2  \n",
       "4      2024 Q1  \n",
       "5      2024 Q1  \n",
       "6      2024 Q1  \n",
       "7      2024 Q1  \n",
       "8      2023 Q4  \n",
       "9      2023 Q4  \n",
       "10     2023 Q4  \n",
       "11     2023 Q4  \n",
       "12     2023 Q3  \n",
       "13     2023 Q3  \n",
       "14     2023 Q3  \n",
       "15     2023 Q3  "
      ]
     },
     "execution_count": 256,
     "metadata": {},
     "output_type": "execute_result"
    }
   ],
   "source": [
    "quarterly_data"
   ]
  },
  {
   "cell_type": "code",
   "execution_count": 257,
   "metadata": {},
   "outputs": [],
   "source": [
    "quarterly_data_sorted_vol = quarterly_data.sort_values(by='VOLUME_USD', ascending=False)\n",
    "# quarterly_data_sorted_vol = quarterly_data_sorted_vol.sort_index(ascending=True)\n",
    "quarterly_layer_vol = quarterly_data.groupby(['QUARTER','LAYER']).sum(numeric_only=True)\n",
    "quarterly_layer_vol.reset_index(inplace=True)\n",
    "quarterly_layer_vol['QUARTER_PERIOD'] = quarterly_layer_vol['QUARTER'].dt.to_period('Q')\n",
    "quarterly_layer_vol['QUARTER_STR'] = quarterly_layer_vol['QUARTER_PERIOD'].apply(lambda p: f\"{p.year} Q{p.quarter}\")\n",
    "quarterly_layer_vol.set_index('QUARTER', inplace=True)"
   ]
  },
  {
   "cell_type": "code",
   "execution_count": 258,
   "metadata": {},
   "outputs": [],
   "source": [
    "def clean_values(x):\n",
    "    if x >= 1e9:\n",
    "        return f'{x/1e9:.1f}B'  # Billion\n",
    "    elif x >= 1e6:\n",
    "        return f'{x/1e6:.1f}M'  # Million\n",
    "    elif x >= 1e3:\n",
    "        return f'{x/1e3:.1f}K'  # Thousand\n",
    "    else:\n",
    "        return str(x)"
   ]
  },
  {
   "cell_type": "code",
   "execution_count": 259,
   "metadata": {},
   "outputs": [],
   "source": [
    "quarterly_data['VOLUME_USD_CLEAN'] = quarterly_data['VOLUME_USD'].apply(clean_values)"
   ]
  },
  {
   "cell_type": "code",
   "execution_count": 260,
   "metadata": {},
   "outputs": [],
   "source": [
    "quarterly_data_sorted_vol = quarterly_data_sorted_vol.sort_values('QUARTER', ascending=False)"
   ]
  },
  {
   "cell_type": "code",
   "execution_count": 261,
   "metadata": {},
   "outputs": [
    {
     "data": {
      "text/plain": [
       "Index(['QUARTER', 'VOLUME_USD', 'TOTAL_FEES_USD', 'UNIQUE_TOTAL_USERS',\n",
       "       'NETWORK', 'LAYER', 'PERCENTAGE_OF_TOTAL_VOLUME',\n",
       "       'PERCENTAGE_OF_TOTAL_FEES', 'QUARTER_PERIOD', 'QUARTER_STR'],\n",
       "      dtype='object')"
      ]
     },
     "execution_count": 261,
     "metadata": {},
     "output_type": "execute_result"
    }
   ],
   "source": [
    "quarterly_data_sorted_vol.columns"
   ]
  },
  {
   "cell_type": "code",
   "execution_count": 262,
   "metadata": {},
   "outputs": [
    {
     "data": {
      "application/vnd.plotly.v1+json": {
       "config": {
        "linkText": "Export to plot.ly",
        "plotlyServerURL": "https://plot.ly",
        "showLink": false
       },
       "data": [
        {
         "marker": {
          "color": "red"
         },
         "name": "Arbitrum",
         "orientation": "h",
         "text": [
          "4.5M",
          "7.3M",
          "5.5M",
          "1.5M"
         ],
         "textfont": {
          "family": "Arial, sans-serif",
          "size": 25
         },
         "textposition": "auto",
         "type": "bar",
         "x": [
          4471818.88243489,
          7328072.666882,
          5530552.19686567,
          1457560.19512771
         ],
         "y": [
          "2024 Q2",
          "2024 Q1",
          "2023 Q4",
          "2023 Q3"
         ]
        },
        {
         "marker": {
          "color": "blue"
         },
         "name": "Base",
         "orientation": "h",
         "text": [
          "88.3M",
          "22.9M",
          "969.3K",
          "1.2M"
         ],
         "textfont": {
          "family": "Arial, sans-serif",
          "size": 25
         },
         "textposition": "auto",
         "type": "bar",
         "x": [
          88328051.2903574,
          22862096.3716818,
          969258.480116814,
          1235715.37896718
         ],
         "y": [
          "2024 Q2",
          "2024 Q1",
          "2023 Q4",
          "2023 Q3"
         ]
        },
        {
         "marker": {
          "color": "#6cfdd2"
         },
         "name": "Ethereum",
         "orientation": "h",
         "text": [
          "146.5M",
          "313.4M",
          "337.2M",
          "210.9M"
         ],
         "textfont": {
          "family": "Arial, sans-serif",
          "size": 25
         },
         "textposition": "auto",
         "type": "bar",
         "x": [
          146495068.353519,
          313414147.724149,
          337226269.634463,
          210891479.449588
         ],
         "y": [
          "2024 Q2",
          "2024 Q1",
          "2023 Q4",
          "2023 Q3"
         ]
        },
        {
         "marker": {
          "color": "purple"
         },
         "name": "Optimism",
         "orientation": "h",
         "text": [
          "1.1M",
          "663.5K",
          "236.6K",
          "300.4K"
         ],
         "textfont": {
          "family": "Arial, sans-serif",
          "size": 25
         },
         "textposition": "auto",
         "type": "bar",
         "x": [
          1069214.31716428,
          663519.283644475,
          236586.301768759,
          300446.327725792
         ],
         "y": [
          "2024 Q2",
          "2024 Q1",
          "2023 Q4",
          "2023 Q3"
         ]
        }
       ],
       "layout": {
        "barmode": "group",
        "font": {
         "family": "Arial, sans-serif",
         "size": 25
        },
        "height": 800,
        "legend": {
         "x": 1.05,
         "xanchor": "left",
         "y": 0.5,
         "yanchor": "top"
        },
        "margin": {
         "b": 50,
         "l": 50,
         "r": 50,
         "t": 100
        },
        "paper_bgcolor": "#f4f4f4",
        "plot_bgcolor": "#f4f4f4",
        "template": {
         "data": {
          "bar": [
           {
            "error_x": {
             "color": "#2a3f5f"
            },
            "error_y": {
             "color": "#2a3f5f"
            },
            "marker": {
             "line": {
              "color": "#E5ECF6",
              "width": 0.5
             },
             "pattern": {
              "fillmode": "overlay",
              "size": 10,
              "solidity": 0.2
             }
            },
            "type": "bar"
           }
          ],
          "barpolar": [
           {
            "marker": {
             "line": {
              "color": "#E5ECF6",
              "width": 0.5
             },
             "pattern": {
              "fillmode": "overlay",
              "size": 10,
              "solidity": 0.2
             }
            },
            "type": "barpolar"
           }
          ],
          "carpet": [
           {
            "aaxis": {
             "endlinecolor": "#2a3f5f",
             "gridcolor": "white",
             "linecolor": "white",
             "minorgridcolor": "white",
             "startlinecolor": "#2a3f5f"
            },
            "baxis": {
             "endlinecolor": "#2a3f5f",
             "gridcolor": "white",
             "linecolor": "white",
             "minorgridcolor": "white",
             "startlinecolor": "#2a3f5f"
            },
            "type": "carpet"
           }
          ],
          "choropleth": [
           {
            "colorbar": {
             "outlinewidth": 0,
             "ticks": ""
            },
            "type": "choropleth"
           }
          ],
          "contour": [
           {
            "colorbar": {
             "outlinewidth": 0,
             "ticks": ""
            },
            "colorscale": [
             [
              0,
              "#0d0887"
             ],
             [
              0.1111111111111111,
              "#46039f"
             ],
             [
              0.2222222222222222,
              "#7201a8"
             ],
             [
              0.3333333333333333,
              "#9c179e"
             ],
             [
              0.4444444444444444,
              "#bd3786"
             ],
             [
              0.5555555555555556,
              "#d8576b"
             ],
             [
              0.6666666666666666,
              "#ed7953"
             ],
             [
              0.7777777777777778,
              "#fb9f3a"
             ],
             [
              0.8888888888888888,
              "#fdca26"
             ],
             [
              1,
              "#f0f921"
             ]
            ],
            "type": "contour"
           }
          ],
          "contourcarpet": [
           {
            "colorbar": {
             "outlinewidth": 0,
             "ticks": ""
            },
            "type": "contourcarpet"
           }
          ],
          "heatmap": [
           {
            "colorbar": {
             "outlinewidth": 0,
             "ticks": ""
            },
            "colorscale": [
             [
              0,
              "#0d0887"
             ],
             [
              0.1111111111111111,
              "#46039f"
             ],
             [
              0.2222222222222222,
              "#7201a8"
             ],
             [
              0.3333333333333333,
              "#9c179e"
             ],
             [
              0.4444444444444444,
              "#bd3786"
             ],
             [
              0.5555555555555556,
              "#d8576b"
             ],
             [
              0.6666666666666666,
              "#ed7953"
             ],
             [
              0.7777777777777778,
              "#fb9f3a"
             ],
             [
              0.8888888888888888,
              "#fdca26"
             ],
             [
              1,
              "#f0f921"
             ]
            ],
            "type": "heatmap"
           }
          ],
          "heatmapgl": [
           {
            "colorbar": {
             "outlinewidth": 0,
             "ticks": ""
            },
            "colorscale": [
             [
              0,
              "#0d0887"
             ],
             [
              0.1111111111111111,
              "#46039f"
             ],
             [
              0.2222222222222222,
              "#7201a8"
             ],
             [
              0.3333333333333333,
              "#9c179e"
             ],
             [
              0.4444444444444444,
              "#bd3786"
             ],
             [
              0.5555555555555556,
              "#d8576b"
             ],
             [
              0.6666666666666666,
              "#ed7953"
             ],
             [
              0.7777777777777778,
              "#fb9f3a"
             ],
             [
              0.8888888888888888,
              "#fdca26"
             ],
             [
              1,
              "#f0f921"
             ]
            ],
            "type": "heatmapgl"
           }
          ],
          "histogram": [
           {
            "marker": {
             "pattern": {
              "fillmode": "overlay",
              "size": 10,
              "solidity": 0.2
             }
            },
            "type": "histogram"
           }
          ],
          "histogram2d": [
           {
            "colorbar": {
             "outlinewidth": 0,
             "ticks": ""
            },
            "colorscale": [
             [
              0,
              "#0d0887"
             ],
             [
              0.1111111111111111,
              "#46039f"
             ],
             [
              0.2222222222222222,
              "#7201a8"
             ],
             [
              0.3333333333333333,
              "#9c179e"
             ],
             [
              0.4444444444444444,
              "#bd3786"
             ],
             [
              0.5555555555555556,
              "#d8576b"
             ],
             [
              0.6666666666666666,
              "#ed7953"
             ],
             [
              0.7777777777777778,
              "#fb9f3a"
             ],
             [
              0.8888888888888888,
              "#fdca26"
             ],
             [
              1,
              "#f0f921"
             ]
            ],
            "type": "histogram2d"
           }
          ],
          "histogram2dcontour": [
           {
            "colorbar": {
             "outlinewidth": 0,
             "ticks": ""
            },
            "colorscale": [
             [
              0,
              "#0d0887"
             ],
             [
              0.1111111111111111,
              "#46039f"
             ],
             [
              0.2222222222222222,
              "#7201a8"
             ],
             [
              0.3333333333333333,
              "#9c179e"
             ],
             [
              0.4444444444444444,
              "#bd3786"
             ],
             [
              0.5555555555555556,
              "#d8576b"
             ],
             [
              0.6666666666666666,
              "#ed7953"
             ],
             [
              0.7777777777777778,
              "#fb9f3a"
             ],
             [
              0.8888888888888888,
              "#fdca26"
             ],
             [
              1,
              "#f0f921"
             ]
            ],
            "type": "histogram2dcontour"
           }
          ],
          "mesh3d": [
           {
            "colorbar": {
             "outlinewidth": 0,
             "ticks": ""
            },
            "type": "mesh3d"
           }
          ],
          "parcoords": [
           {
            "line": {
             "colorbar": {
              "outlinewidth": 0,
              "ticks": ""
             }
            },
            "type": "parcoords"
           }
          ],
          "pie": [
           {
            "automargin": true,
            "type": "pie"
           }
          ],
          "scatter": [
           {
            "fillpattern": {
             "fillmode": "overlay",
             "size": 10,
             "solidity": 0.2
            },
            "type": "scatter"
           }
          ],
          "scatter3d": [
           {
            "line": {
             "colorbar": {
              "outlinewidth": 0,
              "ticks": ""
             }
            },
            "marker": {
             "colorbar": {
              "outlinewidth": 0,
              "ticks": ""
             }
            },
            "type": "scatter3d"
           }
          ],
          "scattercarpet": [
           {
            "marker": {
             "colorbar": {
              "outlinewidth": 0,
              "ticks": ""
             }
            },
            "type": "scattercarpet"
           }
          ],
          "scattergeo": [
           {
            "marker": {
             "colorbar": {
              "outlinewidth": 0,
              "ticks": ""
             }
            },
            "type": "scattergeo"
           }
          ],
          "scattergl": [
           {
            "marker": {
             "colorbar": {
              "outlinewidth": 0,
              "ticks": ""
             }
            },
            "type": "scattergl"
           }
          ],
          "scattermapbox": [
           {
            "marker": {
             "colorbar": {
              "outlinewidth": 0,
              "ticks": ""
             }
            },
            "type": "scattermapbox"
           }
          ],
          "scatterpolar": [
           {
            "marker": {
             "colorbar": {
              "outlinewidth": 0,
              "ticks": ""
             }
            },
            "type": "scatterpolar"
           }
          ],
          "scatterpolargl": [
           {
            "marker": {
             "colorbar": {
              "outlinewidth": 0,
              "ticks": ""
             }
            },
            "type": "scatterpolargl"
           }
          ],
          "scatterternary": [
           {
            "marker": {
             "colorbar": {
              "outlinewidth": 0,
              "ticks": ""
             }
            },
            "type": "scatterternary"
           }
          ],
          "surface": [
           {
            "colorbar": {
             "outlinewidth": 0,
             "ticks": ""
            },
            "colorscale": [
             [
              0,
              "#0d0887"
             ],
             [
              0.1111111111111111,
              "#46039f"
             ],
             [
              0.2222222222222222,
              "#7201a8"
             ],
             [
              0.3333333333333333,
              "#9c179e"
             ],
             [
              0.4444444444444444,
              "#bd3786"
             ],
             [
              0.5555555555555556,
              "#d8576b"
             ],
             [
              0.6666666666666666,
              "#ed7953"
             ],
             [
              0.7777777777777778,
              "#fb9f3a"
             ],
             [
              0.8888888888888888,
              "#fdca26"
             ],
             [
              1,
              "#f0f921"
             ]
            ],
            "type": "surface"
           }
          ],
          "table": [
           {
            "cells": {
             "fill": {
              "color": "#EBF0F8"
             },
             "line": {
              "color": "white"
             }
            },
            "header": {
             "fill": {
              "color": "#C8D4E3"
             },
             "line": {
              "color": "white"
             }
            },
            "type": "table"
           }
          ]
         },
         "layout": {
          "annotationdefaults": {
           "arrowcolor": "#2a3f5f",
           "arrowhead": 0,
           "arrowwidth": 1
          },
          "autotypenumbers": "strict",
          "coloraxis": {
           "colorbar": {
            "outlinewidth": 0,
            "ticks": ""
           }
          },
          "colorscale": {
           "diverging": [
            [
             0,
             "#8e0152"
            ],
            [
             0.1,
             "#c51b7d"
            ],
            [
             0.2,
             "#de77ae"
            ],
            [
             0.3,
             "#f1b6da"
            ],
            [
             0.4,
             "#fde0ef"
            ],
            [
             0.5,
             "#f7f7f7"
            ],
            [
             0.6,
             "#e6f5d0"
            ],
            [
             0.7,
             "#b8e186"
            ],
            [
             0.8,
             "#7fbc41"
            ],
            [
             0.9,
             "#4d9221"
            ],
            [
             1,
             "#276419"
            ]
           ],
           "sequential": [
            [
             0,
             "#0d0887"
            ],
            [
             0.1111111111111111,
             "#46039f"
            ],
            [
             0.2222222222222222,
             "#7201a8"
            ],
            [
             0.3333333333333333,
             "#9c179e"
            ],
            [
             0.4444444444444444,
             "#bd3786"
            ],
            [
             0.5555555555555556,
             "#d8576b"
            ],
            [
             0.6666666666666666,
             "#ed7953"
            ],
            [
             0.7777777777777778,
             "#fb9f3a"
            ],
            [
             0.8888888888888888,
             "#fdca26"
            ],
            [
             1,
             "#f0f921"
            ]
           ],
           "sequentialminus": [
            [
             0,
             "#0d0887"
            ],
            [
             0.1111111111111111,
             "#46039f"
            ],
            [
             0.2222222222222222,
             "#7201a8"
            ],
            [
             0.3333333333333333,
             "#9c179e"
            ],
            [
             0.4444444444444444,
             "#bd3786"
            ],
            [
             0.5555555555555556,
             "#d8576b"
            ],
            [
             0.6666666666666666,
             "#ed7953"
            ],
            [
             0.7777777777777778,
             "#fb9f3a"
            ],
            [
             0.8888888888888888,
             "#fdca26"
            ],
            [
             1,
             "#f0f921"
            ]
           ]
          },
          "colorway": [
           "#636efa",
           "#EF553B",
           "#00cc96",
           "#ab63fa",
           "#FFA15A",
           "#19d3f3",
           "#FF6692",
           "#B6E880",
           "#FF97FF",
           "#FECB52"
          ],
          "font": {
           "color": "#2a3f5f"
          },
          "geo": {
           "bgcolor": "white",
           "lakecolor": "white",
           "landcolor": "#E5ECF6",
           "showlakes": true,
           "showland": true,
           "subunitcolor": "white"
          },
          "hoverlabel": {
           "align": "left"
          },
          "hovermode": "closest",
          "mapbox": {
           "style": "light"
          },
          "paper_bgcolor": "white",
          "plot_bgcolor": "#E5ECF6",
          "polar": {
           "angularaxis": {
            "gridcolor": "white",
            "linecolor": "white",
            "ticks": ""
           },
           "bgcolor": "#E5ECF6",
           "radialaxis": {
            "gridcolor": "white",
            "linecolor": "white",
            "ticks": ""
           }
          },
          "scene": {
           "xaxis": {
            "backgroundcolor": "#E5ECF6",
            "gridcolor": "white",
            "gridwidth": 2,
            "linecolor": "white",
            "showbackground": true,
            "ticks": "",
            "zerolinecolor": "white"
           },
           "yaxis": {
            "backgroundcolor": "#E5ECF6",
            "gridcolor": "white",
            "gridwidth": 2,
            "linecolor": "white",
            "showbackground": true,
            "ticks": "",
            "zerolinecolor": "white"
           },
           "zaxis": {
            "backgroundcolor": "#E5ECF6",
            "gridcolor": "white",
            "gridwidth": 2,
            "linecolor": "white",
            "showbackground": true,
            "ticks": "",
            "zerolinecolor": "white"
           }
          },
          "shapedefaults": {
           "line": {
            "color": "#2a3f5f"
           }
          },
          "ternary": {
           "aaxis": {
            "gridcolor": "white",
            "linecolor": "white",
            "ticks": ""
           },
           "baxis": {
            "gridcolor": "white",
            "linecolor": "white",
            "ticks": ""
           },
           "bgcolor": "#E5ECF6",
           "caxis": {
            "gridcolor": "white",
            "linecolor": "white",
            "ticks": ""
           }
          },
          "title": {
           "x": 0.05
          },
          "xaxis": {
           "automargin": true,
           "gridcolor": "white",
           "linecolor": "white",
           "ticks": "",
           "title": {
            "standoff": 15
           },
           "zerolinecolor": "white",
           "zerolinewidth": 2
          },
          "yaxis": {
           "automargin": true,
           "gridcolor": "white",
           "linecolor": "white",
           "ticks": "",
           "title": {
            "standoff": 15
           },
           "zerolinecolor": "white",
           "zerolinewidth": 2
          }
         }
        },
        "uniformtext": {
         "minsize": 21,
         "mode": "show"
        },
        "width": 1500,
        "xaxis": {
         "title": {
          "font": {
           "color": "black",
           "family": "Arial, sans-serif",
           "size": 25,
           "weight": "bold"
          },
          "text": "Sales Volume (USD)"
         }
        },
        "yaxis": {
         "title": {
          "font": {
           "color": "black",
           "family": "Arial, sans-serif",
           "size": 25,
           "weight": "bold"
          },
          "text": "Quarter"
         }
        }
       }
      }
     },
     "metadata": {},
     "output_type": "display_data"
    }
   ],
   "source": [
    "fig = go.Figure()\n",
    "\n",
    "# Plotting the bar chart for volume by network\n",
    "for network in legend_order:\n",
    "    network_df = quarterly_data_sorted_vol[quarterly_data_sorted_vol['NETWORK'] == network]\n",
    "    fig.add_trace(\n",
    "        go.Bar(\n",
    "            y=network_df['QUARTER_STR'],\n",
    "            x=network_df['VOLUME_USD'],\n",
    "            name=network,\n",
    "            orientation='h',\n",
    "            text=network_df['VOLUME_USD'].apply(clean_values),\n",
    "            textposition='auto',\n",
    "            marker=dict(color=color_map.get(network, 'black')),\n",
    "            textfont=dict(size=25, family=\"Arial, sans-serif\")\n",
    "        )\n",
    "    )\n",
    "\n",
    "# Layout\n",
    "fig.update_layout(\n",
    "    height=800,\n",
    "    barmode='group',\n",
    "    yaxis=dict(title='Sales Volume (USD)'),\n",
    "    xaxis=dict(title='Quarter'),\n",
    "    legend=dict(yanchor=\"top\", y=0.5, xanchor=\"left\", x=1.05),\n",
    "    plot_bgcolor='#f4f4f4',\n",
    "    paper_bgcolor='#f4f4f4',\n",
    "    margin=dict(t=100, b=50, l=50, r=50),\n",
    "    uniformtext=dict(mode=\"show\", minsize=21),  # Adjust minsize as needed\n",
    "    font=dict(size=25, family=\"Arial, sans-serif\"),  # General font size, can be adjusted as needed\n",
    "    # title={\n",
    "    #     'text': 'OpenSea Volume Analysis by Network',\n",
    "    #     'font': {\n",
    "    #         'family': 'Arial, sans-serif',  # Font family\n",
    "    #         'size': 24,  # Font size\n",
    "    #         'color': 'Black'  # Font color\n",
    "    #     }\n",
    "    # }\n",
    ")\n",
    "\n",
    "# Adjust layout size\n",
    "fig.update_layout(\n",
    "    width=1500,  # Adjust as needed\n",
    "    height=800,  # Adjust as needed\n",
    "    margin=dict(\n",
    "        l=50,  # Left margin\n",
    "        r=50,  # Right margin\n",
    "        t=100,  # Top margin\n",
    "        b=50   # Bottom margin\n",
    "    )\n",
    ")\n",
    "\n",
    "fig.update_layout(\n",
    "    xaxis_title=dict(\n",
    "        text=\"Sales Volume (USD)\",\n",
    "        font=dict(size=25, family=\"Arial, sans-serif\", weight=\"bold\", color='black')\n",
    "    ),\n",
    "    yaxis_title=dict(\n",
    "        text=\"Quarter\",\n",
    "        font=dict(size=25, family=\"Arial, sans-serif\", weight=\"bold\", color='black')\n",
    "    )\n",
    ")\n",
    "\n",
    "# Figure\n",
    "pyo.iplot(fig)\n",
    "pio.write_image(fig, 'img/OpenSea Volume Analysis by Network.png', scale=3)\n"
   ]
  },
  {
   "cell_type": "code",
   "execution_count": 263,
   "metadata": {},
   "outputs": [
    {
     "data": {
      "application/vnd.plotly.v1+json": {
       "config": {
        "linkText": "Export to plot.ly",
        "plotlyServerURL": "https://plot.ly",
        "showLink": false
       },
       "data": [
        {
         "legend": "legend2",
         "marker": {
          "color": "red"
         },
         "name": "Arbitrum",
         "orientation": "h",
         "text": [
          "4.5M",
          "7.3M",
          "5.5M",
          "1.5M"
         ],
         "textposition": "outside",
         "type": "bar",
         "x": [
          4471818.88243489,
          7328072.666882,
          5530552.19686567,
          1457560.19512771
         ],
         "xaxis": "x2",
         "y": [
          "2024 Q2",
          "2024 Q1",
          "2023 Q4",
          "2023 Q3"
         ],
         "yaxis": "y2"
        },
        {
         "legend": "legend2",
         "marker": {
          "color": "blue"
         },
         "name": "Base",
         "orientation": "h",
         "text": [
          "88.3M",
          "22.9M",
          "969.3K",
          "1.2M"
         ],
         "textposition": "outside",
         "type": "bar",
         "x": [
          88328051.2903574,
          22862096.3716818,
          969258.480116814,
          1235715.37896718
         ],
         "xaxis": "x2",
         "y": [
          "2024 Q2",
          "2024 Q1",
          "2023 Q4",
          "2023 Q3"
         ],
         "yaxis": "y2"
        },
        {
         "legend": "legend2",
         "marker": {
          "color": "#6cfdd2"
         },
         "name": "Ethereum",
         "orientation": "h",
         "text": [
          "146.5M",
          "313.4M",
          "337.2M",
          "210.9M"
         ],
         "textposition": "outside",
         "type": "bar",
         "x": [
          146495068.353519,
          313414147.724149,
          337226269.634463,
          210891479.449588
         ],
         "xaxis": "x2",
         "y": [
          "2024 Q2",
          "2024 Q1",
          "2023 Q4",
          "2023 Q3"
         ],
         "yaxis": "y2"
        },
        {
         "legend": "legend2",
         "marker": {
          "color": "purple"
         },
         "name": "Optimism",
         "orientation": "h",
         "text": [
          "1.1M",
          "663.5K",
          "236.6K",
          "300.4K"
         ],
         "textposition": "outside",
         "type": "bar",
         "x": [
          1069214.31716428,
          663519.283644475,
          236586.301768759,
          300446.327725792
         ],
         "xaxis": "x2",
         "y": [
          "2024 Q2",
          "2024 Q1",
          "2023 Q4",
          "2023 Q3"
         ],
         "yaxis": "y2"
        },
        {
         "legend": "legend",
         "marker": {
          "color": "orange"
         },
         "name": "L1",
         "text": [
          "210.9M",
          "337.2M",
          "313.4M",
          "146.5M"
         ],
         "textposition": "outside",
         "type": "bar",
         "x": [
          "2023 Q3",
          "2023 Q4",
          "2024 Q1",
          "2024 Q2"
         ],
         "xaxis": "x",
         "y": [
          210891479.449588,
          337226269.634463,
          313414147.724149,
          146495068.353519
         ],
         "yaxis": "y"
        },
        {
         "legend": "legend",
         "marker": {
          "color": "green"
         },
         "name": "L2",
         "text": [
          "3.0M",
          "6.7M",
          "30.9M",
          "93.9M"
         ],
         "textposition": "outside",
         "type": "bar",
         "x": [
          "2023 Q3",
          "2023 Q4",
          "2024 Q1",
          "2024 Q2"
         ],
         "xaxis": "x",
         "y": [
          2993721.901820682,
          6736396.978751244,
          30853688.322208274,
          93869084.48995657
         ],
         "yaxis": "y"
        }
       ],
       "layout": {
        "annotations": [
         {
          "font": {
           "size": 16
          },
          "showarrow": false,
          "text": "OpenSea Volume by Layer",
          "x": 0.5,
          "xanchor": "center",
          "xref": "paper",
          "y": 1,
          "yanchor": "bottom",
          "yref": "paper"
         },
         {
          "font": {
           "size": 16
          },
          "showarrow": false,
          "text": "OpenSea Volume by Network",
          "x": 0.5,
          "xanchor": "center",
          "xref": "paper",
          "y": 0.30000000000000004,
          "yanchor": "bottom",
          "yref": "paper"
         }
        ],
        "barmode": "group",
        "font": {
         "size": 20
        },
        "height": 800,
        "legend": {
         "x": 1.05,
         "xanchor": "left",
         "y": 1,
         "yanchor": "bottom"
        },
        "legend2": {
         "y": 0.30000000000000004,
         "yanchor": "bottom"
        },
        "margin": {
         "b": 50,
         "l": 50,
         "r": 50,
         "t": 100
        },
        "paper_bgcolor": "#f4f4f4",
        "plot_bgcolor": "#f4f4f4",
        "showlegend": true,
        "template": {
         "data": {
          "bar": [
           {
            "error_x": {
             "color": "#2a3f5f"
            },
            "error_y": {
             "color": "#2a3f5f"
            },
            "marker": {
             "line": {
              "color": "#E5ECF6",
              "width": 0.5
             },
             "pattern": {
              "fillmode": "overlay",
              "size": 10,
              "solidity": 0.2
             }
            },
            "type": "bar"
           }
          ],
          "barpolar": [
           {
            "marker": {
             "line": {
              "color": "#E5ECF6",
              "width": 0.5
             },
             "pattern": {
              "fillmode": "overlay",
              "size": 10,
              "solidity": 0.2
             }
            },
            "type": "barpolar"
           }
          ],
          "carpet": [
           {
            "aaxis": {
             "endlinecolor": "#2a3f5f",
             "gridcolor": "white",
             "linecolor": "white",
             "minorgridcolor": "white",
             "startlinecolor": "#2a3f5f"
            },
            "baxis": {
             "endlinecolor": "#2a3f5f",
             "gridcolor": "white",
             "linecolor": "white",
             "minorgridcolor": "white",
             "startlinecolor": "#2a3f5f"
            },
            "type": "carpet"
           }
          ],
          "choropleth": [
           {
            "colorbar": {
             "outlinewidth": 0,
             "ticks": ""
            },
            "type": "choropleth"
           }
          ],
          "contour": [
           {
            "colorbar": {
             "outlinewidth": 0,
             "ticks": ""
            },
            "colorscale": [
             [
              0,
              "#0d0887"
             ],
             [
              0.1111111111111111,
              "#46039f"
             ],
             [
              0.2222222222222222,
              "#7201a8"
             ],
             [
              0.3333333333333333,
              "#9c179e"
             ],
             [
              0.4444444444444444,
              "#bd3786"
             ],
             [
              0.5555555555555556,
              "#d8576b"
             ],
             [
              0.6666666666666666,
              "#ed7953"
             ],
             [
              0.7777777777777778,
              "#fb9f3a"
             ],
             [
              0.8888888888888888,
              "#fdca26"
             ],
             [
              1,
              "#f0f921"
             ]
            ],
            "type": "contour"
           }
          ],
          "contourcarpet": [
           {
            "colorbar": {
             "outlinewidth": 0,
             "ticks": ""
            },
            "type": "contourcarpet"
           }
          ],
          "heatmap": [
           {
            "colorbar": {
             "outlinewidth": 0,
             "ticks": ""
            },
            "colorscale": [
             [
              0,
              "#0d0887"
             ],
             [
              0.1111111111111111,
              "#46039f"
             ],
             [
              0.2222222222222222,
              "#7201a8"
             ],
             [
              0.3333333333333333,
              "#9c179e"
             ],
             [
              0.4444444444444444,
              "#bd3786"
             ],
             [
              0.5555555555555556,
              "#d8576b"
             ],
             [
              0.6666666666666666,
              "#ed7953"
             ],
             [
              0.7777777777777778,
              "#fb9f3a"
             ],
             [
              0.8888888888888888,
              "#fdca26"
             ],
             [
              1,
              "#f0f921"
             ]
            ],
            "type": "heatmap"
           }
          ],
          "heatmapgl": [
           {
            "colorbar": {
             "outlinewidth": 0,
             "ticks": ""
            },
            "colorscale": [
             [
              0,
              "#0d0887"
             ],
             [
              0.1111111111111111,
              "#46039f"
             ],
             [
              0.2222222222222222,
              "#7201a8"
             ],
             [
              0.3333333333333333,
              "#9c179e"
             ],
             [
              0.4444444444444444,
              "#bd3786"
             ],
             [
              0.5555555555555556,
              "#d8576b"
             ],
             [
              0.6666666666666666,
              "#ed7953"
             ],
             [
              0.7777777777777778,
              "#fb9f3a"
             ],
             [
              0.8888888888888888,
              "#fdca26"
             ],
             [
              1,
              "#f0f921"
             ]
            ],
            "type": "heatmapgl"
           }
          ],
          "histogram": [
           {
            "marker": {
             "pattern": {
              "fillmode": "overlay",
              "size": 10,
              "solidity": 0.2
             }
            },
            "type": "histogram"
           }
          ],
          "histogram2d": [
           {
            "colorbar": {
             "outlinewidth": 0,
             "ticks": ""
            },
            "colorscale": [
             [
              0,
              "#0d0887"
             ],
             [
              0.1111111111111111,
              "#46039f"
             ],
             [
              0.2222222222222222,
              "#7201a8"
             ],
             [
              0.3333333333333333,
              "#9c179e"
             ],
             [
              0.4444444444444444,
              "#bd3786"
             ],
             [
              0.5555555555555556,
              "#d8576b"
             ],
             [
              0.6666666666666666,
              "#ed7953"
             ],
             [
              0.7777777777777778,
              "#fb9f3a"
             ],
             [
              0.8888888888888888,
              "#fdca26"
             ],
             [
              1,
              "#f0f921"
             ]
            ],
            "type": "histogram2d"
           }
          ],
          "histogram2dcontour": [
           {
            "colorbar": {
             "outlinewidth": 0,
             "ticks": ""
            },
            "colorscale": [
             [
              0,
              "#0d0887"
             ],
             [
              0.1111111111111111,
              "#46039f"
             ],
             [
              0.2222222222222222,
              "#7201a8"
             ],
             [
              0.3333333333333333,
              "#9c179e"
             ],
             [
              0.4444444444444444,
              "#bd3786"
             ],
             [
              0.5555555555555556,
              "#d8576b"
             ],
             [
              0.6666666666666666,
              "#ed7953"
             ],
             [
              0.7777777777777778,
              "#fb9f3a"
             ],
             [
              0.8888888888888888,
              "#fdca26"
             ],
             [
              1,
              "#f0f921"
             ]
            ],
            "type": "histogram2dcontour"
           }
          ],
          "mesh3d": [
           {
            "colorbar": {
             "outlinewidth": 0,
             "ticks": ""
            },
            "type": "mesh3d"
           }
          ],
          "parcoords": [
           {
            "line": {
             "colorbar": {
              "outlinewidth": 0,
              "ticks": ""
             }
            },
            "type": "parcoords"
           }
          ],
          "pie": [
           {
            "automargin": true,
            "type": "pie"
           }
          ],
          "scatter": [
           {
            "fillpattern": {
             "fillmode": "overlay",
             "size": 10,
             "solidity": 0.2
            },
            "type": "scatter"
           }
          ],
          "scatter3d": [
           {
            "line": {
             "colorbar": {
              "outlinewidth": 0,
              "ticks": ""
             }
            },
            "marker": {
             "colorbar": {
              "outlinewidth": 0,
              "ticks": ""
             }
            },
            "type": "scatter3d"
           }
          ],
          "scattercarpet": [
           {
            "marker": {
             "colorbar": {
              "outlinewidth": 0,
              "ticks": ""
             }
            },
            "type": "scattercarpet"
           }
          ],
          "scattergeo": [
           {
            "marker": {
             "colorbar": {
              "outlinewidth": 0,
              "ticks": ""
             }
            },
            "type": "scattergeo"
           }
          ],
          "scattergl": [
           {
            "marker": {
             "colorbar": {
              "outlinewidth": 0,
              "ticks": ""
             }
            },
            "type": "scattergl"
           }
          ],
          "scattermapbox": [
           {
            "marker": {
             "colorbar": {
              "outlinewidth": 0,
              "ticks": ""
             }
            },
            "type": "scattermapbox"
           }
          ],
          "scatterpolar": [
           {
            "marker": {
             "colorbar": {
              "outlinewidth": 0,
              "ticks": ""
             }
            },
            "type": "scatterpolar"
           }
          ],
          "scatterpolargl": [
           {
            "marker": {
             "colorbar": {
              "outlinewidth": 0,
              "ticks": ""
             }
            },
            "type": "scatterpolargl"
           }
          ],
          "scatterternary": [
           {
            "marker": {
             "colorbar": {
              "outlinewidth": 0,
              "ticks": ""
             }
            },
            "type": "scatterternary"
           }
          ],
          "surface": [
           {
            "colorbar": {
             "outlinewidth": 0,
             "ticks": ""
            },
            "colorscale": [
             [
              0,
              "#0d0887"
             ],
             [
              0.1111111111111111,
              "#46039f"
             ],
             [
              0.2222222222222222,
              "#7201a8"
             ],
             [
              0.3333333333333333,
              "#9c179e"
             ],
             [
              0.4444444444444444,
              "#bd3786"
             ],
             [
              0.5555555555555556,
              "#d8576b"
             ],
             [
              0.6666666666666666,
              "#ed7953"
             ],
             [
              0.7777777777777778,
              "#fb9f3a"
             ],
             [
              0.8888888888888888,
              "#fdca26"
             ],
             [
              1,
              "#f0f921"
             ]
            ],
            "type": "surface"
           }
          ],
          "table": [
           {
            "cells": {
             "fill": {
              "color": "#EBF0F8"
             },
             "line": {
              "color": "white"
             }
            },
            "header": {
             "fill": {
              "color": "#C8D4E3"
             },
             "line": {
              "color": "white"
             }
            },
            "type": "table"
           }
          ]
         },
         "layout": {
          "annotationdefaults": {
           "arrowcolor": "#2a3f5f",
           "arrowhead": 0,
           "arrowwidth": 1
          },
          "autotypenumbers": "strict",
          "coloraxis": {
           "colorbar": {
            "outlinewidth": 0,
            "ticks": ""
           }
          },
          "colorscale": {
           "diverging": [
            [
             0,
             "#8e0152"
            ],
            [
             0.1,
             "#c51b7d"
            ],
            [
             0.2,
             "#de77ae"
            ],
            [
             0.3,
             "#f1b6da"
            ],
            [
             0.4,
             "#fde0ef"
            ],
            [
             0.5,
             "#f7f7f7"
            ],
            [
             0.6,
             "#e6f5d0"
            ],
            [
             0.7,
             "#b8e186"
            ],
            [
             0.8,
             "#7fbc41"
            ],
            [
             0.9,
             "#4d9221"
            ],
            [
             1,
             "#276419"
            ]
           ],
           "sequential": [
            [
             0,
             "#0d0887"
            ],
            [
             0.1111111111111111,
             "#46039f"
            ],
            [
             0.2222222222222222,
             "#7201a8"
            ],
            [
             0.3333333333333333,
             "#9c179e"
            ],
            [
             0.4444444444444444,
             "#bd3786"
            ],
            [
             0.5555555555555556,
             "#d8576b"
            ],
            [
             0.6666666666666666,
             "#ed7953"
            ],
            [
             0.7777777777777778,
             "#fb9f3a"
            ],
            [
             0.8888888888888888,
             "#fdca26"
            ],
            [
             1,
             "#f0f921"
            ]
           ],
           "sequentialminus": [
            [
             0,
             "#0d0887"
            ],
            [
             0.1111111111111111,
             "#46039f"
            ],
            [
             0.2222222222222222,
             "#7201a8"
            ],
            [
             0.3333333333333333,
             "#9c179e"
            ],
            [
             0.4444444444444444,
             "#bd3786"
            ],
            [
             0.5555555555555556,
             "#d8576b"
            ],
            [
             0.6666666666666666,
             "#ed7953"
            ],
            [
             0.7777777777777778,
             "#fb9f3a"
            ],
            [
             0.8888888888888888,
             "#fdca26"
            ],
            [
             1,
             "#f0f921"
            ]
           ]
          },
          "colorway": [
           "#636efa",
           "#EF553B",
           "#00cc96",
           "#ab63fa",
           "#FFA15A",
           "#19d3f3",
           "#FF6692",
           "#B6E880",
           "#FF97FF",
           "#FECB52"
          ],
          "font": {
           "color": "#2a3f5f"
          },
          "geo": {
           "bgcolor": "white",
           "lakecolor": "white",
           "landcolor": "#E5ECF6",
           "showlakes": true,
           "showland": true,
           "subunitcolor": "white"
          },
          "hoverlabel": {
           "align": "left"
          },
          "hovermode": "closest",
          "mapbox": {
           "style": "light"
          },
          "paper_bgcolor": "white",
          "plot_bgcolor": "#E5ECF6",
          "polar": {
           "angularaxis": {
            "gridcolor": "white",
            "linecolor": "white",
            "ticks": ""
           },
           "bgcolor": "#E5ECF6",
           "radialaxis": {
            "gridcolor": "white",
            "linecolor": "white",
            "ticks": ""
           }
          },
          "scene": {
           "xaxis": {
            "backgroundcolor": "#E5ECF6",
            "gridcolor": "white",
            "gridwidth": 2,
            "linecolor": "white",
            "showbackground": true,
            "ticks": "",
            "zerolinecolor": "white"
           },
           "yaxis": {
            "backgroundcolor": "#E5ECF6",
            "gridcolor": "white",
            "gridwidth": 2,
            "linecolor": "white",
            "showbackground": true,
            "ticks": "",
            "zerolinecolor": "white"
           },
           "zaxis": {
            "backgroundcolor": "#E5ECF6",
            "gridcolor": "white",
            "gridwidth": 2,
            "linecolor": "white",
            "showbackground": true,
            "ticks": "",
            "zerolinecolor": "white"
           }
          },
          "shapedefaults": {
           "line": {
            "color": "#2a3f5f"
           }
          },
          "ternary": {
           "aaxis": {
            "gridcolor": "white",
            "linecolor": "white",
            "ticks": ""
           },
           "baxis": {
            "gridcolor": "white",
            "linecolor": "white",
            "ticks": ""
           },
           "bgcolor": "#E5ECF6",
           "caxis": {
            "gridcolor": "white",
            "linecolor": "white",
            "ticks": ""
           }
          },
          "title": {
           "x": 0.05
          },
          "xaxis": {
           "automargin": true,
           "gridcolor": "white",
           "linecolor": "white",
           "ticks": "",
           "title": {
            "standoff": 15
           },
           "zerolinecolor": "white",
           "zerolinewidth": 2
          },
          "yaxis": {
           "automargin": true,
           "gridcolor": "white",
           "linecolor": "white",
           "ticks": "",
           "title": {
            "standoff": 15
           },
           "zerolinecolor": "white",
           "zerolinewidth": 2
          }
         }
        },
        "uniformtext": {
         "minsize": 20,
         "mode": "show"
        },
        "width": 1200,
        "xaxis": {
         "anchor": "y",
         "domain": [
          0,
          1
         ],
         "title": {
          "text": "Quarter"
         }
        },
        "xaxis2": {
         "anchor": "y2",
         "domain": [
          0,
          1
         ],
         "title": {
          "text": "Sales Volume (USD)"
         }
        },
        "yaxis": {
         "anchor": "x",
         "domain": [
          0.55,
          1
         ],
         "title": {
          "text": "Sales Volume (USD)"
         }
        },
        "yaxis2": {
         "anchor": "x2",
         "domain": [
          0,
          0.30000000000000004
         ],
         "title": {
          "text": "Quarter"
         }
        }
       }
      }
     },
     "metadata": {},
     "output_type": "display_data"
    }
   ],
   "source": [
    "fig = make_subplots(\n",
    "    rows=2, cols=1, \n",
    "    shared_xaxes=False,\n",
    "    subplot_titles=(\"OpenSea Volume by Layer\", \"OpenSea Volume by Network\"),\n",
    "    row_heights=[0.6, 0.4]\n",
    ")\n",
    "\n",
    "for network in legend_order:\n",
    "    network_df = quarterly_data_sorted_vol[quarterly_data_sorted_vol['NETWORK'] == network]\n",
    "    fig.add_trace(\n",
    "        go.Bar(\n",
    "            y=network_df['QUARTER_STR'],\n",
    "            x=network_df['VOLUME_USD'],\n",
    "            name=network,\n",
    "            orientation='h',\n",
    "            text=network_df['VOLUME_USD'].apply(clean_values),\n",
    "            textposition='outside',\n",
    "            marker=dict(color=color_map.get(network, 'black'))\n",
    "        ),\n",
    "        row=2, col=1   \n",
    "    )\n",
    "\n",
    "for layer in quarterly_layer_vol['LAYER'].unique():\n",
    "    layer_df = quarterly_layer_vol[quarterly_layer_vol['LAYER'] == layer]\n",
    "    fig.add_trace(\n",
    "        go.Bar(\n",
    "            x=layer_df['QUARTER_STR'],  # QUARTER\n",
    "            y=layer_df['VOLUME_USD'],\n",
    "            name=f'{layer}',\n",
    "            text=layer_df['VOLUME_USD'].apply(clean_values),\n",
    "            textposition='outside',\n",
    "            marker=dict(color=color_map.get(layer, 'black'))\n",
    "            # showlegend=not show_legend.get(layer, False)\n",
    "        ),\n",
    "        row=1, col=1\n",
    "    )\n",
    "    # show_legend[layer] = True\n",
    "    \n",
    "    \n",
    "\n",
    "# Layout\n",
    "fig.update_layout(\n",
    "    height=800,\n",
    "    barmode='group',\n",
    "    yaxis=dict(title='Sales Volume (USD)'),\n",
    "    xaxis=dict(title='Quarter'),\n",
    "    legend=dict(yanchor=\"top\", y=0.5, xanchor=\"left\", x=1.05),\n",
    "    plot_bgcolor='#f4f4f4',\n",
    "    paper_bgcolor='#f4f4f4',\n",
    "    margin=dict(t=100, b=50, l=50, r=50)    \n",
    ")\n",
    "\n",
    "fig.update_xaxes(title='Sales Volume (USD)', row=2, col=1)\n",
    "fig.update_yaxes(title='Quarter', row=2, col=1)\n",
    "fig.update_layout(\n",
    "    uniformtext=dict(mode=\"show\", minsize=20),  # Adjust minsize as needed\n",
    "    font=dict(size=20)  # General font size, can be adjusted as needed\n",
    ")\n",
    "\n",
    "# fig.update_layout(\n",
    "#     title={\n",
    "#         'text': 'OpenSea Volume Analysis by Network and Layer',\n",
    "#         'font': {\n",
    "#             'family': 'Arial, sans-serif',  # You can specify the font family\n",
    "#             'size': 24,  # Adjust the font size as needed\n",
    "#             'color': 'Black'  # Adjust the font color as needed\n",
    "#         }\n",
    "#     }\n",
    "# )\n",
    "\n",
    "\n",
    "for i, yaxis in enumerate(fig.select_yaxes(), 1):\n",
    "    legend_name = f\"legend{i}\"\n",
    "    fig.update_layout({legend_name: dict(y=yaxis.domain[1], yanchor=\"bottom\")}, showlegend=True)\n",
    "    fig.update_traces(row=i, legend=legend_name)\n",
    "\n",
    "fig.update_layout(\n",
    "    width=1200,  # Adjust as needed\n",
    "    height=800,  # Adjust as needed\n",
    "    margin=dict(\n",
    "        l=50,  # Left margin\n",
    "        r=50,  # Right margin\n",
    "        t=100,  # Top margin\n",
    "        b=50   # Bottom margin\n",
    "    )\n",
    ")\n",
    "# Figure\n",
    "\n",
    "pyo.iplot(fig)\n",
    "# pio.write_image(fig, 'OpenSea Volume Analysis by Network and Layer.png', scale=3)\n"
   ]
  },
  {
   "cell_type": "code",
   "execution_count": 264,
   "metadata": {},
   "outputs": [
    {
     "data": {
      "text/html": [
       "<div>\n",
       "<style scoped>\n",
       "    .dataframe tbody tr th:only-of-type {\n",
       "        vertical-align: middle;\n",
       "    }\n",
       "\n",
       "    .dataframe tbody tr th {\n",
       "        vertical-align: top;\n",
       "    }\n",
       "\n",
       "    .dataframe thead th {\n",
       "        text-align: right;\n",
       "    }\n",
       "</style>\n",
       "<table border=\"1\" class=\"dataframe\">\n",
       "  <thead>\n",
       "    <tr style=\"text-align: right;\">\n",
       "      <th></th>\n",
       "      <th>QUARTER</th>\n",
       "      <th>LAYER</th>\n",
       "      <th>VOLUME_USD</th>\n",
       "      <th>TOTAL_FEES_USD</th>\n",
       "      <th>UNIQUE_TOTAL_USERS</th>\n",
       "      <th>PERCENTAGE_OF_TOTAL_FEES</th>\n",
       "      <th>CUMULATIVE_FEES</th>\n",
       "    </tr>\n",
       "  </thead>\n",
       "  <tbody>\n",
       "    <tr>\n",
       "      <th>0</th>\n",
       "      <td>2023-07-01</td>\n",
       "      <td>L1</td>\n",
       "      <td>2.108915e+08</td>\n",
       "      <td>9.204380e+06</td>\n",
       "      <td>245918.0</td>\n",
       "      <td>97.412929</td>\n",
       "      <td>9.204380e+06</td>\n",
       "    </tr>\n",
       "    <tr>\n",
       "      <th>1</th>\n",
       "      <td>2023-07-01</td>\n",
       "      <td>L2</td>\n",
       "      <td>2.993722e+06</td>\n",
       "      <td>2.444479e+05</td>\n",
       "      <td>111767.0</td>\n",
       "      <td>2.587071</td>\n",
       "      <td>2.444479e+05</td>\n",
       "    </tr>\n",
       "    <tr>\n",
       "      <th>2</th>\n",
       "      <td>2023-10-01</td>\n",
       "      <td>L1</td>\n",
       "      <td>3.372263e+08</td>\n",
       "      <td>1.018415e+07</td>\n",
       "      <td>219847.0</td>\n",
       "      <td>96.560109</td>\n",
       "      <td>1.018415e+07</td>\n",
       "    </tr>\n",
       "    <tr>\n",
       "      <th>3</th>\n",
       "      <td>2023-10-01</td>\n",
       "      <td>L2</td>\n",
       "      <td>6.736397e+06</td>\n",
       "      <td>3.628039e+05</td>\n",
       "      <td>91174.0</td>\n",
       "      <td>3.439891</td>\n",
       "      <td>3.628039e+05</td>\n",
       "    </tr>\n",
       "    <tr>\n",
       "      <th>4</th>\n",
       "      <td>2024-01-01</td>\n",
       "      <td>L1</td>\n",
       "      <td>3.134141e+08</td>\n",
       "      <td>1.056557e+07</td>\n",
       "      <td>207228.0</td>\n",
       "      <td>89.451095</td>\n",
       "      <td>1.056557e+07</td>\n",
       "    </tr>\n",
       "    <tr>\n",
       "      <th>5</th>\n",
       "      <td>2024-01-01</td>\n",
       "      <td>L2</td>\n",
       "      <td>3.085369e+07</td>\n",
       "      <td>1.245990e+06</td>\n",
       "      <td>116469.0</td>\n",
       "      <td>10.548905</td>\n",
       "      <td>1.245990e+06</td>\n",
       "    </tr>\n",
       "    <tr>\n",
       "      <th>6</th>\n",
       "      <td>2024-04-01</td>\n",
       "      <td>L1</td>\n",
       "      <td>1.464951e+08</td>\n",
       "      <td>4.000557e+06</td>\n",
       "      <td>119206.0</td>\n",
       "      <td>67.749780</td>\n",
       "      <td>4.000557e+06</td>\n",
       "    </tr>\n",
       "    <tr>\n",
       "      <th>7</th>\n",
       "      <td>2024-04-01</td>\n",
       "      <td>L2</td>\n",
       "      <td>9.386908e+07</td>\n",
       "      <td>1.904343e+06</td>\n",
       "      <td>254842.0</td>\n",
       "      <td>32.250220</td>\n",
       "      <td>1.904343e+06</td>\n",
       "    </tr>\n",
       "  </tbody>\n",
       "</table>\n",
       "</div>"
      ],
      "text/plain": [
       "     QUARTER LAYER    VOLUME_USD  TOTAL_FEES_USD  UNIQUE_TOTAL_USERS  \\\n",
       "0 2023-07-01    L1  2.108915e+08    9.204380e+06            245918.0   \n",
       "1 2023-07-01    L2  2.993722e+06    2.444479e+05            111767.0   \n",
       "2 2023-10-01    L1  3.372263e+08    1.018415e+07            219847.0   \n",
       "3 2023-10-01    L2  6.736397e+06    3.628039e+05             91174.0   \n",
       "4 2024-01-01    L1  3.134141e+08    1.056557e+07            207228.0   \n",
       "5 2024-01-01    L2  3.085369e+07    1.245990e+06            116469.0   \n",
       "6 2024-04-01    L1  1.464951e+08    4.000557e+06            119206.0   \n",
       "7 2024-04-01    L2  9.386908e+07    1.904343e+06            254842.0   \n",
       "\n",
       "   PERCENTAGE_OF_TOTAL_FEES  CUMULATIVE_FEES  \n",
       "0                 97.412929     9.204380e+06  \n",
       "1                  2.587071     2.444479e+05  \n",
       "2                 96.560109     1.018415e+07  \n",
       "3                  3.439891     3.628039e+05  \n",
       "4                 89.451095     1.056557e+07  \n",
       "5                 10.548905     1.245990e+06  \n",
       "6                 67.749780     4.000557e+06  \n",
       "7                 32.250220     1.904343e+06  "
      ]
     },
     "execution_count": 264,
     "metadata": {},
     "output_type": "execute_result"
    }
   ],
   "source": [
    "quarterly_totals_layers"
   ]
  },
  {
   "cell_type": "code",
   "execution_count": 265,
   "metadata": {},
   "outputs": [
    {
     "data": {
      "text/html": [
       "<div>\n",
       "<style scoped>\n",
       "    .dataframe tbody tr th:only-of-type {\n",
       "        vertical-align: middle;\n",
       "    }\n",
       "\n",
       "    .dataframe tbody tr th {\n",
       "        vertical-align: top;\n",
       "    }\n",
       "\n",
       "    .dataframe thead th {\n",
       "        text-align: right;\n",
       "    }\n",
       "</style>\n",
       "<table border=\"1\" class=\"dataframe\">\n",
       "  <thead>\n",
       "    <tr style=\"text-align: right;\">\n",
       "      <th></th>\n",
       "      <th>QUARTER</th>\n",
       "      <th>VOLUME_USD</th>\n",
       "      <th>TOTAL_FEES_USD</th>\n",
       "      <th>UNIQUE_TOTAL_USERS</th>\n",
       "      <th>NETWORK</th>\n",
       "      <th>LAYER</th>\n",
       "      <th>PERCENTAGE_OF_TOTAL_VOLUME</th>\n",
       "      <th>PERCENTAGE_OF_TOTAL_FEES</th>\n",
       "      <th>QUARTER_PERIOD</th>\n",
       "      <th>QUARTER_STR</th>\n",
       "    </tr>\n",
       "  </thead>\n",
       "  <tbody>\n",
       "    <tr>\n",
       "      <th>3</th>\n",
       "      <td>2024-04-01</td>\n",
       "      <td>1.464951e+08</td>\n",
       "      <td>4.000557e+06</td>\n",
       "      <td>119206.0</td>\n",
       "      <td>Ethereum</td>\n",
       "      <td>L1</td>\n",
       "      <td>60.947137</td>\n",
       "      <td>67.749780</td>\n",
       "      <td>2024Q2</td>\n",
       "      <td>2024 Q2</td>\n",
       "    </tr>\n",
       "    <tr>\n",
       "      <th>1</th>\n",
       "      <td>2024-04-01</td>\n",
       "      <td>8.832805e+07</td>\n",
       "      <td>1.746792e+06</td>\n",
       "      <td>224213.0</td>\n",
       "      <td>Base</td>\n",
       "      <td>L2</td>\n",
       "      <td>36.747597</td>\n",
       "      <td>29.582075</td>\n",
       "      <td>2024Q2</td>\n",
       "      <td>2024 Q2</td>\n",
       "    </tr>\n",
       "    <tr>\n",
       "      <th>2</th>\n",
       "      <td>2024-04-01</td>\n",
       "      <td>4.471819e+06</td>\n",
       "      <td>1.524340e+05</td>\n",
       "      <td>22008.0</td>\n",
       "      <td>Arbitrum</td>\n",
       "      <td>L2</td>\n",
       "      <td>1.860435</td>\n",
       "      <td>2.581483</td>\n",
       "      <td>2024Q2</td>\n",
       "      <td>2024 Q2</td>\n",
       "    </tr>\n",
       "    <tr>\n",
       "      <th>0</th>\n",
       "      <td>2024-04-01</td>\n",
       "      <td>1.069214e+06</td>\n",
       "      <td>5.117316e+03</td>\n",
       "      <td>8621.0</td>\n",
       "      <td>Optimism</td>\n",
       "      <td>L2</td>\n",
       "      <td>0.444831</td>\n",
       "      <td>0.086662</td>\n",
       "      <td>2024Q2</td>\n",
       "      <td>2024 Q2</td>\n",
       "    </tr>\n",
       "    <tr>\n",
       "      <th>5</th>\n",
       "      <td>2024-01-01</td>\n",
       "      <td>3.134141e+08</td>\n",
       "      <td>1.056557e+07</td>\n",
       "      <td>207228.0</td>\n",
       "      <td>Ethereum</td>\n",
       "      <td>L1</td>\n",
       "      <td>91.037882</td>\n",
       "      <td>89.451095</td>\n",
       "      <td>2024Q1</td>\n",
       "      <td>2024 Q1</td>\n",
       "    </tr>\n",
       "    <tr>\n",
       "      <th>7</th>\n",
       "      <td>2024-01-01</td>\n",
       "      <td>2.286210e+07</td>\n",
       "      <td>8.875876e+05</td>\n",
       "      <td>74021.0</td>\n",
       "      <td>Base</td>\n",
       "      <td>L2</td>\n",
       "      <td>6.640788</td>\n",
       "      <td>7.514569</td>\n",
       "      <td>2024Q1</td>\n",
       "      <td>2024 Q1</td>\n",
       "    </tr>\n",
       "    <tr>\n",
       "      <th>4</th>\n",
       "      <td>2024-01-01</td>\n",
       "      <td>7.328073e+06</td>\n",
       "      <td>3.308773e+05</td>\n",
       "      <td>27181.0</td>\n",
       "      <td>Arbitrum</td>\n",
       "      <td>L2</td>\n",
       "      <td>2.128596</td>\n",
       "      <td>2.801301</td>\n",
       "      <td>2024Q1</td>\n",
       "      <td>2024 Q1</td>\n",
       "    </tr>\n",
       "    <tr>\n",
       "      <th>6</th>\n",
       "      <td>2024-01-01</td>\n",
       "      <td>6.635193e+05</td>\n",
       "      <td>2.752500e+04</td>\n",
       "      <td>15267.0</td>\n",
       "      <td>Optimism</td>\n",
       "      <td>L2</td>\n",
       "      <td>0.192733</td>\n",
       "      <td>0.233034</td>\n",
       "      <td>2024Q1</td>\n",
       "      <td>2024 Q1</td>\n",
       "    </tr>\n",
       "    <tr>\n",
       "      <th>11</th>\n",
       "      <td>2023-10-01</td>\n",
       "      <td>3.372263e+08</td>\n",
       "      <td>1.018415e+07</td>\n",
       "      <td>219847.0</td>\n",
       "      <td>Ethereum</td>\n",
       "      <td>L1</td>\n",
       "      <td>98.041533</td>\n",
       "      <td>96.560109</td>\n",
       "      <td>2023Q4</td>\n",
       "      <td>2023 Q4</td>\n",
       "    </tr>\n",
       "    <tr>\n",
       "      <th>9</th>\n",
       "      <td>2023-10-01</td>\n",
       "      <td>5.530552e+06</td>\n",
       "      <td>2.971159e+05</td>\n",
       "      <td>53935.0</td>\n",
       "      <td>Arbitrum</td>\n",
       "      <td>L2</td>\n",
       "      <td>1.607893</td>\n",
       "      <td>2.817077</td>\n",
       "      <td>2023Q4</td>\n",
       "      <td>2023 Q4</td>\n",
       "    </tr>\n",
       "    <tr>\n",
       "      <th>8</th>\n",
       "      <td>2023-10-01</td>\n",
       "      <td>9.692585e+05</td>\n",
       "      <td>5.110091e+04</td>\n",
       "      <td>23088.0</td>\n",
       "      <td>Base</td>\n",
       "      <td>L2</td>\n",
       "      <td>0.281792</td>\n",
       "      <td>0.484509</td>\n",
       "      <td>2023Q4</td>\n",
       "      <td>2023 Q4</td>\n",
       "    </tr>\n",
       "    <tr>\n",
       "      <th>10</th>\n",
       "      <td>2023-10-01</td>\n",
       "      <td>2.365863e+05</td>\n",
       "      <td>1.458702e+04</td>\n",
       "      <td>14151.0</td>\n",
       "      <td>Optimism</td>\n",
       "      <td>L2</td>\n",
       "      <td>0.068783</td>\n",
       "      <td>0.138305</td>\n",
       "      <td>2023Q4</td>\n",
       "      <td>2023 Q4</td>\n",
       "    </tr>\n",
       "    <tr>\n",
       "      <th>13</th>\n",
       "      <td>2023-07-01</td>\n",
       "      <td>2.108915e+08</td>\n",
       "      <td>9.204380e+06</td>\n",
       "      <td>245918.0</td>\n",
       "      <td>Ethereum</td>\n",
       "      <td>L1</td>\n",
       "      <td>98.600314</td>\n",
       "      <td>97.412929</td>\n",
       "      <td>2023Q3</td>\n",
       "      <td>2023 Q3</td>\n",
       "    </tr>\n",
       "    <tr>\n",
       "      <th>14</th>\n",
       "      <td>2023-07-01</td>\n",
       "      <td>1.457560e+06</td>\n",
       "      <td>9.624207e+04</td>\n",
       "      <td>22758.0</td>\n",
       "      <td>Arbitrum</td>\n",
       "      <td>L2</td>\n",
       "      <td>0.681468</td>\n",
       "      <td>1.018561</td>\n",
       "      <td>2023Q3</td>\n",
       "      <td>2023 Q3</td>\n",
       "    </tr>\n",
       "    <tr>\n",
       "      <th>12</th>\n",
       "      <td>2023-07-01</td>\n",
       "      <td>1.235715e+06</td>\n",
       "      <td>1.346573e+05</td>\n",
       "      <td>42927.0</td>\n",
       "      <td>Base</td>\n",
       "      <td>L2</td>\n",
       "      <td>0.577747</td>\n",
       "      <td>1.425122</td>\n",
       "      <td>2023Q3</td>\n",
       "      <td>2023 Q3</td>\n",
       "    </tr>\n",
       "    <tr>\n",
       "      <th>15</th>\n",
       "      <td>2023-07-01</td>\n",
       "      <td>3.004463e+05</td>\n",
       "      <td>1.354855e+04</td>\n",
       "      <td>46082.0</td>\n",
       "      <td>Optimism</td>\n",
       "      <td>L2</td>\n",
       "      <td>0.140471</td>\n",
       "      <td>0.143389</td>\n",
       "      <td>2023Q3</td>\n",
       "      <td>2023 Q3</td>\n",
       "    </tr>\n",
       "  </tbody>\n",
       "</table>\n",
       "</div>"
      ],
      "text/plain": [
       "      QUARTER    VOLUME_USD  TOTAL_FEES_USD  UNIQUE_TOTAL_USERS   NETWORK  \\\n",
       "3  2024-04-01  1.464951e+08    4.000557e+06            119206.0  Ethereum   \n",
       "1  2024-04-01  8.832805e+07    1.746792e+06            224213.0      Base   \n",
       "2  2024-04-01  4.471819e+06    1.524340e+05             22008.0  Arbitrum   \n",
       "0  2024-04-01  1.069214e+06    5.117316e+03              8621.0  Optimism   \n",
       "5  2024-01-01  3.134141e+08    1.056557e+07            207228.0  Ethereum   \n",
       "7  2024-01-01  2.286210e+07    8.875876e+05             74021.0      Base   \n",
       "4  2024-01-01  7.328073e+06    3.308773e+05             27181.0  Arbitrum   \n",
       "6  2024-01-01  6.635193e+05    2.752500e+04             15267.0  Optimism   \n",
       "11 2023-10-01  3.372263e+08    1.018415e+07            219847.0  Ethereum   \n",
       "9  2023-10-01  5.530552e+06    2.971159e+05             53935.0  Arbitrum   \n",
       "8  2023-10-01  9.692585e+05    5.110091e+04             23088.0      Base   \n",
       "10 2023-10-01  2.365863e+05    1.458702e+04             14151.0  Optimism   \n",
       "13 2023-07-01  2.108915e+08    9.204380e+06            245918.0  Ethereum   \n",
       "14 2023-07-01  1.457560e+06    9.624207e+04             22758.0  Arbitrum   \n",
       "12 2023-07-01  1.235715e+06    1.346573e+05             42927.0      Base   \n",
       "15 2023-07-01  3.004463e+05    1.354855e+04             46082.0  Optimism   \n",
       "\n",
       "   LAYER  PERCENTAGE_OF_TOTAL_VOLUME  PERCENTAGE_OF_TOTAL_FEES QUARTER_PERIOD  \\\n",
       "3     L1                   60.947137                 67.749780         2024Q2   \n",
       "1     L2                   36.747597                 29.582075         2024Q2   \n",
       "2     L2                    1.860435                  2.581483         2024Q2   \n",
       "0     L2                    0.444831                  0.086662         2024Q2   \n",
       "5     L1                   91.037882                 89.451095         2024Q1   \n",
       "7     L2                    6.640788                  7.514569         2024Q1   \n",
       "4     L2                    2.128596                  2.801301         2024Q1   \n",
       "6     L2                    0.192733                  0.233034         2024Q1   \n",
       "11    L1                   98.041533                 96.560109         2023Q4   \n",
       "9     L2                    1.607893                  2.817077         2023Q4   \n",
       "8     L2                    0.281792                  0.484509         2023Q4   \n",
       "10    L2                    0.068783                  0.138305         2023Q4   \n",
       "13    L1                   98.600314                 97.412929         2023Q3   \n",
       "14    L2                    0.681468                  1.018561         2023Q3   \n",
       "12    L2                    0.577747                  1.425122         2023Q3   \n",
       "15    L2                    0.140471                  0.143389         2023Q3   \n",
       "\n",
       "   QUARTER_STR  \n",
       "3      2024 Q2  \n",
       "1      2024 Q2  \n",
       "2      2024 Q2  \n",
       "0      2024 Q2  \n",
       "5      2024 Q1  \n",
       "7      2024 Q1  \n",
       "4      2024 Q1  \n",
       "6      2024 Q1  \n",
       "11     2023 Q4  \n",
       "9      2023 Q4  \n",
       "8      2023 Q4  \n",
       "10     2023 Q4  \n",
       "13     2023 Q3  \n",
       "14     2023 Q3  \n",
       "12     2023 Q3  \n",
       "15     2023 Q3  "
      ]
     },
     "execution_count": 265,
     "metadata": {},
     "output_type": "execute_result"
    }
   ],
   "source": [
    "quarterly_data_sorted_vol"
   ]
  },
  {
   "cell_type": "code",
   "execution_count": 266,
   "metadata": {},
   "outputs": [
    {
     "data": {
      "text/html": [
       "<div>\n",
       "<style scoped>\n",
       "    .dataframe tbody tr th:only-of-type {\n",
       "        vertical-align: middle;\n",
       "    }\n",
       "\n",
       "    .dataframe tbody tr th {\n",
       "        vertical-align: top;\n",
       "    }\n",
       "\n",
       "    .dataframe thead th {\n",
       "        text-align: right;\n",
       "    }\n",
       "</style>\n",
       "<table border=\"1\" class=\"dataframe\">\n",
       "  <thead>\n",
       "    <tr style=\"text-align: right;\">\n",
       "      <th></th>\n",
       "      <th>QUARTER</th>\n",
       "      <th>VOLUME_USD</th>\n",
       "      <th>TOTAL_FEES_USD</th>\n",
       "      <th>UNIQUE_TOTAL_USERS</th>\n",
       "      <th>NETWORK</th>\n",
       "      <th>LAYER</th>\n",
       "      <th>PERCENTAGE_OF_TOTAL_VOLUME</th>\n",
       "      <th>PERCENTAGE_OF_TOTAL_FEES</th>\n",
       "      <th>QUARTER_PERIOD</th>\n",
       "      <th>QUARTER_STR</th>\n",
       "    </tr>\n",
       "  </thead>\n",
       "  <tbody>\n",
       "    <tr>\n",
       "      <th>3</th>\n",
       "      <td>2024-04-01</td>\n",
       "      <td>1.464951e+08</td>\n",
       "      <td>4.000557e+06</td>\n",
       "      <td>119206.0</td>\n",
       "      <td>Ethereum</td>\n",
       "      <td>L1</td>\n",
       "      <td>60.947137</td>\n",
       "      <td>67.749780</td>\n",
       "      <td>2024Q2</td>\n",
       "      <td>2024 Q2</td>\n",
       "    </tr>\n",
       "    <tr>\n",
       "      <th>1</th>\n",
       "      <td>2024-04-01</td>\n",
       "      <td>8.832805e+07</td>\n",
       "      <td>1.746792e+06</td>\n",
       "      <td>224213.0</td>\n",
       "      <td>Base</td>\n",
       "      <td>L2</td>\n",
       "      <td>36.747597</td>\n",
       "      <td>29.582075</td>\n",
       "      <td>2024Q2</td>\n",
       "      <td>2024 Q2</td>\n",
       "    </tr>\n",
       "    <tr>\n",
       "      <th>2</th>\n",
       "      <td>2024-04-01</td>\n",
       "      <td>4.471819e+06</td>\n",
       "      <td>1.524340e+05</td>\n",
       "      <td>22008.0</td>\n",
       "      <td>Arbitrum</td>\n",
       "      <td>L2</td>\n",
       "      <td>1.860435</td>\n",
       "      <td>2.581483</td>\n",
       "      <td>2024Q2</td>\n",
       "      <td>2024 Q2</td>\n",
       "    </tr>\n",
       "    <tr>\n",
       "      <th>0</th>\n",
       "      <td>2024-04-01</td>\n",
       "      <td>1.069214e+06</td>\n",
       "      <td>5.117316e+03</td>\n",
       "      <td>8621.0</td>\n",
       "      <td>Optimism</td>\n",
       "      <td>L2</td>\n",
       "      <td>0.444831</td>\n",
       "      <td>0.086662</td>\n",
       "      <td>2024Q2</td>\n",
       "      <td>2024 Q2</td>\n",
       "    </tr>\n",
       "    <tr>\n",
       "      <th>5</th>\n",
       "      <td>2024-01-01</td>\n",
       "      <td>3.134141e+08</td>\n",
       "      <td>1.056557e+07</td>\n",
       "      <td>207228.0</td>\n",
       "      <td>Ethereum</td>\n",
       "      <td>L1</td>\n",
       "      <td>91.037882</td>\n",
       "      <td>89.451095</td>\n",
       "      <td>2024Q1</td>\n",
       "      <td>2024 Q1</td>\n",
       "    </tr>\n",
       "    <tr>\n",
       "      <th>7</th>\n",
       "      <td>2024-01-01</td>\n",
       "      <td>2.286210e+07</td>\n",
       "      <td>8.875876e+05</td>\n",
       "      <td>74021.0</td>\n",
       "      <td>Base</td>\n",
       "      <td>L2</td>\n",
       "      <td>6.640788</td>\n",
       "      <td>7.514569</td>\n",
       "      <td>2024Q1</td>\n",
       "      <td>2024 Q1</td>\n",
       "    </tr>\n",
       "    <tr>\n",
       "      <th>4</th>\n",
       "      <td>2024-01-01</td>\n",
       "      <td>7.328073e+06</td>\n",
       "      <td>3.308773e+05</td>\n",
       "      <td>27181.0</td>\n",
       "      <td>Arbitrum</td>\n",
       "      <td>L2</td>\n",
       "      <td>2.128596</td>\n",
       "      <td>2.801301</td>\n",
       "      <td>2024Q1</td>\n",
       "      <td>2024 Q1</td>\n",
       "    </tr>\n",
       "    <tr>\n",
       "      <th>6</th>\n",
       "      <td>2024-01-01</td>\n",
       "      <td>6.635193e+05</td>\n",
       "      <td>2.752500e+04</td>\n",
       "      <td>15267.0</td>\n",
       "      <td>Optimism</td>\n",
       "      <td>L2</td>\n",
       "      <td>0.192733</td>\n",
       "      <td>0.233034</td>\n",
       "      <td>2024Q1</td>\n",
       "      <td>2024 Q1</td>\n",
       "    </tr>\n",
       "    <tr>\n",
       "      <th>11</th>\n",
       "      <td>2023-10-01</td>\n",
       "      <td>3.372263e+08</td>\n",
       "      <td>1.018415e+07</td>\n",
       "      <td>219847.0</td>\n",
       "      <td>Ethereum</td>\n",
       "      <td>L1</td>\n",
       "      <td>98.041533</td>\n",
       "      <td>96.560109</td>\n",
       "      <td>2023Q4</td>\n",
       "      <td>2023 Q4</td>\n",
       "    </tr>\n",
       "    <tr>\n",
       "      <th>9</th>\n",
       "      <td>2023-10-01</td>\n",
       "      <td>5.530552e+06</td>\n",
       "      <td>2.971159e+05</td>\n",
       "      <td>53935.0</td>\n",
       "      <td>Arbitrum</td>\n",
       "      <td>L2</td>\n",
       "      <td>1.607893</td>\n",
       "      <td>2.817077</td>\n",
       "      <td>2023Q4</td>\n",
       "      <td>2023 Q4</td>\n",
       "    </tr>\n",
       "    <tr>\n",
       "      <th>8</th>\n",
       "      <td>2023-10-01</td>\n",
       "      <td>9.692585e+05</td>\n",
       "      <td>5.110091e+04</td>\n",
       "      <td>23088.0</td>\n",
       "      <td>Base</td>\n",
       "      <td>L2</td>\n",
       "      <td>0.281792</td>\n",
       "      <td>0.484509</td>\n",
       "      <td>2023Q4</td>\n",
       "      <td>2023 Q4</td>\n",
       "    </tr>\n",
       "    <tr>\n",
       "      <th>10</th>\n",
       "      <td>2023-10-01</td>\n",
       "      <td>2.365863e+05</td>\n",
       "      <td>1.458702e+04</td>\n",
       "      <td>14151.0</td>\n",
       "      <td>Optimism</td>\n",
       "      <td>L2</td>\n",
       "      <td>0.068783</td>\n",
       "      <td>0.138305</td>\n",
       "      <td>2023Q4</td>\n",
       "      <td>2023 Q4</td>\n",
       "    </tr>\n",
       "    <tr>\n",
       "      <th>13</th>\n",
       "      <td>2023-07-01</td>\n",
       "      <td>2.108915e+08</td>\n",
       "      <td>9.204380e+06</td>\n",
       "      <td>245918.0</td>\n",
       "      <td>Ethereum</td>\n",
       "      <td>L1</td>\n",
       "      <td>98.600314</td>\n",
       "      <td>97.412929</td>\n",
       "      <td>2023Q3</td>\n",
       "      <td>2023 Q3</td>\n",
       "    </tr>\n",
       "    <tr>\n",
       "      <th>14</th>\n",
       "      <td>2023-07-01</td>\n",
       "      <td>1.457560e+06</td>\n",
       "      <td>9.624207e+04</td>\n",
       "      <td>22758.0</td>\n",
       "      <td>Arbitrum</td>\n",
       "      <td>L2</td>\n",
       "      <td>0.681468</td>\n",
       "      <td>1.018561</td>\n",
       "      <td>2023Q3</td>\n",
       "      <td>2023 Q3</td>\n",
       "    </tr>\n",
       "    <tr>\n",
       "      <th>12</th>\n",
       "      <td>2023-07-01</td>\n",
       "      <td>1.235715e+06</td>\n",
       "      <td>1.346573e+05</td>\n",
       "      <td>42927.0</td>\n",
       "      <td>Base</td>\n",
       "      <td>L2</td>\n",
       "      <td>0.577747</td>\n",
       "      <td>1.425122</td>\n",
       "      <td>2023Q3</td>\n",
       "      <td>2023 Q3</td>\n",
       "    </tr>\n",
       "    <tr>\n",
       "      <th>15</th>\n",
       "      <td>2023-07-01</td>\n",
       "      <td>3.004463e+05</td>\n",
       "      <td>1.354855e+04</td>\n",
       "      <td>46082.0</td>\n",
       "      <td>Optimism</td>\n",
       "      <td>L2</td>\n",
       "      <td>0.140471</td>\n",
       "      <td>0.143389</td>\n",
       "      <td>2023Q3</td>\n",
       "      <td>2023 Q3</td>\n",
       "    </tr>\n",
       "  </tbody>\n",
       "</table>\n",
       "</div>"
      ],
      "text/plain": [
       "      QUARTER    VOLUME_USD  TOTAL_FEES_USD  UNIQUE_TOTAL_USERS   NETWORK  \\\n",
       "3  2024-04-01  1.464951e+08    4.000557e+06            119206.0  Ethereum   \n",
       "1  2024-04-01  8.832805e+07    1.746792e+06            224213.0      Base   \n",
       "2  2024-04-01  4.471819e+06    1.524340e+05             22008.0  Arbitrum   \n",
       "0  2024-04-01  1.069214e+06    5.117316e+03              8621.0  Optimism   \n",
       "5  2024-01-01  3.134141e+08    1.056557e+07            207228.0  Ethereum   \n",
       "7  2024-01-01  2.286210e+07    8.875876e+05             74021.0      Base   \n",
       "4  2024-01-01  7.328073e+06    3.308773e+05             27181.0  Arbitrum   \n",
       "6  2024-01-01  6.635193e+05    2.752500e+04             15267.0  Optimism   \n",
       "11 2023-10-01  3.372263e+08    1.018415e+07            219847.0  Ethereum   \n",
       "9  2023-10-01  5.530552e+06    2.971159e+05             53935.0  Arbitrum   \n",
       "8  2023-10-01  9.692585e+05    5.110091e+04             23088.0      Base   \n",
       "10 2023-10-01  2.365863e+05    1.458702e+04             14151.0  Optimism   \n",
       "13 2023-07-01  2.108915e+08    9.204380e+06            245918.0  Ethereum   \n",
       "14 2023-07-01  1.457560e+06    9.624207e+04             22758.0  Arbitrum   \n",
       "12 2023-07-01  1.235715e+06    1.346573e+05             42927.0      Base   \n",
       "15 2023-07-01  3.004463e+05    1.354855e+04             46082.0  Optimism   \n",
       "\n",
       "   LAYER  PERCENTAGE_OF_TOTAL_VOLUME  PERCENTAGE_OF_TOTAL_FEES QUARTER_PERIOD  \\\n",
       "3     L1                   60.947137                 67.749780         2024Q2   \n",
       "1     L2                   36.747597                 29.582075         2024Q2   \n",
       "2     L2                    1.860435                  2.581483         2024Q2   \n",
       "0     L2                    0.444831                  0.086662         2024Q2   \n",
       "5     L1                   91.037882                 89.451095         2024Q1   \n",
       "7     L2                    6.640788                  7.514569         2024Q1   \n",
       "4     L2                    2.128596                  2.801301         2024Q1   \n",
       "6     L2                    0.192733                  0.233034         2024Q1   \n",
       "11    L1                   98.041533                 96.560109         2023Q4   \n",
       "9     L2                    1.607893                  2.817077         2023Q4   \n",
       "8     L2                    0.281792                  0.484509         2023Q4   \n",
       "10    L2                    0.068783                  0.138305         2023Q4   \n",
       "13    L1                   98.600314                 97.412929         2023Q3   \n",
       "14    L2                    0.681468                  1.018561         2023Q3   \n",
       "12    L2                    0.577747                  1.425122         2023Q3   \n",
       "15    L2                    0.140471                  0.143389         2023Q3   \n",
       "\n",
       "   QUARTER_STR  \n",
       "3      2024 Q2  \n",
       "1      2024 Q2  \n",
       "2      2024 Q2  \n",
       "0      2024 Q2  \n",
       "5      2024 Q1  \n",
       "7      2024 Q1  \n",
       "4      2024 Q1  \n",
       "6      2024 Q1  \n",
       "11     2023 Q4  \n",
       "9      2023 Q4  \n",
       "8      2023 Q4  \n",
       "10     2023 Q4  \n",
       "13     2023 Q3  \n",
       "14     2023 Q3  \n",
       "12     2023 Q3  \n",
       "15     2023 Q3  "
      ]
     },
     "execution_count": 266,
     "metadata": {},
     "output_type": "execute_result"
    }
   ],
   "source": [
    "quarterly_data_sorted_vol"
   ]
  },
  {
   "cell_type": "code",
   "execution_count": 267,
   "metadata": {},
   "outputs": [],
   "source": [
    "total_unique_users = quarterly_data.groupby('QUARTER')['UNIQUE_TOTAL_USERS'].sum().reset_index()\n",
    "total_unique_users.columns = ['QUARTER', 'TOTAL_UNIQUE_USERS']\n",
    "\n",
    "# Merge total unique users back into the original DataFrame\n",
    "quarterly_data = quarterly_data.merge(total_unique_users, on='QUARTER')\n",
    "\n",
    "# Calculate the percentage of unique users for each network\n",
    "quarterly_data['PERCENTAGE_OF_TOTAL_USERS'] = (quarterly_data['UNIQUE_TOTAL_USERS'] / quarterly_data['TOTAL_UNIQUE_USERS']) * 100\n",
    "\n"
   ]
  },
  {
   "cell_type": "code",
   "execution_count": 268,
   "metadata": {},
   "outputs": [
    {
     "data": {
      "text/html": [
       "<div>\n",
       "<style scoped>\n",
       "    .dataframe tbody tr th:only-of-type {\n",
       "        vertical-align: middle;\n",
       "    }\n",
       "\n",
       "    .dataframe tbody tr th {\n",
       "        vertical-align: top;\n",
       "    }\n",
       "\n",
       "    .dataframe thead th {\n",
       "        text-align: right;\n",
       "    }\n",
       "</style>\n",
       "<table border=\"1\" class=\"dataframe\">\n",
       "  <thead>\n",
       "    <tr style=\"text-align: right;\">\n",
       "      <th></th>\n",
       "      <th>QUARTER</th>\n",
       "      <th>TOTAL_UNIQUE_USERS</th>\n",
       "    </tr>\n",
       "  </thead>\n",
       "  <tbody>\n",
       "    <tr>\n",
       "      <th>0</th>\n",
       "      <td>2023-07-01</td>\n",
       "      <td>357685.0</td>\n",
       "    </tr>\n",
       "    <tr>\n",
       "      <th>1</th>\n",
       "      <td>2023-10-01</td>\n",
       "      <td>311021.0</td>\n",
       "    </tr>\n",
       "    <tr>\n",
       "      <th>2</th>\n",
       "      <td>2024-01-01</td>\n",
       "      <td>323697.0</td>\n",
       "    </tr>\n",
       "    <tr>\n",
       "      <th>3</th>\n",
       "      <td>2024-04-01</td>\n",
       "      <td>374048.0</td>\n",
       "    </tr>\n",
       "  </tbody>\n",
       "</table>\n",
       "</div>"
      ],
      "text/plain": [
       "     QUARTER  TOTAL_UNIQUE_USERS\n",
       "0 2023-07-01            357685.0\n",
       "1 2023-10-01            311021.0\n",
       "2 2024-01-01            323697.0\n",
       "3 2024-04-01            374048.0"
      ]
     },
     "execution_count": 268,
     "metadata": {},
     "output_type": "execute_result"
    }
   ],
   "source": [
    "total_unique_users"
   ]
  },
  {
   "cell_type": "code",
   "execution_count": 269,
   "metadata": {},
   "outputs": [
    {
     "data": {
      "text/html": [
       "<div>\n",
       "<style scoped>\n",
       "    .dataframe tbody tr th:only-of-type {\n",
       "        vertical-align: middle;\n",
       "    }\n",
       "\n",
       "    .dataframe tbody tr th {\n",
       "        vertical-align: top;\n",
       "    }\n",
       "\n",
       "    .dataframe thead th {\n",
       "        text-align: right;\n",
       "    }\n",
       "</style>\n",
       "<table border=\"1\" class=\"dataframe\">\n",
       "  <thead>\n",
       "    <tr style=\"text-align: right;\">\n",
       "      <th></th>\n",
       "      <th>QUARTER</th>\n",
       "      <th>VOLUME_USD</th>\n",
       "      <th>TOTAL_FEES_USD</th>\n",
       "      <th>UNIQUE_TOTAL_USERS</th>\n",
       "      <th>NETWORK</th>\n",
       "      <th>LAYER</th>\n",
       "      <th>PERCENTAGE_OF_TOTAL_VOLUME</th>\n",
       "      <th>PERCENTAGE_OF_TOTAL_FEES</th>\n",
       "      <th>QUARTER_PERIOD</th>\n",
       "      <th>QUARTER_STR</th>\n",
       "      <th>VOLUME_USD_CLEAN</th>\n",
       "      <th>TOTAL_UNIQUE_USERS</th>\n",
       "      <th>PERCENTAGE_OF_TOTAL_USERS</th>\n",
       "    </tr>\n",
       "  </thead>\n",
       "  <tbody>\n",
       "    <tr>\n",
       "      <th>0</th>\n",
       "      <td>2024-04-01</td>\n",
       "      <td>1.069214e+06</td>\n",
       "      <td>5.117316e+03</td>\n",
       "      <td>8621.0</td>\n",
       "      <td>Optimism</td>\n",
       "      <td>L2</td>\n",
       "      <td>0.444831</td>\n",
       "      <td>0.086662</td>\n",
       "      <td>2024Q2</td>\n",
       "      <td>2024 Q2</td>\n",
       "      <td>1.1M</td>\n",
       "      <td>374048.0</td>\n",
       "      <td>2.304784</td>\n",
       "    </tr>\n",
       "    <tr>\n",
       "      <th>1</th>\n",
       "      <td>2024-04-01</td>\n",
       "      <td>8.832805e+07</td>\n",
       "      <td>1.746792e+06</td>\n",
       "      <td>224213.0</td>\n",
       "      <td>Base</td>\n",
       "      <td>L2</td>\n",
       "      <td>36.747597</td>\n",
       "      <td>29.582075</td>\n",
       "      <td>2024Q2</td>\n",
       "      <td>2024 Q2</td>\n",
       "      <td>88.3M</td>\n",
       "      <td>374048.0</td>\n",
       "      <td>59.942307</td>\n",
       "    </tr>\n",
       "    <tr>\n",
       "      <th>2</th>\n",
       "      <td>2024-04-01</td>\n",
       "      <td>4.471819e+06</td>\n",
       "      <td>1.524340e+05</td>\n",
       "      <td>22008.0</td>\n",
       "      <td>Arbitrum</td>\n",
       "      <td>L2</td>\n",
       "      <td>1.860435</td>\n",
       "      <td>2.581483</td>\n",
       "      <td>2024Q2</td>\n",
       "      <td>2024 Q2</td>\n",
       "      <td>4.5M</td>\n",
       "      <td>374048.0</td>\n",
       "      <td>5.883737</td>\n",
       "    </tr>\n",
       "    <tr>\n",
       "      <th>3</th>\n",
       "      <td>2024-04-01</td>\n",
       "      <td>1.464951e+08</td>\n",
       "      <td>4.000557e+06</td>\n",
       "      <td>119206.0</td>\n",
       "      <td>Ethereum</td>\n",
       "      <td>L1</td>\n",
       "      <td>60.947137</td>\n",
       "      <td>67.749780</td>\n",
       "      <td>2024Q2</td>\n",
       "      <td>2024 Q2</td>\n",
       "      <td>146.5M</td>\n",
       "      <td>374048.0</td>\n",
       "      <td>31.869172</td>\n",
       "    </tr>\n",
       "    <tr>\n",
       "      <th>4</th>\n",
       "      <td>2024-01-01</td>\n",
       "      <td>7.328073e+06</td>\n",
       "      <td>3.308773e+05</td>\n",
       "      <td>27181.0</td>\n",
       "      <td>Arbitrum</td>\n",
       "      <td>L2</td>\n",
       "      <td>2.128596</td>\n",
       "      <td>2.801301</td>\n",
       "      <td>2024Q1</td>\n",
       "      <td>2024 Q1</td>\n",
       "      <td>7.3M</td>\n",
       "      <td>323697.0</td>\n",
       "      <td>8.397050</td>\n",
       "    </tr>\n",
       "    <tr>\n",
       "      <th>5</th>\n",
       "      <td>2024-01-01</td>\n",
       "      <td>3.134141e+08</td>\n",
       "      <td>1.056557e+07</td>\n",
       "      <td>207228.0</td>\n",
       "      <td>Ethereum</td>\n",
       "      <td>L1</td>\n",
       "      <td>91.037882</td>\n",
       "      <td>89.451095</td>\n",
       "      <td>2024Q1</td>\n",
       "      <td>2024 Q1</td>\n",
       "      <td>313.4M</td>\n",
       "      <td>323697.0</td>\n",
       "      <td>64.019129</td>\n",
       "    </tr>\n",
       "    <tr>\n",
       "      <th>6</th>\n",
       "      <td>2024-01-01</td>\n",
       "      <td>6.635193e+05</td>\n",
       "      <td>2.752500e+04</td>\n",
       "      <td>15267.0</td>\n",
       "      <td>Optimism</td>\n",
       "      <td>L2</td>\n",
       "      <td>0.192733</td>\n",
       "      <td>0.233034</td>\n",
       "      <td>2024Q1</td>\n",
       "      <td>2024 Q1</td>\n",
       "      <td>663.5K</td>\n",
       "      <td>323697.0</td>\n",
       "      <td>4.716448</td>\n",
       "    </tr>\n",
       "    <tr>\n",
       "      <th>7</th>\n",
       "      <td>2024-01-01</td>\n",
       "      <td>2.286210e+07</td>\n",
       "      <td>8.875876e+05</td>\n",
       "      <td>74021.0</td>\n",
       "      <td>Base</td>\n",
       "      <td>L2</td>\n",
       "      <td>6.640788</td>\n",
       "      <td>7.514569</td>\n",
       "      <td>2024Q1</td>\n",
       "      <td>2024 Q1</td>\n",
       "      <td>22.9M</td>\n",
       "      <td>323697.0</td>\n",
       "      <td>22.867373</td>\n",
       "    </tr>\n",
       "    <tr>\n",
       "      <th>8</th>\n",
       "      <td>2023-10-01</td>\n",
       "      <td>9.692585e+05</td>\n",
       "      <td>5.110091e+04</td>\n",
       "      <td>23088.0</td>\n",
       "      <td>Base</td>\n",
       "      <td>L2</td>\n",
       "      <td>0.281792</td>\n",
       "      <td>0.484509</td>\n",
       "      <td>2023Q4</td>\n",
       "      <td>2023 Q4</td>\n",
       "      <td>969.3K</td>\n",
       "      <td>311021.0</td>\n",
       "      <td>7.423293</td>\n",
       "    </tr>\n",
       "    <tr>\n",
       "      <th>9</th>\n",
       "      <td>2023-10-01</td>\n",
       "      <td>5.530552e+06</td>\n",
       "      <td>2.971159e+05</td>\n",
       "      <td>53935.0</td>\n",
       "      <td>Arbitrum</td>\n",
       "      <td>L2</td>\n",
       "      <td>1.607893</td>\n",
       "      <td>2.817077</td>\n",
       "      <td>2023Q4</td>\n",
       "      <td>2023 Q4</td>\n",
       "      <td>5.5M</td>\n",
       "      <td>311021.0</td>\n",
       "      <td>17.341273</td>\n",
       "    </tr>\n",
       "    <tr>\n",
       "      <th>10</th>\n",
       "      <td>2023-10-01</td>\n",
       "      <td>2.365863e+05</td>\n",
       "      <td>1.458702e+04</td>\n",
       "      <td>14151.0</td>\n",
       "      <td>Optimism</td>\n",
       "      <td>L2</td>\n",
       "      <td>0.068783</td>\n",
       "      <td>0.138305</td>\n",
       "      <td>2023Q4</td>\n",
       "      <td>2023 Q4</td>\n",
       "      <td>236.6K</td>\n",
       "      <td>311021.0</td>\n",
       "      <td>4.549854</td>\n",
       "    </tr>\n",
       "    <tr>\n",
       "      <th>11</th>\n",
       "      <td>2023-10-01</td>\n",
       "      <td>3.372263e+08</td>\n",
       "      <td>1.018415e+07</td>\n",
       "      <td>219847.0</td>\n",
       "      <td>Ethereum</td>\n",
       "      <td>L1</td>\n",
       "      <td>98.041533</td>\n",
       "      <td>96.560109</td>\n",
       "      <td>2023Q4</td>\n",
       "      <td>2023 Q4</td>\n",
       "      <td>337.2M</td>\n",
       "      <td>311021.0</td>\n",
       "      <td>70.685581</td>\n",
       "    </tr>\n",
       "    <tr>\n",
       "      <th>12</th>\n",
       "      <td>2023-07-01</td>\n",
       "      <td>1.235715e+06</td>\n",
       "      <td>1.346573e+05</td>\n",
       "      <td>42927.0</td>\n",
       "      <td>Base</td>\n",
       "      <td>L2</td>\n",
       "      <td>0.577747</td>\n",
       "      <td>1.425122</td>\n",
       "      <td>2023Q3</td>\n",
       "      <td>2023 Q3</td>\n",
       "      <td>1.2M</td>\n",
       "      <td>357685.0</td>\n",
       "      <td>12.001342</td>\n",
       "    </tr>\n",
       "    <tr>\n",
       "      <th>13</th>\n",
       "      <td>2023-07-01</td>\n",
       "      <td>2.108915e+08</td>\n",
       "      <td>9.204380e+06</td>\n",
       "      <td>245918.0</td>\n",
       "      <td>Ethereum</td>\n",
       "      <td>L1</td>\n",
       "      <td>98.600314</td>\n",
       "      <td>97.412929</td>\n",
       "      <td>2023Q3</td>\n",
       "      <td>2023 Q3</td>\n",
       "      <td>210.9M</td>\n",
       "      <td>357685.0</td>\n",
       "      <td>68.752673</td>\n",
       "    </tr>\n",
       "    <tr>\n",
       "      <th>14</th>\n",
       "      <td>2023-07-01</td>\n",
       "      <td>1.457560e+06</td>\n",
       "      <td>9.624207e+04</td>\n",
       "      <td>22758.0</td>\n",
       "      <td>Arbitrum</td>\n",
       "      <td>L2</td>\n",
       "      <td>0.681468</td>\n",
       "      <td>1.018561</td>\n",
       "      <td>2023Q3</td>\n",
       "      <td>2023 Q3</td>\n",
       "      <td>1.5M</td>\n",
       "      <td>357685.0</td>\n",
       "      <td>6.362582</td>\n",
       "    </tr>\n",
       "    <tr>\n",
       "      <th>15</th>\n",
       "      <td>2023-07-01</td>\n",
       "      <td>3.004463e+05</td>\n",
       "      <td>1.354855e+04</td>\n",
       "      <td>46082.0</td>\n",
       "      <td>Optimism</td>\n",
       "      <td>L2</td>\n",
       "      <td>0.140471</td>\n",
       "      <td>0.143389</td>\n",
       "      <td>2023Q3</td>\n",
       "      <td>2023 Q3</td>\n",
       "      <td>300.4K</td>\n",
       "      <td>357685.0</td>\n",
       "      <td>12.883403</td>\n",
       "    </tr>\n",
       "  </tbody>\n",
       "</table>\n",
       "</div>"
      ],
      "text/plain": [
       "      QUARTER    VOLUME_USD  TOTAL_FEES_USD  UNIQUE_TOTAL_USERS   NETWORK  \\\n",
       "0  2024-04-01  1.069214e+06    5.117316e+03              8621.0  Optimism   \n",
       "1  2024-04-01  8.832805e+07    1.746792e+06            224213.0      Base   \n",
       "2  2024-04-01  4.471819e+06    1.524340e+05             22008.0  Arbitrum   \n",
       "3  2024-04-01  1.464951e+08    4.000557e+06            119206.0  Ethereum   \n",
       "4  2024-01-01  7.328073e+06    3.308773e+05             27181.0  Arbitrum   \n",
       "5  2024-01-01  3.134141e+08    1.056557e+07            207228.0  Ethereum   \n",
       "6  2024-01-01  6.635193e+05    2.752500e+04             15267.0  Optimism   \n",
       "7  2024-01-01  2.286210e+07    8.875876e+05             74021.0      Base   \n",
       "8  2023-10-01  9.692585e+05    5.110091e+04             23088.0      Base   \n",
       "9  2023-10-01  5.530552e+06    2.971159e+05             53935.0  Arbitrum   \n",
       "10 2023-10-01  2.365863e+05    1.458702e+04             14151.0  Optimism   \n",
       "11 2023-10-01  3.372263e+08    1.018415e+07            219847.0  Ethereum   \n",
       "12 2023-07-01  1.235715e+06    1.346573e+05             42927.0      Base   \n",
       "13 2023-07-01  2.108915e+08    9.204380e+06            245918.0  Ethereum   \n",
       "14 2023-07-01  1.457560e+06    9.624207e+04             22758.0  Arbitrum   \n",
       "15 2023-07-01  3.004463e+05    1.354855e+04             46082.0  Optimism   \n",
       "\n",
       "   LAYER  PERCENTAGE_OF_TOTAL_VOLUME  PERCENTAGE_OF_TOTAL_FEES QUARTER_PERIOD  \\\n",
       "0     L2                    0.444831                  0.086662         2024Q2   \n",
       "1     L2                   36.747597                 29.582075         2024Q2   \n",
       "2     L2                    1.860435                  2.581483         2024Q2   \n",
       "3     L1                   60.947137                 67.749780         2024Q2   \n",
       "4     L2                    2.128596                  2.801301         2024Q1   \n",
       "5     L1                   91.037882                 89.451095         2024Q1   \n",
       "6     L2                    0.192733                  0.233034         2024Q1   \n",
       "7     L2                    6.640788                  7.514569         2024Q1   \n",
       "8     L2                    0.281792                  0.484509         2023Q4   \n",
       "9     L2                    1.607893                  2.817077         2023Q4   \n",
       "10    L2                    0.068783                  0.138305         2023Q4   \n",
       "11    L1                   98.041533                 96.560109         2023Q4   \n",
       "12    L2                    0.577747                  1.425122         2023Q3   \n",
       "13    L1                   98.600314                 97.412929         2023Q3   \n",
       "14    L2                    0.681468                  1.018561         2023Q3   \n",
       "15    L2                    0.140471                  0.143389         2023Q3   \n",
       "\n",
       "   QUARTER_STR VOLUME_USD_CLEAN  TOTAL_UNIQUE_USERS  PERCENTAGE_OF_TOTAL_USERS  \n",
       "0      2024 Q2             1.1M            374048.0                   2.304784  \n",
       "1      2024 Q2            88.3M            374048.0                  59.942307  \n",
       "2      2024 Q2             4.5M            374048.0                   5.883737  \n",
       "3      2024 Q2           146.5M            374048.0                  31.869172  \n",
       "4      2024 Q1             7.3M            323697.0                   8.397050  \n",
       "5      2024 Q1           313.4M            323697.0                  64.019129  \n",
       "6      2024 Q1           663.5K            323697.0                   4.716448  \n",
       "7      2024 Q1            22.9M            323697.0                  22.867373  \n",
       "8      2023 Q4           969.3K            311021.0                   7.423293  \n",
       "9      2023 Q4             5.5M            311021.0                  17.341273  \n",
       "10     2023 Q4           236.6K            311021.0                   4.549854  \n",
       "11     2023 Q4           337.2M            311021.0                  70.685581  \n",
       "12     2023 Q3             1.2M            357685.0                  12.001342  \n",
       "13     2023 Q3           210.9M            357685.0                  68.752673  \n",
       "14     2023 Q3             1.5M            357685.0                   6.362582  \n",
       "15     2023 Q3           300.4K            357685.0                  12.883403  "
      ]
     },
     "execution_count": 269,
     "metadata": {},
     "output_type": "execute_result"
    }
   ],
   "source": [
    "quarterly_data"
   ]
  },
  {
   "cell_type": "code",
   "execution_count": 270,
   "metadata": {},
   "outputs": [],
   "source": [
    "base_data = quarterly_data[quarterly_data['NETWORK'] == 'base']\n",
    "eth_data = quarterly_data[quarterly_data['NETWORK'] == 'ethereum']"
   ]
  },
  {
   "cell_type": "markdown",
   "metadata": {},
   "source": [
    "fig = make_subplots(specs=[[{\"secondary_y\": True}]])\n",
    "\n",
    "# Add traces for percentage of unique users by network\n",
    "for network in quarterly_data['NETWORK'].unique():\n",
    "    network_df = quarterly_data[quarterly_data['NETWORK'] == network]\n",
    "    fig.add_trace(\n",
    "        go.Scatter(\n",
    "            x=network_df['QUARTER'],\n",
    "            y=network_df['UNIQUE_TOTAL_USERS'],\n",
    "            name=f'{network}',\n",
    "            mode='lines+markers',  # Ensure text is included\n",
    "            text=network_df['UNIQUE_TOTAL_USERS'].apply(clean_values),\n",
    "            textposition='middle center',  # Position of the text\n",
    "            texttemplate='%{text}',  # Format of the text\n",
    "            # stackgroup='one',\n",
    "            # groupnorm='percent'\n",
    "        ),\n",
    "        secondary_y=False\n",
    "    ) \n",
    "\n",
    "# Add annotations with manually adjusted y-values\n",
    "for _, row in base_data.iterrows():\n",
    "    fig.add_annotation(\n",
    "        x=row['QUARTER'],\n",
    "        y=row['UNIQUE_TOTAL_USERS'],  # Use normalized value for annotations\n",
    "        text=clean_values(row['UNIQUE_TOTAL_USERS']),\n",
    "        showarrow=True,\n",
    "        arrowhead=2,\n",
    "        ax=-20,\n",
    "        ay=-30,\n",
    "        font=dict(size=10),\n",
    "        xref='x',\n",
    "        yref='y'\n",
    "    )\n",
    "\n",
    "for _, row in eth_data.iterrows():\n",
    "    fig.add_annotation(\n",
    "        x=row['QUARTER'],\n",
    "        y=row['UNIQUE_TOTAL_USERS'],  # Use normalized value for annotations\n",
    "        text=clean_values(row['UNIQUE_TOTAL_USERS']),\n",
    "        showarrow=True,\n",
    "        arrowhead=2,\n",
    "        ax=-20,\n",
    "        ay=-30,\n",
    "        font=dict(size=10),\n",
    "        xref='x',\n",
    "        yref='y'\n",
    "    )\n",
    "    \n",
    "\n",
    "fig.update_layout(\n",
    "    title='Number of Unique Users By Network',\n",
    "    xaxis_title='Quarter',\n",
    "    yaxis_title='Number of Users',\n",
    "    legend=dict(yanchor=\"top\", y=0.5, xanchor=\"left\", x=1.05),\n",
    "    plot_bgcolor='#f4f4f4',\n",
    "    paper_bgcolor='#f4f4f4'\n",
    ")\n",
    "\n",
    "fig.show()"
   ]
  },
  {
   "cell_type": "code",
   "execution_count": 271,
   "metadata": {},
   "outputs": [
    {
     "data": {
      "text/plain": [
       "0     2024 Q2\n",
       "1     2024 Q2\n",
       "2     2024 Q2\n",
       "3     2024 Q2\n",
       "4     2024 Q1\n",
       "5     2024 Q1\n",
       "6     2024 Q1\n",
       "7     2024 Q1\n",
       "8     2023 Q4\n",
       "9     2023 Q4\n",
       "10    2023 Q4\n",
       "11    2023 Q4\n",
       "12    2023 Q3\n",
       "13    2023 Q3\n",
       "14    2023 Q3\n",
       "15    2023 Q3\n",
       "Name: QUARTER_STR, dtype: object"
      ]
     },
     "execution_count": 271,
     "metadata": {},
     "output_type": "execute_result"
    }
   ],
   "source": [
    "quarterly_data['QUARTER_STR']"
   ]
  },
  {
   "cell_type": "code",
   "execution_count": 272,
   "metadata": {},
   "outputs": [],
   "source": [
    "quarterly_data = quarterly_data.sort_values('QUARTER', ascending=True)"
   ]
  },
  {
   "cell_type": "code",
   "execution_count": 273,
   "metadata": {},
   "outputs": [
    {
     "data": {
      "application/vnd.plotly.v1+json": {
       "config": {
        "plotlyServerURL": "https://plot.ly"
       },
       "data": [
        {
         "line": {
          "width": 3
         },
         "marker": {
          "color": "red",
          "size": 10
         },
         "mode": "lines+markers",
         "name": "Arbitrum",
         "text": [
          "22.8K",
          "53.9K",
          "27.2K",
          "22.0K"
         ],
         "textposition": "middle center",
         "texttemplate": "%{text}",
         "type": "scatter",
         "x": [
          "2023 Q3",
          "2023 Q4",
          "2024 Q1",
          "2024 Q2"
         ],
         "xaxis": "x",
         "y": [
          22758,
          53935,
          27181,
          22008
         ],
         "yaxis": "y"
        },
        {
         "line": {
          "width": 3
         },
         "marker": {
          "color": "blue",
          "size": 10
         },
         "mode": "lines+markers",
         "name": "Base",
         "text": [
          "42.9K",
          "23.1K",
          "74.0K",
          "224.2K"
         ],
         "textposition": "middle center",
         "texttemplate": "%{text}",
         "type": "scatter",
         "x": [
          "2023 Q3",
          "2023 Q4",
          "2024 Q1",
          "2024 Q2"
         ],
         "xaxis": "x",
         "y": [
          42927,
          23088,
          74021,
          224213
         ],
         "yaxis": "y"
        },
        {
         "line": {
          "width": 3
         },
         "marker": {
          "color": "#6cfdd2",
          "size": 10
         },
         "mode": "lines+markers",
         "name": "Ethereum",
         "text": [
          "245.9K",
          "219.8K",
          "207.2K",
          "119.2K"
         ],
         "textposition": "middle center",
         "texttemplate": "%{text}",
         "type": "scatter",
         "x": [
          "2023 Q3",
          "2023 Q4",
          "2024 Q1",
          "2024 Q2"
         ],
         "xaxis": "x",
         "y": [
          245918,
          219847,
          207228,
          119206
         ],
         "yaxis": "y"
        },
        {
         "line": {
          "width": 3
         },
         "marker": {
          "color": "purple",
          "size": 10
         },
         "mode": "lines+markers",
         "name": "Optimism",
         "text": [
          "46.1K",
          "14.2K",
          "15.3K",
          "8.6K"
         ],
         "textposition": "middle center",
         "texttemplate": "%{text}",
         "type": "scatter",
         "x": [
          "2023 Q3",
          "2023 Q4",
          "2024 Q1",
          "2024 Q2"
         ],
         "xaxis": "x",
         "y": [
          46082,
          14151,
          15267,
          8621
         ],
         "yaxis": "y"
        }
       ],
       "layout": {
        "annotations": [
         {
          "arrowhead": 2,
          "ax": -50,
          "ay": -30,
          "font": {
           "color": "black",
           "family": "Arial, sans-serif",
           "size": 25,
           "weight": "bold"
          },
          "showarrow": true,
          "text": "Base Q2 24: 224.2K",
          "x": "2024 Q2",
          "xref": "x",
          "y": 224213,
          "yref": "y"
         },
         {
          "arrowhead": 2,
          "ax": 100,
          "ay": -50,
          "font": {
           "color": "black",
           "family": "Arial, sans-serif",
           "size": 25,
           "weight": "bold"
          },
          "showarrow": true,
          "text": "Base Q3 23: 42.9K",
          "x": "2023 Q3",
          "xref": "x",
          "y": 42927,
          "yref": "y"
         },
         {
          "arrowhead": 2,
          "ax": -50,
          "ay": -30,
          "font": {
           "color": "black",
           "family": "Arial, sans-serif",
           "size": 25,
           "weight": "bold"
          },
          "showarrow": true,
          "text": "Ethereum Q2 24: 119.2K",
          "x": "2024 Q2",
          "xref": "x",
          "y": 119206,
          "yref": "y"
         },
         {
          "arrowhead": 2,
          "ax": 100,
          "ay": -50,
          "font": {
           "color": "black",
           "family": "Arial, sans-serif",
           "size": 25,
           "weight": "bold"
          },
          "showarrow": true,
          "text": "Ethereum Q3 23: 245.9K",
          "x": "2023 Q3",
          "xref": "x",
          "y": 245918,
          "yref": "y"
         }
        ],
        "font": {
         "family": "Arial, sans-serif",
         "size": 25
        },
        "height": 800,
        "legend": {
         "x": 1.05,
         "xanchor": "left",
         "y": 0.5,
         "yanchor": "top"
        },
        "margin": {
         "b": 50,
         "l": 50,
         "r": 50,
         "t": 100
        },
        "paper_bgcolor": "#f4f4f4",
        "plot_bgcolor": "#f4f4f4",
        "template": {
         "data": {
          "bar": [
           {
            "error_x": {
             "color": "#2a3f5f"
            },
            "error_y": {
             "color": "#2a3f5f"
            },
            "marker": {
             "line": {
              "color": "#E5ECF6",
              "width": 0.5
             },
             "pattern": {
              "fillmode": "overlay",
              "size": 10,
              "solidity": 0.2
             }
            },
            "type": "bar"
           }
          ],
          "barpolar": [
           {
            "marker": {
             "line": {
              "color": "#E5ECF6",
              "width": 0.5
             },
             "pattern": {
              "fillmode": "overlay",
              "size": 10,
              "solidity": 0.2
             }
            },
            "type": "barpolar"
           }
          ],
          "carpet": [
           {
            "aaxis": {
             "endlinecolor": "#2a3f5f",
             "gridcolor": "white",
             "linecolor": "white",
             "minorgridcolor": "white",
             "startlinecolor": "#2a3f5f"
            },
            "baxis": {
             "endlinecolor": "#2a3f5f",
             "gridcolor": "white",
             "linecolor": "white",
             "minorgridcolor": "white",
             "startlinecolor": "#2a3f5f"
            },
            "type": "carpet"
           }
          ],
          "choropleth": [
           {
            "colorbar": {
             "outlinewidth": 0,
             "ticks": ""
            },
            "type": "choropleth"
           }
          ],
          "contour": [
           {
            "colorbar": {
             "outlinewidth": 0,
             "ticks": ""
            },
            "colorscale": [
             [
              0,
              "#0d0887"
             ],
             [
              0.1111111111111111,
              "#46039f"
             ],
             [
              0.2222222222222222,
              "#7201a8"
             ],
             [
              0.3333333333333333,
              "#9c179e"
             ],
             [
              0.4444444444444444,
              "#bd3786"
             ],
             [
              0.5555555555555556,
              "#d8576b"
             ],
             [
              0.6666666666666666,
              "#ed7953"
             ],
             [
              0.7777777777777778,
              "#fb9f3a"
             ],
             [
              0.8888888888888888,
              "#fdca26"
             ],
             [
              1,
              "#f0f921"
             ]
            ],
            "type": "contour"
           }
          ],
          "contourcarpet": [
           {
            "colorbar": {
             "outlinewidth": 0,
             "ticks": ""
            },
            "type": "contourcarpet"
           }
          ],
          "heatmap": [
           {
            "colorbar": {
             "outlinewidth": 0,
             "ticks": ""
            },
            "colorscale": [
             [
              0,
              "#0d0887"
             ],
             [
              0.1111111111111111,
              "#46039f"
             ],
             [
              0.2222222222222222,
              "#7201a8"
             ],
             [
              0.3333333333333333,
              "#9c179e"
             ],
             [
              0.4444444444444444,
              "#bd3786"
             ],
             [
              0.5555555555555556,
              "#d8576b"
             ],
             [
              0.6666666666666666,
              "#ed7953"
             ],
             [
              0.7777777777777778,
              "#fb9f3a"
             ],
             [
              0.8888888888888888,
              "#fdca26"
             ],
             [
              1,
              "#f0f921"
             ]
            ],
            "type": "heatmap"
           }
          ],
          "heatmapgl": [
           {
            "colorbar": {
             "outlinewidth": 0,
             "ticks": ""
            },
            "colorscale": [
             [
              0,
              "#0d0887"
             ],
             [
              0.1111111111111111,
              "#46039f"
             ],
             [
              0.2222222222222222,
              "#7201a8"
             ],
             [
              0.3333333333333333,
              "#9c179e"
             ],
             [
              0.4444444444444444,
              "#bd3786"
             ],
             [
              0.5555555555555556,
              "#d8576b"
             ],
             [
              0.6666666666666666,
              "#ed7953"
             ],
             [
              0.7777777777777778,
              "#fb9f3a"
             ],
             [
              0.8888888888888888,
              "#fdca26"
             ],
             [
              1,
              "#f0f921"
             ]
            ],
            "type": "heatmapgl"
           }
          ],
          "histogram": [
           {
            "marker": {
             "pattern": {
              "fillmode": "overlay",
              "size": 10,
              "solidity": 0.2
             }
            },
            "type": "histogram"
           }
          ],
          "histogram2d": [
           {
            "colorbar": {
             "outlinewidth": 0,
             "ticks": ""
            },
            "colorscale": [
             [
              0,
              "#0d0887"
             ],
             [
              0.1111111111111111,
              "#46039f"
             ],
             [
              0.2222222222222222,
              "#7201a8"
             ],
             [
              0.3333333333333333,
              "#9c179e"
             ],
             [
              0.4444444444444444,
              "#bd3786"
             ],
             [
              0.5555555555555556,
              "#d8576b"
             ],
             [
              0.6666666666666666,
              "#ed7953"
             ],
             [
              0.7777777777777778,
              "#fb9f3a"
             ],
             [
              0.8888888888888888,
              "#fdca26"
             ],
             [
              1,
              "#f0f921"
             ]
            ],
            "type": "histogram2d"
           }
          ],
          "histogram2dcontour": [
           {
            "colorbar": {
             "outlinewidth": 0,
             "ticks": ""
            },
            "colorscale": [
             [
              0,
              "#0d0887"
             ],
             [
              0.1111111111111111,
              "#46039f"
             ],
             [
              0.2222222222222222,
              "#7201a8"
             ],
             [
              0.3333333333333333,
              "#9c179e"
             ],
             [
              0.4444444444444444,
              "#bd3786"
             ],
             [
              0.5555555555555556,
              "#d8576b"
             ],
             [
              0.6666666666666666,
              "#ed7953"
             ],
             [
              0.7777777777777778,
              "#fb9f3a"
             ],
             [
              0.8888888888888888,
              "#fdca26"
             ],
             [
              1,
              "#f0f921"
             ]
            ],
            "type": "histogram2dcontour"
           }
          ],
          "mesh3d": [
           {
            "colorbar": {
             "outlinewidth": 0,
             "ticks": ""
            },
            "type": "mesh3d"
           }
          ],
          "parcoords": [
           {
            "line": {
             "colorbar": {
              "outlinewidth": 0,
              "ticks": ""
             }
            },
            "type": "parcoords"
           }
          ],
          "pie": [
           {
            "automargin": true,
            "type": "pie"
           }
          ],
          "scatter": [
           {
            "fillpattern": {
             "fillmode": "overlay",
             "size": 10,
             "solidity": 0.2
            },
            "type": "scatter"
           }
          ],
          "scatter3d": [
           {
            "line": {
             "colorbar": {
              "outlinewidth": 0,
              "ticks": ""
             }
            },
            "marker": {
             "colorbar": {
              "outlinewidth": 0,
              "ticks": ""
             }
            },
            "type": "scatter3d"
           }
          ],
          "scattercarpet": [
           {
            "marker": {
             "colorbar": {
              "outlinewidth": 0,
              "ticks": ""
             }
            },
            "type": "scattercarpet"
           }
          ],
          "scattergeo": [
           {
            "marker": {
             "colorbar": {
              "outlinewidth": 0,
              "ticks": ""
             }
            },
            "type": "scattergeo"
           }
          ],
          "scattergl": [
           {
            "marker": {
             "colorbar": {
              "outlinewidth": 0,
              "ticks": ""
             }
            },
            "type": "scattergl"
           }
          ],
          "scattermapbox": [
           {
            "marker": {
             "colorbar": {
              "outlinewidth": 0,
              "ticks": ""
             }
            },
            "type": "scattermapbox"
           }
          ],
          "scatterpolar": [
           {
            "marker": {
             "colorbar": {
              "outlinewidth": 0,
              "ticks": ""
             }
            },
            "type": "scatterpolar"
           }
          ],
          "scatterpolargl": [
           {
            "marker": {
             "colorbar": {
              "outlinewidth": 0,
              "ticks": ""
             }
            },
            "type": "scatterpolargl"
           }
          ],
          "scatterternary": [
           {
            "marker": {
             "colorbar": {
              "outlinewidth": 0,
              "ticks": ""
             }
            },
            "type": "scatterternary"
           }
          ],
          "surface": [
           {
            "colorbar": {
             "outlinewidth": 0,
             "ticks": ""
            },
            "colorscale": [
             [
              0,
              "#0d0887"
             ],
             [
              0.1111111111111111,
              "#46039f"
             ],
             [
              0.2222222222222222,
              "#7201a8"
             ],
             [
              0.3333333333333333,
              "#9c179e"
             ],
             [
              0.4444444444444444,
              "#bd3786"
             ],
             [
              0.5555555555555556,
              "#d8576b"
             ],
             [
              0.6666666666666666,
              "#ed7953"
             ],
             [
              0.7777777777777778,
              "#fb9f3a"
             ],
             [
              0.8888888888888888,
              "#fdca26"
             ],
             [
              1,
              "#f0f921"
             ]
            ],
            "type": "surface"
           }
          ],
          "table": [
           {
            "cells": {
             "fill": {
              "color": "#EBF0F8"
             },
             "line": {
              "color": "white"
             }
            },
            "header": {
             "fill": {
              "color": "#C8D4E3"
             },
             "line": {
              "color": "white"
             }
            },
            "type": "table"
           }
          ]
         },
         "layout": {
          "annotationdefaults": {
           "arrowcolor": "#2a3f5f",
           "arrowhead": 0,
           "arrowwidth": 1
          },
          "autotypenumbers": "strict",
          "coloraxis": {
           "colorbar": {
            "outlinewidth": 0,
            "ticks": ""
           }
          },
          "colorscale": {
           "diverging": [
            [
             0,
             "#8e0152"
            ],
            [
             0.1,
             "#c51b7d"
            ],
            [
             0.2,
             "#de77ae"
            ],
            [
             0.3,
             "#f1b6da"
            ],
            [
             0.4,
             "#fde0ef"
            ],
            [
             0.5,
             "#f7f7f7"
            ],
            [
             0.6,
             "#e6f5d0"
            ],
            [
             0.7,
             "#b8e186"
            ],
            [
             0.8,
             "#7fbc41"
            ],
            [
             0.9,
             "#4d9221"
            ],
            [
             1,
             "#276419"
            ]
           ],
           "sequential": [
            [
             0,
             "#0d0887"
            ],
            [
             0.1111111111111111,
             "#46039f"
            ],
            [
             0.2222222222222222,
             "#7201a8"
            ],
            [
             0.3333333333333333,
             "#9c179e"
            ],
            [
             0.4444444444444444,
             "#bd3786"
            ],
            [
             0.5555555555555556,
             "#d8576b"
            ],
            [
             0.6666666666666666,
             "#ed7953"
            ],
            [
             0.7777777777777778,
             "#fb9f3a"
            ],
            [
             0.8888888888888888,
             "#fdca26"
            ],
            [
             1,
             "#f0f921"
            ]
           ],
           "sequentialminus": [
            [
             0,
             "#0d0887"
            ],
            [
             0.1111111111111111,
             "#46039f"
            ],
            [
             0.2222222222222222,
             "#7201a8"
            ],
            [
             0.3333333333333333,
             "#9c179e"
            ],
            [
             0.4444444444444444,
             "#bd3786"
            ],
            [
             0.5555555555555556,
             "#d8576b"
            ],
            [
             0.6666666666666666,
             "#ed7953"
            ],
            [
             0.7777777777777778,
             "#fb9f3a"
            ],
            [
             0.8888888888888888,
             "#fdca26"
            ],
            [
             1,
             "#f0f921"
            ]
           ]
          },
          "colorway": [
           "#636efa",
           "#EF553B",
           "#00cc96",
           "#ab63fa",
           "#FFA15A",
           "#19d3f3",
           "#FF6692",
           "#B6E880",
           "#FF97FF",
           "#FECB52"
          ],
          "font": {
           "color": "#2a3f5f"
          },
          "geo": {
           "bgcolor": "white",
           "lakecolor": "white",
           "landcolor": "#E5ECF6",
           "showlakes": true,
           "showland": true,
           "subunitcolor": "white"
          },
          "hoverlabel": {
           "align": "left"
          },
          "hovermode": "closest",
          "mapbox": {
           "style": "light"
          },
          "paper_bgcolor": "white",
          "plot_bgcolor": "#E5ECF6",
          "polar": {
           "angularaxis": {
            "gridcolor": "white",
            "linecolor": "white",
            "ticks": ""
           },
           "bgcolor": "#E5ECF6",
           "radialaxis": {
            "gridcolor": "white",
            "linecolor": "white",
            "ticks": ""
           }
          },
          "scene": {
           "xaxis": {
            "backgroundcolor": "#E5ECF6",
            "gridcolor": "white",
            "gridwidth": 2,
            "linecolor": "white",
            "showbackground": true,
            "ticks": "",
            "zerolinecolor": "white"
           },
           "yaxis": {
            "backgroundcolor": "#E5ECF6",
            "gridcolor": "white",
            "gridwidth": 2,
            "linecolor": "white",
            "showbackground": true,
            "ticks": "",
            "zerolinecolor": "white"
           },
           "zaxis": {
            "backgroundcolor": "#E5ECF6",
            "gridcolor": "white",
            "gridwidth": 2,
            "linecolor": "white",
            "showbackground": true,
            "ticks": "",
            "zerolinecolor": "white"
           }
          },
          "shapedefaults": {
           "line": {
            "color": "#2a3f5f"
           }
          },
          "ternary": {
           "aaxis": {
            "gridcolor": "white",
            "linecolor": "white",
            "ticks": ""
           },
           "baxis": {
            "gridcolor": "white",
            "linecolor": "white",
            "ticks": ""
           },
           "bgcolor": "#E5ECF6",
           "caxis": {
            "gridcolor": "white",
            "linecolor": "white",
            "ticks": ""
           }
          },
          "title": {
           "x": 0.05
          },
          "xaxis": {
           "automargin": true,
           "gridcolor": "white",
           "linecolor": "white",
           "ticks": "",
           "title": {
            "standoff": 15
           },
           "zerolinecolor": "white",
           "zerolinewidth": 2
          },
          "yaxis": {
           "automargin": true,
           "gridcolor": "white",
           "linecolor": "white",
           "ticks": "",
           "title": {
            "standoff": 15
           },
           "zerolinecolor": "white",
           "zerolinewidth": 2
          }
         }
        },
        "uniformtext": {
         "minsize": 25,
         "mode": "show"
        },
        "width": 1500,
        "xaxis": {
         "anchor": "y",
         "domain": [
          0,
          0.94
         ],
         "tickangle": -45,
         "ticktext": [
          "2023 Q3",
          "2023 Q3",
          "2023 Q3",
          "2023 Q3",
          "2023 Q4",
          "2023 Q4",
          "2023 Q4",
          "2023 Q4",
          "2024 Q1",
          "2024 Q1",
          "2024 Q1",
          "2024 Q1",
          "2024 Q2",
          "2024 Q2",
          "2024 Q2",
          "2024 Q2"
         ],
         "tickvals": [
          "2023 Q3",
          "2023 Q3",
          "2023 Q3",
          "2023 Q3",
          "2023 Q4",
          "2023 Q4",
          "2023 Q4",
          "2023 Q4",
          "2024 Q1",
          "2024 Q1",
          "2024 Q1",
          "2024 Q1",
          "2024 Q2",
          "2024 Q2",
          "2024 Q2",
          "2024 Q2"
         ],
         "title": {
          "font": {
           "color": "black",
           "family": "Arial, sans-serif",
           "size": 25,
           "weight": "bold"
          },
          "text": "Quarter"
         }
        },
        "yaxis": {
         "anchor": "x",
         "domain": [
          0,
          1
         ],
         "title": {
          "font": {
           "color": "black",
           "family": "Arial, sans-serif",
           "size": 25,
           "weight": "bold"
          },
          "text": "Number of Users"
         }
        },
        "yaxis2": {
         "anchor": "x",
         "overlaying": "y",
         "side": "right"
        }
       }
      }
     },
     "metadata": {},
     "output_type": "display_data"
    }
   ],
   "source": [
    "# Create the subplot figure\n",
    "fig = make_subplots(specs=[[{\"secondary_y\": True}]])\n",
    "\n",
    "# Add traces for percentage of unique users by network\n",
    "for network in legend_order:\n",
    "    network_df = quarterly_data[quarterly_data['NETWORK'] == network]\n",
    "    fig.add_trace(\n",
    "        go.Scatter(\n",
    "            x=network_df['QUARTER_STR'],\n",
    "            y=network_df['UNIQUE_TOTAL_USERS'],\n",
    "            name=f'{network}',\n",
    "            mode='lines+markers',\n",
    "            text=network_df['UNIQUE_TOTAL_USERS'].apply(clean_values),\n",
    "            textposition='middle center',\n",
    "            texttemplate='%{text}',\n",
    "            line=dict(\n",
    "                width=3  # Line width (thicker line)\n",
    "            ),\n",
    "            marker=dict(\n",
    "                color=color_map.get(network, 'black'),\n",
    "                size=10  # Marker size (larger markers)\n",
    "            )\n",
    "        ),\n",
    "        secondary_y=False\n",
    "    )\n",
    "\n",
    "# Add annotations for the beginning and end of each trace\n",
    "annotations = []\n",
    "for network in ['Base', 'Ethereum']:\n",
    "    network_df = quarterly_data[quarterly_data['NETWORK'] == network]\n",
    "    first_row = network_df.iloc[-1]\n",
    "    last_row = network_df.iloc[0]\n",
    "    \n",
    "    # Add annotations for the start and end points\n",
    "    annotations.append(dict(\n",
    "        x=first_row['QUARTER_STR'],\n",
    "        y=first_row['UNIQUE_TOTAL_USERS'],\n",
    "        text=f'{network} Q2 24: {clean_values(first_row[\"UNIQUE_TOTAL_USERS\"])}',\n",
    "        showarrow=True,\n",
    "        arrowhead=2,\n",
    "        ax=-50,\n",
    "        ay=-30,\n",
    "        font=dict(size=25, family='Arial, sans-serif', weight='bold', color='black'),\n",
    "        xref='x',\n",
    "        yref='y'\n",
    "    ))\n",
    "    annotations.append(dict(\n",
    "        x=last_row['QUARTER_STR'],\n",
    "        y=last_row['UNIQUE_TOTAL_USERS'],\n",
    "        text=f'{network} Q3 23: {clean_values(last_row[\"UNIQUE_TOTAL_USERS\"])}',\n",
    "        showarrow=True,\n",
    "        arrowhead=2,\n",
    "        ax=100,\n",
    "        ay=-50,\n",
    "        font=dict(size=25, family='Arial, sans-serif', weight='bold', color='black'),\n",
    "        xref='x',\n",
    "        yref='y'\n",
    "    ))\n",
    "\n",
    "\n",
    "# Update layout with annotations\n",
    "fig.update_layout(\n",
    "    xaxis_title='Quarter',\n",
    "    yaxis_title='Number of Users',\n",
    "    legend=dict(yanchor=\"top\", y=0.5, xanchor=\"left\", x=1.05),\n",
    "    plot_bgcolor='#f4f4f4',\n",
    "    paper_bgcolor='#f4f4f4',\n",
    "    annotations=annotations,\n",
    "    uniformtext=dict(mode=\"show\", minsize=25),  # Adjust minsize as needed\n",
    "    font=dict(size=25, family=\"Arial, sans-serif\")\n",
    ")\n",
    "\n",
    "# fig.update_layout(\n",
    "#     title={\n",
    "#         'text': 'Number of Unique OpenSea Users By Network',\n",
    "#         'font': {\n",
    "#             'family': 'Arial, sans-serif',  # You can specify the font family\n",
    "#             'size': 24,  # Adjust the font size as needed\n",
    "#             'color': 'Black'  # Adjust the font color as needed\n",
    "#         }\n",
    "#     }\n",
    "# )\n",
    "\n",
    "fig.update_xaxes(\n",
    "    tickvals=quarterly_data['QUARTER_STR'],\n",
    "    ticktext=quarterly_data['QUARTER_STR'],\n",
    "    tickangle=-45,  # Optional: Rotate labels if needed\n",
    "    # range=[quarterly_data['QUARTER_STR'].min(), quarterly_data['QUARTER_STR'].max()]  # Set x-axis range\n",
    ")\n",
    "\n",
    "fig.update_layout(\n",
    "    width=1500,  # Adjust as needed\n",
    "    height=800,  # Adjust as needed\n",
    "    margin=dict(\n",
    "        l=50,  # Left margin\n",
    "        r=50,  # Right margin\n",
    "        t=100,  # Top margin\n",
    "        b=50   # Bottom margin\n",
    "    )\n",
    ")\n",
    "\n",
    "fig.update_layout(\n",
    "    xaxis_title=dict(\n",
    "        text=\"Quarter\",\n",
    "        font=dict(size=25, family=\"Arial, sans-serif\", weight=\"bold\", color='black')\n",
    "    ),\n",
    "    yaxis_title=dict(\n",
    "        text=\"Number of Users\",\n",
    "        font=dict(size=25, family=\"Arial, sans-serif\", weight=\"bold\", color='black')\n",
    "    )\n",
    ")\n",
    "\n",
    "fig.show()\n",
    "\n",
    "pio.write_image(fig, 'img/Number of Unique OpenSea Users By Network.png', scale=3)\n"
   ]
  },
  {
   "cell_type": "code",
   "execution_count": 274,
   "metadata": {},
   "outputs": [
    {
     "name": "stdout",
     "output_type": "stream",
     "text": [
      "      QUARTER   NETWORK  UNIQUE_TOTAL_USERS  PCT_CHANGE_UNIQUE_USERS\n",
      "14 2023-07-01  Arbitrum             22758.0                 0.000000\n",
      "9  2023-10-01  Arbitrum             53935.0               136.993585\n",
      "4  2024-01-01  Arbitrum             27181.0               -49.604153\n",
      "2  2024-04-01  Arbitrum             22008.0               -19.031677\n",
      "12 2023-07-01      Base             42927.0                 0.000000\n",
      "8  2023-10-01      Base             23088.0               -46.215668\n",
      "7  2024-01-01      Base             74021.0               220.603777\n",
      "1  2024-04-01      Base            224213.0               202.904581\n",
      "13 2023-07-01  Ethereum            245918.0                 0.000000\n",
      "11 2023-10-01  Ethereum            219847.0               -10.601501\n",
      "5  2024-01-01  Ethereum            207228.0                -5.739901\n",
      "3  2024-04-01  Ethereum            119206.0               -42.475920\n",
      "15 2023-07-01  Optimism             46082.0                 0.000000\n",
      "10 2023-10-01  Optimism             14151.0               -69.291697\n",
      "6  2024-01-01  Optimism             15267.0                 7.886368\n",
      "0  2024-04-01  Optimism              8621.0               -43.531801\n"
     ]
    },
    {
     "name": "stderr",
     "output_type": "stream",
     "text": [
      "C:\\Users\\brandyns pc\\AppData\\Local\\Temp\\ipykernel_34072\\1135001275.py:3: FutureWarning:\n",
      "\n",
      "A value is trying to be set on a copy of a DataFrame or Series through chained assignment using an inplace method.\n",
      "The behavior will change in pandas 3.0. This inplace method will never work because the intermediate object on which we are setting values always behaves as a copy.\n",
      "\n",
      "For example, when doing 'df[col].method(value, inplace=True)', try using 'df.method({col: value}, inplace=True)' or df[col] = df[col].method(value) instead, to perform the operation inplace on the original object.\n",
      "\n",
      "\n",
      "\n"
     ]
    }
   ],
   "source": [
    "quarterly_data.sort_values(by=['NETWORK', 'QUARTER'], inplace=True)\n",
    "quarterly_data['PCT_CHANGE_UNIQUE_USERS'] = quarterly_data.groupby('NETWORK')['UNIQUE_TOTAL_USERS'].pct_change() * 100\n",
    "quarterly_data['PCT_CHANGE_UNIQUE_USERS'].fillna(0,inplace=True)\n",
    "print(quarterly_data[['QUARTER','NETWORK','UNIQUE_TOTAL_USERS','PCT_CHANGE_UNIQUE_USERS']])\n"
   ]
  },
  {
   "cell_type": "code",
   "execution_count": 275,
   "metadata": {},
   "outputs": [
    {
     "data": {
      "text/html": [
       "<div>\n",
       "<style scoped>\n",
       "    .dataframe tbody tr th:only-of-type {\n",
       "        vertical-align: middle;\n",
       "    }\n",
       "\n",
       "    .dataframe tbody tr th {\n",
       "        vertical-align: top;\n",
       "    }\n",
       "\n",
       "    .dataframe thead th {\n",
       "        text-align: right;\n",
       "    }\n",
       "</style>\n",
       "<table border=\"1\" class=\"dataframe\">\n",
       "  <thead>\n",
       "    <tr style=\"text-align: right;\">\n",
       "      <th></th>\n",
       "      <th>QUARTER</th>\n",
       "      <th>LAYER</th>\n",
       "      <th>VOLUME_USD</th>\n",
       "      <th>TOTAL_FEES_USD</th>\n",
       "      <th>UNIQUE_TOTAL_USERS</th>\n",
       "    </tr>\n",
       "  </thead>\n",
       "  <tbody>\n",
       "    <tr>\n",
       "      <th>0</th>\n",
       "      <td>2023-07-01</td>\n",
       "      <td>L1</td>\n",
       "      <td>2.108915e+08</td>\n",
       "      <td>9.204380e+06</td>\n",
       "      <td>245918.0</td>\n",
       "    </tr>\n",
       "    <tr>\n",
       "      <th>1</th>\n",
       "      <td>2023-07-01</td>\n",
       "      <td>L2</td>\n",
       "      <td>2.993722e+06</td>\n",
       "      <td>2.444479e+05</td>\n",
       "      <td>111767.0</td>\n",
       "    </tr>\n",
       "    <tr>\n",
       "      <th>2</th>\n",
       "      <td>2023-10-01</td>\n",
       "      <td>L1</td>\n",
       "      <td>3.372263e+08</td>\n",
       "      <td>1.018415e+07</td>\n",
       "      <td>219847.0</td>\n",
       "    </tr>\n",
       "    <tr>\n",
       "      <th>3</th>\n",
       "      <td>2023-10-01</td>\n",
       "      <td>L2</td>\n",
       "      <td>6.736397e+06</td>\n",
       "      <td>3.628039e+05</td>\n",
       "      <td>91174.0</td>\n",
       "    </tr>\n",
       "    <tr>\n",
       "      <th>4</th>\n",
       "      <td>2024-01-01</td>\n",
       "      <td>L1</td>\n",
       "      <td>3.134141e+08</td>\n",
       "      <td>1.056557e+07</td>\n",
       "      <td>207228.0</td>\n",
       "    </tr>\n",
       "    <tr>\n",
       "      <th>5</th>\n",
       "      <td>2024-01-01</td>\n",
       "      <td>L2</td>\n",
       "      <td>3.085369e+07</td>\n",
       "      <td>1.245990e+06</td>\n",
       "      <td>116469.0</td>\n",
       "    </tr>\n",
       "    <tr>\n",
       "      <th>6</th>\n",
       "      <td>2024-04-01</td>\n",
       "      <td>L1</td>\n",
       "      <td>1.464951e+08</td>\n",
       "      <td>4.000557e+06</td>\n",
       "      <td>119206.0</td>\n",
       "    </tr>\n",
       "    <tr>\n",
       "      <th>7</th>\n",
       "      <td>2024-04-01</td>\n",
       "      <td>L2</td>\n",
       "      <td>9.386908e+07</td>\n",
       "      <td>1.904343e+06</td>\n",
       "      <td>254842.0</td>\n",
       "    </tr>\n",
       "  </tbody>\n",
       "</table>\n",
       "</div>"
      ],
      "text/plain": [
       "     QUARTER LAYER    VOLUME_USD  TOTAL_FEES_USD  UNIQUE_TOTAL_USERS\n",
       "0 2023-07-01    L1  2.108915e+08    9.204380e+06            245918.0\n",
       "1 2023-07-01    L2  2.993722e+06    2.444479e+05            111767.0\n",
       "2 2023-10-01    L1  3.372263e+08    1.018415e+07            219847.0\n",
       "3 2023-10-01    L2  6.736397e+06    3.628039e+05             91174.0\n",
       "4 2024-01-01    L1  3.134141e+08    1.056557e+07            207228.0\n",
       "5 2024-01-01    L2  3.085369e+07    1.245990e+06            116469.0\n",
       "6 2024-04-01    L1  1.464951e+08    4.000557e+06            119206.0\n",
       "7 2024-04-01    L2  9.386908e+07    1.904343e+06            254842.0"
      ]
     },
     "execution_count": 275,
     "metadata": {},
     "output_type": "execute_result"
    }
   ],
   "source": [
    "quarterly_totals_layers = quarterly_data.groupby(['QUARTER', 'LAYER'])[['VOLUME_USD', 'TOTAL_FEES_USD', 'UNIQUE_TOTAL_USERS']].sum()\n",
    "quarterly_totals_layers = quarterly_totals_layers.reset_index()\n",
    "quarterly_totals_layers"
   ]
  },
  {
   "cell_type": "code",
   "execution_count": 276,
   "metadata": {},
   "outputs": [
    {
     "name": "stdout",
     "output_type": "stream",
     "text": [
      "     QUARTER LAYER    VOLUME_USD  PCT_CHANGE_VOL\n",
      "0 2023-07-01    L1  2.108915e+08        0.000000\n",
      "2 2023-10-01    L1  3.372263e+08       59.905118\n",
      "4 2024-01-01    L1  3.134141e+08       -7.061171\n",
      "6 2024-04-01    L1  1.464951e+08      -53.258310\n",
      "1 2023-07-01    L2  2.993722e+06        0.000000\n",
      "3 2023-10-01    L2  6.736397e+06      125.017460\n",
      "5 2024-01-01    L2  3.085369e+07      358.014699\n",
      "7 2024-04-01    L2  9.386908e+07      204.239427\n"
     ]
    },
    {
     "name": "stderr",
     "output_type": "stream",
     "text": [
      "C:\\Users\\brandyns pc\\AppData\\Local\\Temp\\ipykernel_34072\\3644702449.py:13: FutureWarning:\n",
      "\n",
      "A value is trying to be set on a copy of a DataFrame or Series through chained assignment using an inplace method.\n",
      "The behavior will change in pandas 3.0. This inplace method will never work because the intermediate object on which we are setting values always behaves as a copy.\n",
      "\n",
      "For example, when doing 'df[col].method(value, inplace=True)', try using 'df.method({col: value}, inplace=True)' or df[col] = df[col].method(value) instead, to perform the operation inplace on the original object.\n",
      "\n",
      "\n",
      "\n"
     ]
    }
   ],
   "source": [
    "quarterly_totals_layers['QUARTER'] = pd.to_datetime(quarterly_totals_layers['QUARTER'])\n",
    "\n",
    "# Sort by LAYER and QUARTER\n",
    "quarterly_totals_layers_sorted = quarterly_totals_layers.sort_values(by=['LAYER', 'QUARTER'])\n",
    "\n",
    "# Calculate the percentage change in VOLUME_USD within each LAYER group\n",
    "quarterly_totals_layers_sorted['PCT_CHANGE_VOL'] = (\n",
    "    quarterly_totals_layers_sorted.groupby('LAYER')['VOLUME_USD']\n",
    "    .pct_change() * 100\n",
    ")\n",
    "\n",
    "# Display relevant columns\n",
    "quarterly_totals_layers_sorted['PCT_CHANGE_VOL'].fillna(0, inplace=True)\n",
    "print(quarterly_totals_layers_sorted[['QUARTER', 'LAYER', 'VOLUME_USD', 'PCT_CHANGE_VOL']])"
   ]
  },
  {
   "cell_type": "code",
   "execution_count": 277,
   "metadata": {},
   "outputs": [
    {
     "name": "stdout",
     "output_type": "stream",
     "text": [
      "     QUARTER LAYER  PERCENTAGE_OF_TOTAL_VOLUME\n",
      "0 2023-07-01    L1                   98.600314\n",
      "1 2023-07-01    L2                    1.399686\n",
      "2 2023-10-01    L1                   98.041533\n",
      "3 2023-10-01    L2                    1.958467\n",
      "4 2024-01-01    L1                   91.037882\n",
      "5 2024-01-01    L2                    8.962118\n",
      "6 2024-04-01    L1                   60.947137\n",
      "7 2024-04-01    L2                   39.052863\n"
     ]
    }
   ],
   "source": [
    "total_volume_per_quarter = quarterly_totals_layers.groupby('QUARTER')['VOLUME_USD'].sum().reset_index()\n",
    "total_volume_per_quarter.rename(columns={'VOLUME_USD': 'TOTAL_VOLUME_USD'}, inplace=True)\n",
    "\n",
    "# Merge this total back with the original DataFrame\n",
    "merged_df = pd.merge(quarterly_totals_layers, total_volume_per_quarter, on='QUARTER')\n",
    "\n",
    "# Step 2: Calculate percentage of total volume by layer by quarter\n",
    "merged_df['PERCENTAGE_OF_TOTAL_VOLUME'] = (merged_df['VOLUME_USD'] / merged_df['TOTAL_VOLUME_USD']) * 100\n",
    "\n",
    "# Select relevant columns\n",
    "result = merged_df[['QUARTER', 'LAYER', 'PERCENTAGE_OF_TOTAL_VOLUME']]\n",
    "print(result)"
   ]
  },
  {
   "cell_type": "markdown",
   "metadata": {},
   "source": [
    "bubble chart of top 5 projects by volume by network in past month; color is layer, bubble size ?, x = amt,"
   ]
  },
  {
   "cell_type": "code",
   "execution_count": 278,
   "metadata": {},
   "outputs": [
    {
     "data": {
      "text/html": [
       "<div>\n",
       "<style scoped>\n",
       "    .dataframe tbody tr th:only-of-type {\n",
       "        vertical-align: middle;\n",
       "    }\n",
       "\n",
       "    .dataframe tbody tr th {\n",
       "        vertical-align: top;\n",
       "    }\n",
       "\n",
       "    .dataframe thead th {\n",
       "        text-align: right;\n",
       "    }\n",
       "</style>\n",
       "<table border=\"1\" class=\"dataframe\">\n",
       "  <thead>\n",
       "    <tr style=\"text-align: right;\">\n",
       "      <th></th>\n",
       "      <th>QUARTER</th>\n",
       "      <th>LAYER</th>\n",
       "      <th>VOLUME_USD</th>\n",
       "      <th>TOTAL_FEES_USD</th>\n",
       "      <th>UNIQUE_TOTAL_USERS</th>\n",
       "      <th>TOTAL_VOLUME_USD</th>\n",
       "      <th>PERCENTAGE_OF_TOTAL_VOLUME</th>\n",
       "    </tr>\n",
       "  </thead>\n",
       "  <tbody>\n",
       "    <tr>\n",
       "      <th>0</th>\n",
       "      <td>2023-07-01</td>\n",
       "      <td>L1</td>\n",
       "      <td>2.108915e+08</td>\n",
       "      <td>9.204380e+06</td>\n",
       "      <td>245918.0</td>\n",
       "      <td>2.138852e+08</td>\n",
       "      <td>98.600314</td>\n",
       "    </tr>\n",
       "    <tr>\n",
       "      <th>1</th>\n",
       "      <td>2023-07-01</td>\n",
       "      <td>L2</td>\n",
       "      <td>2.993722e+06</td>\n",
       "      <td>2.444479e+05</td>\n",
       "      <td>111767.0</td>\n",
       "      <td>2.138852e+08</td>\n",
       "      <td>1.399686</td>\n",
       "    </tr>\n",
       "    <tr>\n",
       "      <th>2</th>\n",
       "      <td>2023-10-01</td>\n",
       "      <td>L1</td>\n",
       "      <td>3.372263e+08</td>\n",
       "      <td>1.018415e+07</td>\n",
       "      <td>219847.0</td>\n",
       "      <td>3.439627e+08</td>\n",
       "      <td>98.041533</td>\n",
       "    </tr>\n",
       "    <tr>\n",
       "      <th>3</th>\n",
       "      <td>2023-10-01</td>\n",
       "      <td>L2</td>\n",
       "      <td>6.736397e+06</td>\n",
       "      <td>3.628039e+05</td>\n",
       "      <td>91174.0</td>\n",
       "      <td>3.439627e+08</td>\n",
       "      <td>1.958467</td>\n",
       "    </tr>\n",
       "    <tr>\n",
       "      <th>4</th>\n",
       "      <td>2024-01-01</td>\n",
       "      <td>L1</td>\n",
       "      <td>3.134141e+08</td>\n",
       "      <td>1.056557e+07</td>\n",
       "      <td>207228.0</td>\n",
       "      <td>3.442678e+08</td>\n",
       "      <td>91.037882</td>\n",
       "    </tr>\n",
       "    <tr>\n",
       "      <th>5</th>\n",
       "      <td>2024-01-01</td>\n",
       "      <td>L2</td>\n",
       "      <td>3.085369e+07</td>\n",
       "      <td>1.245990e+06</td>\n",
       "      <td>116469.0</td>\n",
       "      <td>3.442678e+08</td>\n",
       "      <td>8.962118</td>\n",
       "    </tr>\n",
       "    <tr>\n",
       "      <th>6</th>\n",
       "      <td>2024-04-01</td>\n",
       "      <td>L1</td>\n",
       "      <td>1.464951e+08</td>\n",
       "      <td>4.000557e+06</td>\n",
       "      <td>119206.0</td>\n",
       "      <td>2.403642e+08</td>\n",
       "      <td>60.947137</td>\n",
       "    </tr>\n",
       "    <tr>\n",
       "      <th>7</th>\n",
       "      <td>2024-04-01</td>\n",
       "      <td>L2</td>\n",
       "      <td>9.386908e+07</td>\n",
       "      <td>1.904343e+06</td>\n",
       "      <td>254842.0</td>\n",
       "      <td>2.403642e+08</td>\n",
       "      <td>39.052863</td>\n",
       "    </tr>\n",
       "  </tbody>\n",
       "</table>\n",
       "</div>"
      ],
      "text/plain": [
       "     QUARTER LAYER    VOLUME_USD  TOTAL_FEES_USD  UNIQUE_TOTAL_USERS  \\\n",
       "0 2023-07-01    L1  2.108915e+08    9.204380e+06            245918.0   \n",
       "1 2023-07-01    L2  2.993722e+06    2.444479e+05            111767.0   \n",
       "2 2023-10-01    L1  3.372263e+08    1.018415e+07            219847.0   \n",
       "3 2023-10-01    L2  6.736397e+06    3.628039e+05             91174.0   \n",
       "4 2024-01-01    L1  3.134141e+08    1.056557e+07            207228.0   \n",
       "5 2024-01-01    L2  3.085369e+07    1.245990e+06            116469.0   \n",
       "6 2024-04-01    L1  1.464951e+08    4.000557e+06            119206.0   \n",
       "7 2024-04-01    L2  9.386908e+07    1.904343e+06            254842.0   \n",
       "\n",
       "   TOTAL_VOLUME_USD  PERCENTAGE_OF_TOTAL_VOLUME  \n",
       "0      2.138852e+08                   98.600314  \n",
       "1      2.138852e+08                    1.399686  \n",
       "2      3.439627e+08                   98.041533  \n",
       "3      3.439627e+08                    1.958467  \n",
       "4      3.442678e+08                   91.037882  \n",
       "5      3.442678e+08                    8.962118  \n",
       "6      2.403642e+08                   60.947137  \n",
       "7      2.403642e+08                   39.052863  "
      ]
     },
     "execution_count": 278,
     "metadata": {},
     "output_type": "execute_result"
    }
   ],
   "source": [
    "merged_df"
   ]
  },
  {
   "cell_type": "code",
   "execution_count": 279,
   "metadata": {},
   "outputs": [
    {
     "data": {
      "text/plain": [
       "Index(['PROJECT_NAME', 'NFT_ADDRESS', 'QUARTER', 'VOLUME', 'AVERAGE_SALE',\n",
       "       'TOTAL_FEES', 'NETWORK', 'LAYER'],\n",
       "      dtype='object')"
      ]
     },
     "execution_count": 279,
     "metadata": {},
     "output_type": "execute_result"
    }
   ],
   "source": [
    "projects_by_vol.columns"
   ]
  },
  {
   "cell_type": "code",
   "execution_count": 280,
   "metadata": {},
   "outputs": [
    {
     "data": {
      "text/plain": [
       "array(['higher swatches', 'BOSS', 'based punks', 'BoredApeYachtClub',\n",
       "       'MutantApeYachtClub', 'onchain gaias', 'swatches by jvmi',\n",
       "       'Art Blocks', 'PudgyPenguins', 'OnChainShiba',\n",
       "       'Captain & Company - Ships', 'lueygi_KEY', 'OP Dragons',\n",
       "       'BTC Girls X', 'Star Heroes', 'ZTX Genesis Homes', 'Yeetard NFTs',\n",
       "       '3DNS Powered Domain Name', 'Skeleton ERA 💀', 'Cat'], dtype=object)"
      ]
     },
     "execution_count": 280,
     "metadata": {},
     "output_type": "execute_result"
    }
   ],
   "source": [
    "projects_by_vol['PROJECT_NAME'].unique()"
   ]
  },
  {
   "cell_type": "markdown",
   "metadata": {},
   "source": [
    "fig = px.scatter(projects_by_vol, x=\"VOLUME\", y=\"AVERAGE_SALE\",\n",
    "\t         size=\"VOLUME\", color=\"NETWORK\",\n",
    "                 hover_name=\"PROJECT_NAME\", log_x=True, size_max=60, text='PROJECT_NAME')\n",
    "\n",
    "for i, row in projects_by_vol.iterrows():\n",
    "    fig.add_annotation(\n",
    "        x=row['VOLUME'],\n",
    "        y=row['AVERAGE_SALE'],\n",
    "        text=row['PROJECT_NAME'],  # Add project name and layer\n",
    "        showarrow=True,  # Ensure the arrow is shown\n",
    "        arrowhead=2,  # Style of the arrowhead\n",
    "        ax=0,  # Arrow x offset (adjust as needed)\n",
    "        ay=-30,  # Arrow y offset (adjust as needed)\n",
    "        font=dict(size=10),  # Font size\n",
    "        align='center'  # Align text\n",
    "    )\n",
    "\n",
    "fig.update_layout(\n",
    "    title=\"Top NFT Collections by Volume, Q2 2024\",\n",
    "    xaxis_title=\"Volume (USD)\",\n",
    "    yaxis_title=\"Average Sale Price (USD)\",\n",
    "    showlegend=True\n",
    ")\n"
   ]
  },
  {
   "cell_type": "code",
   "execution_count": 281,
   "metadata": {},
   "outputs": [],
   "source": [
    "def clean_value(value):\n",
    "    if value >= 1e9:\n",
    "        return f\"{value / 1e9:.1f}b\"\n",
    "    elif value >= 1e6:\n",
    "        return f\"{value / 1e6:.1f}m\"\n",
    "    elif value >= 1e3:\n",
    "        return f\"{value / 1e3:.1f}k\"\n",
    "    else:\n",
    "        return f\"{value:.0f}\""
   ]
  },
  {
   "cell_type": "code",
   "execution_count": 282,
   "metadata": {},
   "outputs": [
    {
     "data": {
      "application/vnd.plotly.v1+json": {
       "config": {
        "plotlyServerURL": "https://plot.ly"
       },
       "data": [
        {
         "marker": {
          "color": "red",
          "size": [
           1328778.86483414,
           537665.156663869,
           364429.259305264,
           131408.502480445,
           116069.983797071
          ],
          "sizemin": 6,
          "sizemode": "area",
          "sizeref": 2595.3458854291966
         },
         "mode": "markers+text",
         "name": "Arbitrum",
         "type": "scatter",
         "x": [
          1328778.86483414,
          537665.156663869,
          364429.259305264,
          131408.502480445,
          116069.983797071
         ],
         "y": [
          801.918445887,
          432.55443014,
          44.109084883,
          386.495595531,
          182.213475349
         ]
        },
        {
         "marker": {
          "color": "blue",
          "size": [
           27683689.4445781,
           15604597.3961785,
           9791495.97096816,
           4266314.16913745,
           3198629.98540408
          ],
          "sizemin": 6,
          "sizemode": "area",
          "sizeref": 2595.3458854291966
         },
         "mode": "markers+text",
         "name": "Base",
         "type": "scatter",
         "x": [
          27683689.4445781,
          15604597.3961785,
          9791495.97096816,
          4266314.16913745,
          3198629.98540408
         ],
         "y": [
          12227.778023224,
          13982.614154282,
          1012.98323722,
          3555.261807615,
          370.554910265
         ]
        },
        {
         "marker": {
          "color": "#6cfdd2",
          "size": [
           9618916.65721216,
           5431073.41683808,
           3165210.74314055,
           3078098.94506566,
           2770497.56527336
          ],
          "sizemin": 6,
          "sizemode": "area",
          "sizeref": 2595.3458854291966
         },
         "mode": "markers+text",
         "name": "Ethereum",
         "type": "scatter",
         "x": [
          9618916.65721216,
          5431073.41683808,
          3165210.74314055,
          3078098.94506566,
          2770497.56527336
         ],
         "y": [
          52851.190424243,
          8918.018746861,
          3976.395405955,
          41595.931690076,
          15564.593063334
         ]
        },
        {
         "marker": {
          "color": "purple",
          "size": [
           405564.436283458,
           398855.303443587,
           33865.704472668,
           16870.249760941,
           16556.627323506
          ],
          "sizemin": 6,
          "sizemode": "area",
          "sizeref": 2595.3458854291966
         },
         "mode": "markers+text",
         "name": "Optimism",
         "type": "scatter",
         "x": [
          405564.436283458,
          398855.303443587,
          33865.704472668,
          16870.249760941,
          16556.627323506
         ],
         "y": [
          6437.530734658,
          5113.529531328,
          1092.442079763,
          17.55489049,
          89.981670236
         ]
        }
       ],
       "layout": {
        "annotations": [
         {
          "arrowhead": 2,
          "ax": 20,
          "ay": -40,
          "bgcolor": "rgba(255, 255, 255, 0.8)",
          "bordercolor": "black",
          "borderwidth": 1,
          "font": {
           "color": "black",
           "family": "Arial, sans-serif",
           "size": 20,
           "weight": "bold"
          },
          "showarrow": true,
          "text": "higher swatches (27.7m)",
          "x": 7.442223968683783,
          "y": 12227.778023224
         },
         {
          "arrowhead": 2,
          "ax": -20,
          "ay": 30,
          "bgcolor": "rgba(255, 255, 255, 0.8)",
          "bordercolor": "black",
          "borderwidth": 1,
          "font": {
           "color": "black",
           "family": "Arial, sans-serif",
           "size": 20,
           "weight": "bold"
          },
          "showarrow": true,
          "text": "swatches by jvmi (3.2m)",
          "x": 6.504964004200576,
          "y": 370.554910265
         },
         {
          "arrowhead": 2,
          "ax": 20,
          "ay": -40,
          "bgcolor": "rgba(255, 255, 255, 0.8)",
          "bordercolor": "black",
          "borderwidth": 1,
          "font": {
           "color": "black",
           "family": "Arial, sans-serif",
           "size": 20,
           "weight": "bold"
          },
          "showarrow": true,
          "text": "BoredApeYachtClub (9.6m)",
          "x": 6.98312616182071,
          "y": 52851.190424243
         },
         {
          "arrowhead": 2,
          "ax": 20,
          "ay": -40,
          "bgcolor": "rgba(255, 255, 255, 0.8)",
          "bordercolor": "black",
          "borderwidth": 1,
          "font": {
           "color": "black",
           "family": "Arial, sans-serif",
           "size": 20,
           "weight": "bold"
          },
          "showarrow": true,
          "text": "Captain & Company - Ships (1.3m)",
          "x": 6.123452711737961,
          "y": 801.918445887
         },
         {
          "arrowhead": 2,
          "ax": -20,
          "ay": 30,
          "bgcolor": "rgba(255, 255, 255, 0.8)",
          "bordercolor": "black",
          "borderwidth": 1,
          "font": {
           "color": "black",
           "family": "Arial, sans-serif",
           "size": 20,
           "weight": "bold"
          },
          "showarrow": true,
          "text": "Yeetard NFTs (116.1k)",
          "x": 5.064719923815051,
          "y": 182.213475349
         },
         {
          "arrowhead": 2,
          "ax": -20,
          "ay": 30,
          "bgcolor": "rgba(255, 255, 255, 0.8)",
          "bordercolor": "black",
          "borderwidth": 1,
          "font": {
           "color": "black",
           "family": "Arial, sans-serif",
           "size": 20,
           "weight": "bold"
          },
          "showarrow": true,
          "text": "Cat (16.6k)",
          "x": 4.218971873272065,
          "y": 89.981670236
         },
         {
          "arrowhead": 2,
          "ax": -30,
          "ay": -30,
          "bgcolor": "rgba(255, 255, 255, 0.8)",
          "bordercolor": "black",
          "borderwidth": 1,
          "font": {
           "color": "black",
           "family": "Arial, sans-serif",
           "size": 20,
           "weight": "bold"
          },
          "showarrow": true,
          "text": "OnChainShiba (2.8m)",
          "x": 6.442557772836002,
          "y": 15564.593063334
         },
         {
          "arrowhead": 2,
          "ax": -40,
          "ay": -60,
          "bgcolor": "rgba(255, 255, 255, 0.8)",
          "bordercolor": "black",
          "borderwidth": 1,
          "font": {
           "color": "black",
           "family": "Arial, sans-serif",
           "size": 20,
           "weight": "bold"
          },
          "showarrow": true,
          "text": "OP Dragons (405.6k)",
          "x": 5.608059864956893,
          "y": 6437.530734658
         }
        ],
        "font": {
         "family": "Arial, sans-serif",
         "size": 20
        },
        "height": 600,
        "paper_bgcolor": "#f4f4f4",
        "plot_bgcolor": "#f4f4f4",
        "showlegend": true,
        "template": {
         "data": {
          "bar": [
           {
            "error_x": {
             "color": "#2a3f5f"
            },
            "error_y": {
             "color": "#2a3f5f"
            },
            "marker": {
             "line": {
              "color": "#E5ECF6",
              "width": 0.5
             },
             "pattern": {
              "fillmode": "overlay",
              "size": 10,
              "solidity": 0.2
             }
            },
            "type": "bar"
           }
          ],
          "barpolar": [
           {
            "marker": {
             "line": {
              "color": "#E5ECF6",
              "width": 0.5
             },
             "pattern": {
              "fillmode": "overlay",
              "size": 10,
              "solidity": 0.2
             }
            },
            "type": "barpolar"
           }
          ],
          "carpet": [
           {
            "aaxis": {
             "endlinecolor": "#2a3f5f",
             "gridcolor": "white",
             "linecolor": "white",
             "minorgridcolor": "white",
             "startlinecolor": "#2a3f5f"
            },
            "baxis": {
             "endlinecolor": "#2a3f5f",
             "gridcolor": "white",
             "linecolor": "white",
             "minorgridcolor": "white",
             "startlinecolor": "#2a3f5f"
            },
            "type": "carpet"
           }
          ],
          "choropleth": [
           {
            "colorbar": {
             "outlinewidth": 0,
             "ticks": ""
            },
            "type": "choropleth"
           }
          ],
          "contour": [
           {
            "colorbar": {
             "outlinewidth": 0,
             "ticks": ""
            },
            "colorscale": [
             [
              0,
              "#0d0887"
             ],
             [
              0.1111111111111111,
              "#46039f"
             ],
             [
              0.2222222222222222,
              "#7201a8"
             ],
             [
              0.3333333333333333,
              "#9c179e"
             ],
             [
              0.4444444444444444,
              "#bd3786"
             ],
             [
              0.5555555555555556,
              "#d8576b"
             ],
             [
              0.6666666666666666,
              "#ed7953"
             ],
             [
              0.7777777777777778,
              "#fb9f3a"
             ],
             [
              0.8888888888888888,
              "#fdca26"
             ],
             [
              1,
              "#f0f921"
             ]
            ],
            "type": "contour"
           }
          ],
          "contourcarpet": [
           {
            "colorbar": {
             "outlinewidth": 0,
             "ticks": ""
            },
            "type": "contourcarpet"
           }
          ],
          "heatmap": [
           {
            "colorbar": {
             "outlinewidth": 0,
             "ticks": ""
            },
            "colorscale": [
             [
              0,
              "#0d0887"
             ],
             [
              0.1111111111111111,
              "#46039f"
             ],
             [
              0.2222222222222222,
              "#7201a8"
             ],
             [
              0.3333333333333333,
              "#9c179e"
             ],
             [
              0.4444444444444444,
              "#bd3786"
             ],
             [
              0.5555555555555556,
              "#d8576b"
             ],
             [
              0.6666666666666666,
              "#ed7953"
             ],
             [
              0.7777777777777778,
              "#fb9f3a"
             ],
             [
              0.8888888888888888,
              "#fdca26"
             ],
             [
              1,
              "#f0f921"
             ]
            ],
            "type": "heatmap"
           }
          ],
          "heatmapgl": [
           {
            "colorbar": {
             "outlinewidth": 0,
             "ticks": ""
            },
            "colorscale": [
             [
              0,
              "#0d0887"
             ],
             [
              0.1111111111111111,
              "#46039f"
             ],
             [
              0.2222222222222222,
              "#7201a8"
             ],
             [
              0.3333333333333333,
              "#9c179e"
             ],
             [
              0.4444444444444444,
              "#bd3786"
             ],
             [
              0.5555555555555556,
              "#d8576b"
             ],
             [
              0.6666666666666666,
              "#ed7953"
             ],
             [
              0.7777777777777778,
              "#fb9f3a"
             ],
             [
              0.8888888888888888,
              "#fdca26"
             ],
             [
              1,
              "#f0f921"
             ]
            ],
            "type": "heatmapgl"
           }
          ],
          "histogram": [
           {
            "marker": {
             "pattern": {
              "fillmode": "overlay",
              "size": 10,
              "solidity": 0.2
             }
            },
            "type": "histogram"
           }
          ],
          "histogram2d": [
           {
            "colorbar": {
             "outlinewidth": 0,
             "ticks": ""
            },
            "colorscale": [
             [
              0,
              "#0d0887"
             ],
             [
              0.1111111111111111,
              "#46039f"
             ],
             [
              0.2222222222222222,
              "#7201a8"
             ],
             [
              0.3333333333333333,
              "#9c179e"
             ],
             [
              0.4444444444444444,
              "#bd3786"
             ],
             [
              0.5555555555555556,
              "#d8576b"
             ],
             [
              0.6666666666666666,
              "#ed7953"
             ],
             [
              0.7777777777777778,
              "#fb9f3a"
             ],
             [
              0.8888888888888888,
              "#fdca26"
             ],
             [
              1,
              "#f0f921"
             ]
            ],
            "type": "histogram2d"
           }
          ],
          "histogram2dcontour": [
           {
            "colorbar": {
             "outlinewidth": 0,
             "ticks": ""
            },
            "colorscale": [
             [
              0,
              "#0d0887"
             ],
             [
              0.1111111111111111,
              "#46039f"
             ],
             [
              0.2222222222222222,
              "#7201a8"
             ],
             [
              0.3333333333333333,
              "#9c179e"
             ],
             [
              0.4444444444444444,
              "#bd3786"
             ],
             [
              0.5555555555555556,
              "#d8576b"
             ],
             [
              0.6666666666666666,
              "#ed7953"
             ],
             [
              0.7777777777777778,
              "#fb9f3a"
             ],
             [
              0.8888888888888888,
              "#fdca26"
             ],
             [
              1,
              "#f0f921"
             ]
            ],
            "type": "histogram2dcontour"
           }
          ],
          "mesh3d": [
           {
            "colorbar": {
             "outlinewidth": 0,
             "ticks": ""
            },
            "type": "mesh3d"
           }
          ],
          "parcoords": [
           {
            "line": {
             "colorbar": {
              "outlinewidth": 0,
              "ticks": ""
             }
            },
            "type": "parcoords"
           }
          ],
          "pie": [
           {
            "automargin": true,
            "type": "pie"
           }
          ],
          "scatter": [
           {
            "fillpattern": {
             "fillmode": "overlay",
             "size": 10,
             "solidity": 0.2
            },
            "type": "scatter"
           }
          ],
          "scatter3d": [
           {
            "line": {
             "colorbar": {
              "outlinewidth": 0,
              "ticks": ""
             }
            },
            "marker": {
             "colorbar": {
              "outlinewidth": 0,
              "ticks": ""
             }
            },
            "type": "scatter3d"
           }
          ],
          "scattercarpet": [
           {
            "marker": {
             "colorbar": {
              "outlinewidth": 0,
              "ticks": ""
             }
            },
            "type": "scattercarpet"
           }
          ],
          "scattergeo": [
           {
            "marker": {
             "colorbar": {
              "outlinewidth": 0,
              "ticks": ""
             }
            },
            "type": "scattergeo"
           }
          ],
          "scattergl": [
           {
            "marker": {
             "colorbar": {
              "outlinewidth": 0,
              "ticks": ""
             }
            },
            "type": "scattergl"
           }
          ],
          "scattermapbox": [
           {
            "marker": {
             "colorbar": {
              "outlinewidth": 0,
              "ticks": ""
             }
            },
            "type": "scattermapbox"
           }
          ],
          "scatterpolar": [
           {
            "marker": {
             "colorbar": {
              "outlinewidth": 0,
              "ticks": ""
             }
            },
            "type": "scatterpolar"
           }
          ],
          "scatterpolargl": [
           {
            "marker": {
             "colorbar": {
              "outlinewidth": 0,
              "ticks": ""
             }
            },
            "type": "scatterpolargl"
           }
          ],
          "scatterternary": [
           {
            "marker": {
             "colorbar": {
              "outlinewidth": 0,
              "ticks": ""
             }
            },
            "type": "scatterternary"
           }
          ],
          "surface": [
           {
            "colorbar": {
             "outlinewidth": 0,
             "ticks": ""
            },
            "colorscale": [
             [
              0,
              "#0d0887"
             ],
             [
              0.1111111111111111,
              "#46039f"
             ],
             [
              0.2222222222222222,
              "#7201a8"
             ],
             [
              0.3333333333333333,
              "#9c179e"
             ],
             [
              0.4444444444444444,
              "#bd3786"
             ],
             [
              0.5555555555555556,
              "#d8576b"
             ],
             [
              0.6666666666666666,
              "#ed7953"
             ],
             [
              0.7777777777777778,
              "#fb9f3a"
             ],
             [
              0.8888888888888888,
              "#fdca26"
             ],
             [
              1,
              "#f0f921"
             ]
            ],
            "type": "surface"
           }
          ],
          "table": [
           {
            "cells": {
             "fill": {
              "color": "#EBF0F8"
             },
             "line": {
              "color": "white"
             }
            },
            "header": {
             "fill": {
              "color": "#C8D4E3"
             },
             "line": {
              "color": "white"
             }
            },
            "type": "table"
           }
          ]
         },
         "layout": {
          "annotationdefaults": {
           "arrowcolor": "#2a3f5f",
           "arrowhead": 0,
           "arrowwidth": 1
          },
          "autotypenumbers": "strict",
          "coloraxis": {
           "colorbar": {
            "outlinewidth": 0,
            "ticks": ""
           }
          },
          "colorscale": {
           "diverging": [
            [
             0,
             "#8e0152"
            ],
            [
             0.1,
             "#c51b7d"
            ],
            [
             0.2,
             "#de77ae"
            ],
            [
             0.3,
             "#f1b6da"
            ],
            [
             0.4,
             "#fde0ef"
            ],
            [
             0.5,
             "#f7f7f7"
            ],
            [
             0.6,
             "#e6f5d0"
            ],
            [
             0.7,
             "#b8e186"
            ],
            [
             0.8,
             "#7fbc41"
            ],
            [
             0.9,
             "#4d9221"
            ],
            [
             1,
             "#276419"
            ]
           ],
           "sequential": [
            [
             0,
             "#0d0887"
            ],
            [
             0.1111111111111111,
             "#46039f"
            ],
            [
             0.2222222222222222,
             "#7201a8"
            ],
            [
             0.3333333333333333,
             "#9c179e"
            ],
            [
             0.4444444444444444,
             "#bd3786"
            ],
            [
             0.5555555555555556,
             "#d8576b"
            ],
            [
             0.6666666666666666,
             "#ed7953"
            ],
            [
             0.7777777777777778,
             "#fb9f3a"
            ],
            [
             0.8888888888888888,
             "#fdca26"
            ],
            [
             1,
             "#f0f921"
            ]
           ],
           "sequentialminus": [
            [
             0,
             "#0d0887"
            ],
            [
             0.1111111111111111,
             "#46039f"
            ],
            [
             0.2222222222222222,
             "#7201a8"
            ],
            [
             0.3333333333333333,
             "#9c179e"
            ],
            [
             0.4444444444444444,
             "#bd3786"
            ],
            [
             0.5555555555555556,
             "#d8576b"
            ],
            [
             0.6666666666666666,
             "#ed7953"
            ],
            [
             0.7777777777777778,
             "#fb9f3a"
            ],
            [
             0.8888888888888888,
             "#fdca26"
            ],
            [
             1,
             "#f0f921"
            ]
           ]
          },
          "colorway": [
           "#636efa",
           "#EF553B",
           "#00cc96",
           "#ab63fa",
           "#FFA15A",
           "#19d3f3",
           "#FF6692",
           "#B6E880",
           "#FF97FF",
           "#FECB52"
          ],
          "font": {
           "color": "#2a3f5f"
          },
          "geo": {
           "bgcolor": "white",
           "lakecolor": "white",
           "landcolor": "#E5ECF6",
           "showlakes": true,
           "showland": true,
           "subunitcolor": "white"
          },
          "hoverlabel": {
           "align": "left"
          },
          "hovermode": "closest",
          "mapbox": {
           "style": "light"
          },
          "paper_bgcolor": "white",
          "plot_bgcolor": "#E5ECF6",
          "polar": {
           "angularaxis": {
            "gridcolor": "white",
            "linecolor": "white",
            "ticks": ""
           },
           "bgcolor": "#E5ECF6",
           "radialaxis": {
            "gridcolor": "white",
            "linecolor": "white",
            "ticks": ""
           }
          },
          "scene": {
           "xaxis": {
            "backgroundcolor": "#E5ECF6",
            "gridcolor": "white",
            "gridwidth": 2,
            "linecolor": "white",
            "showbackground": true,
            "ticks": "",
            "zerolinecolor": "white"
           },
           "yaxis": {
            "backgroundcolor": "#E5ECF6",
            "gridcolor": "white",
            "gridwidth": 2,
            "linecolor": "white",
            "showbackground": true,
            "ticks": "",
            "zerolinecolor": "white"
           },
           "zaxis": {
            "backgroundcolor": "#E5ECF6",
            "gridcolor": "white",
            "gridwidth": 2,
            "linecolor": "white",
            "showbackground": true,
            "ticks": "",
            "zerolinecolor": "white"
           }
          },
          "shapedefaults": {
           "line": {
            "color": "#2a3f5f"
           }
          },
          "ternary": {
           "aaxis": {
            "gridcolor": "white",
            "linecolor": "white",
            "ticks": ""
           },
           "baxis": {
            "gridcolor": "white",
            "linecolor": "white",
            "ticks": ""
           },
           "bgcolor": "#E5ECF6",
           "caxis": {
            "gridcolor": "white",
            "linecolor": "white",
            "ticks": ""
           }
          },
          "title": {
           "x": 0.05
          },
          "xaxis": {
           "automargin": true,
           "gridcolor": "white",
           "linecolor": "white",
           "ticks": "",
           "title": {
            "standoff": 15
           },
           "zerolinecolor": "white",
           "zerolinewidth": 2
          },
          "yaxis": {
           "automargin": true,
           "gridcolor": "white",
           "linecolor": "white",
           "ticks": "",
           "title": {
            "standoff": 15
           },
           "zerolinecolor": "white",
           "zerolinewidth": 2
          }
         }
        },
        "uniformtext": {
         "minsize": 20,
         "mode": "show"
        },
        "width": 1200,
        "xaxis": {
         "tickmode": "array",
         "ticktext": [
          "10k",
          "100k",
          "1m",
          "10m",
          "20m"
         ],
         "tickvals": [
          10000,
          100000,
          1000000,
          10000000,
          50000000
         ],
         "title": {
          "font": {
           "color": "black",
           "family": "Arial, sans-serif",
           "size": 25,
           "weight": "bold"
          },
          "text": "Sales Volume (USD)"
         },
         "type": "log"
        },
        "yaxis": {
         "range": [
          -10000,
          60778.86898787945
         ],
         "ticktext": [
          "0",
          "10k",
          "20k",
          "30k",
          "40k",
          "50k",
          "60k"
         ],
         "tickvals": [
          0,
          10000,
          20000,
          30000,
          40000,
          50000,
          60000
         ],
         "title": {
          "font": {
           "color": "black",
           "family": "Arial, sans-serif",
           "size": 25,
           "weight": "bold"
          },
          "text": "Average Sale Price (USD)"
         }
        }
       }
      }
     },
     "metadata": {},
     "output_type": "display_data"
    }
   ],
   "source": [
    "network_mapping = {network: idx for idx, network in enumerate(projects_by_vol['NETWORK'].unique())}\n",
    "projects_by_vol['NETWORK_NUM'] = projects_by_vol['NETWORK'].map(network_mapping)\n",
    "\n",
    "max_volume = projects_by_vol['VOLUME'].max()\n",
    "sizeref = 0.15 * max_volume / (40.**2)  # Scale marker sizes\n",
    "\n",
    "# Function to check overlap\n",
    "def is_overlapping(annotation, used_annotations, threshold=50):\n",
    "    for ann in used_annotations:\n",
    "        if abs(annotation['x'] - ann['x']) < threshold and abs(annotation['y'] - ann['y']) < threshold:\n",
    "            return True\n",
    "    return False\n",
    "\n",
    "\n",
    "fig = go.Figure()\n",
    "\n",
    "# Add traces for each network\n",
    "for network in legend_order:\n",
    "    network_df = projects_by_vol[projects_by_vol['NETWORK'] == network]\n",
    "    fig.add_trace(\n",
    "        go.Scatter(\n",
    "            x=network_df['VOLUME'],\n",
    "            y=network_df['AVERAGE_SALE'],  # Use average sale price as y-axis\n",
    "            mode='markers+text',\n",
    "            name=network,\n",
    "            marker=dict(\n",
    "                size=network_df['VOLUME'],  # Set size based on VOLUME\n",
    "                sizemode='area',\n",
    "                sizeref=sizeref,  # Reference for scaling\n",
    "                sizemin=6,\n",
    "                color=color_map.get(network, 'black')\n",
    "            ),\n",
    "            \n",
    "            # text=network_df['PROJECT_NAME'],\n",
    "            # textposition='top center',\n",
    "            # textfont=dict(size=8)\n",
    "            \n",
    "        )\n",
    "    )\n",
    "\n",
    "used_annotations = []\n",
    "# Manually set annotations for largest and smallest data points, and for a specific collection\n",
    "for network in projects_by_vol['NETWORK'].unique():\n",
    "    network_df = projects_by_vol[projects_by_vol['NETWORK'] == network]\n",
    "\n",
    "    # Find the largest and smallest points\n",
    "    largest = network_df.loc[network_df['VOLUME'].idxmax()]\n",
    "    smallest = network_df.loc[network_df['VOLUME'].idxmin()]\n",
    "\n",
    "    network_df = network_df[network_df['PROJECT_NAME'] != 'OnChainShiba']\n",
    "    \n",
    "    \n",
    "    \n",
    "    # Define manual adjustments for each point\n",
    "    adjustments = {\n",
    "        'largest': {'ax': 20, 'ay': -40},\n",
    "        'smallest': {'ax': -20, 'ay': 30}\n",
    "    }\n",
    "    \n",
    "    for point, adjustment in zip([largest, smallest], ['largest', 'smallest']):\n",
    "        if point['PROJECT_NAME'] in(['OnChainShiba','OP Dragons']):\n",
    "            continue  # Skip OnChainShiba\n",
    "        x_pos = math.log10(point['VOLUME'])\n",
    "        y_pos = point['AVERAGE_SALE']\n",
    "        \n",
    "        annotation = dict(\n",
    "            x=x_pos,\n",
    "            y=y_pos,\n",
    "            text=f\"{point['PROJECT_NAME']} ({clean_value(point['VOLUME'])})\",\n",
    "            showarrow=True,\n",
    "            arrowhead=2,\n",
    "            ax=adjustments[adjustment]['ax'],\n",
    "            ay=adjustments[adjustment]['ay'],\n",
    "            font=dict(size=20, color='black', family='Arial, sans-serif', weight='bold'),\n",
    "            bgcolor='rgba(255, 255, 255, 0.8)',\n",
    "            bordercolor='black',\n",
    "            borderwidth=1\n",
    "        )\n",
    "        \n",
    "        used_annotations.append(annotation)\n",
    "        fig.add_annotation(annotation)\n",
    "\n",
    "# Add specific annotation for \"onchainshiba\"\n",
    "onchainshiba_df = projects_by_vol[projects_by_vol['PROJECT_NAME'] == 'OnChainShiba']\n",
    "if not onchainshiba_df.empty:\n",
    "    point = onchainshiba_df.iloc[0]\n",
    "    x_pos = math.log10(point['VOLUME'])\n",
    "    y_pos = point['AVERAGE_SALE']\n",
    "    \n",
    "    fig.add_annotation(\n",
    "        x=x_pos,\n",
    "        y=y_pos,\n",
    "        text=f\"{point['PROJECT_NAME']} ({clean_value(point['VOLUME'])})\",\n",
    "        showarrow=True,\n",
    "        arrowhead=2,\n",
    "        ax=-30,  # Manually set ax for \"onchainshiba\"\n",
    "        ay=-30, # Manually set ay for \"onchainshiba\"\n",
    "        font=dict(size=20, color='black', family='Arial, sans-serif', weight='bold'),\n",
    "        bgcolor='rgba(255, 255, 255, 0.8)',\n",
    "        bordercolor='black',\n",
    "        borderwidth=1\n",
    "    )\n",
    "\n",
    "# Add specific annotation for \"onchainshiba\"\n",
    "opdragons_df = projects_by_vol[projects_by_vol['PROJECT_NAME'] == 'OP Dragons']\n",
    "if not opdragons_df.empty:\n",
    "    point = opdragons_df.iloc[0]\n",
    "    x_pos = math.log10(point['VOLUME'])\n",
    "    y_pos = point['AVERAGE_SALE']\n",
    "    \n",
    "    fig.add_annotation(\n",
    "        x=x_pos,\n",
    "        y=y_pos,\n",
    "        text=f\"{point['PROJECT_NAME']} ({clean_value(point['VOLUME'])})\",\n",
    "        showarrow=True,\n",
    "        arrowhead=2,\n",
    "        ax=-40,  # Manually set ax for \"onchainshiba\"\n",
    "        ay=-60, # Manually set ay for \"onchainshiba\"\n",
    "        font=dict(size=20, color='black', family='Arial, sans-serif', weight='bold'),\n",
    "        bgcolor='rgba(255, 255, 255, 0.8)',\n",
    "        bordercolor='black',\n",
    "        borderwidth=1\n",
    "    )\n",
    "\n",
    "\n",
    "# Update layout\n",
    "fig.update_layout(\n",
    "    showlegend=True,\n",
    "    xaxis_type=\"log\",\n",
    "    xaxis=dict(\n",
    "        tickmode='array',  # Use this to set specific ticks\n",
    "        tickvals=[1e4, 1e5, 1e6, 1e7, 5e7],  # Example tick values (adjust as needed)\n",
    "        ticktext=['10k', '100k', '1m', '10m', '20m']  # Custom tick labels\n",
    "    ),\n",
    "    yaxis=dict(\n",
    "        range=[-10000, projects_by_vol['AVERAGE_SALE'].max() * 1.15],  # Provide space below\n",
    "        tickvals=[0, 10000, 20000,30000,40000,50000,60000],  # Customize tick values\n",
    "        ticktext=['0', '10k', '20k', '30k', '40k', '50k', '60k']  # Customize tick labels to avoid negative values\n",
    "    ),\n",
    "    \n",
    "    uniformtext=dict(mode=\"show\", minsize=20),  # Adjust minsize as needed\n",
    "    font=dict(size=20, family=\"Arial, sans-serif\"),\n",
    "    plot_bgcolor='#f4f4f4',\n",
    "    paper_bgcolor='#f4f4f4'\n",
    ")\n",
    "\n",
    "fig.update_layout(\n",
    "    xaxis_title=dict(\n",
    "        text=\"Sales Volume (USD)\",\n",
    "        font=dict(size=25, family=\"Arial, sans-serif\", weight=\"bold\", color='black')\n",
    "    ),\n",
    "    yaxis_title=dict(\n",
    "        text=\"Average Sale Price (USD)\",\n",
    "        font=dict(size=25, family=\"Arial, sans-serif\", weight=\"bold\", color='black')\n",
    "    )\n",
    ")\n",
    "# fig.update_layout(\n",
    "#     title={\n",
    "#         'text': 'Top OpenSea Collections by Volume, Q2 2024',\n",
    "#         'font': {\n",
    "#             'family': 'Arial, sans-serif',  # You can specify the font family\n",
    "#             'size': 24,  # Adjust the font size as needed\n",
    "#             'color': 'Black'  # Adjust the font color as needed\n",
    "#         }\n",
    "#     }\n",
    "# )\n",
    "\n",
    "fig.update_layout(\n",
    "    width=1200,  # Adjust as needed\n",
    "    height=600,  # Adjust as needed\n",
    "    # margin=dict(\n",
    "    #     l=50,  # Left margin\n",
    "    #     r=50,  # Right margin\n",
    "    #     t=100,  # Top margin\n",
    "    #     b=50   # Bottom margin\n",
    "    # )\n",
    ")\n",
    "\n",
    "fig.show()\n",
    "\n",
    "pio.write_image(fig, 'img/Top OpenSea Collections By Volume.png', scale=3)\n",
    "\n",
    "\n",
    "\n"
   ]
  },
  {
   "cell_type": "markdown",
   "metadata": {},
   "source": [
    "Can analyze vm.box domain sale as largest sale for 3dns in last quarter \n",
    "\n",
    "\"The highest sold on-chain DNS domain sale to date is watch.box, sold on May 6, 2024, for 23.59 ETH / $73,644, from the 3DNS collection.  Blockexplorer: https://optimistic.etherscan.io/tx/0xb18bea2b0f22cfbc496acae79853a3b974c3afc6fe99f564d648b3499bce4df7 \n",
    "\n",
    "Get uniform colors for each layer, each network"
   ]
  },
  {
   "cell_type": "markdown",
   "metadata": {},
   "source": []
  }
 ],
 "metadata": {
  "kernelspec": {
   "display_name": "opensea analysis",
   "language": "python",
   "name": "opensea_analysis"
  },
  "language_info": {
   "codemirror_mode": {
    "name": "ipython",
    "version": 3
   },
   "file_extension": ".py",
   "mimetype": "text/x-python",
   "name": "python",
   "nbconvert_exporter": "python",
   "pygments_lexer": "ipython3",
   "version": "3.11.9"
  }
 },
 "nbformat": 4,
 "nbformat_minor": 2
}
